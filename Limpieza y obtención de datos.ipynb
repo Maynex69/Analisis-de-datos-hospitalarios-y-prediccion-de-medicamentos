{
  "nbformat": 4,
  "nbformat_minor": 0,
  "metadata": {
    "colab": {
      "provenance": [],
      "authorship_tag": "ABX9TyPa5zVxEXdgiOSsoGkvQcEc",
      "include_colab_link": true
    },
    "kernelspec": {
      "name": "python3",
      "display_name": "Python 3"
    },
    "language_info": {
      "name": "python"
    }
  },
  "cells": [
    {
      "cell_type": "markdown",
      "metadata": {
        "id": "view-in-github",
        "colab_type": "text"
      },
      "source": [
        "<a href=\"https://colab.research.google.com/github/Maynex69/Gestion-de-ingresos-hospitalarios/blob/main/Limpieza%20y%20obtenci%C3%B3n%20de%20datos.ipynb\" target=\"_parent\"><img src=\"https://colab.research.google.com/assets/colab-badge.svg\" alt=\"Open In Colab\"/></a>"
      ]
    },
    {
      "cell_type": "code",
      "source": [
        "import pandas as pd\n",
        "import numpy as np\n",
        "import altair as alt\n",
        "!pip install altair_viewer\n",
        "!pip install altair vega_datasets\n",
        "\n",
        "# Carga el archivo CSV usando Polars\n",
        "df = pd.read_csv('/content/dataset.csv')"
      ],
      "metadata": {
        "id": "KMWAZHbPiaQU",
        "outputId": "469d9f98-a0f8-4c65-f758-0cb45449b589",
        "colab": {
          "base_uri": "https://localhost:8080/",
          "height": 1000
        }
      },
      "execution_count": 9,
      "outputs": [
        {
          "output_type": "stream",
          "name": "stdout",
          "text": [
            "Requirement already satisfied: altair_viewer in /usr/local/lib/python3.10/dist-packages (0.4.0)\n",
            "Requirement already satisfied: altair in /usr/local/lib/python3.10/dist-packages (from altair_viewer) (4.2.2)\n",
            "Requirement already satisfied: altair-data-server>=0.4.0 in /usr/local/lib/python3.10/dist-packages (from altair_viewer) (0.4.1)\n",
            "Requirement already satisfied: portpicker in /usr/local/lib/python3.10/dist-packages (from altair-data-server>=0.4.0->altair_viewer) (1.5.2)\n",
            "Requirement already satisfied: tornado in /usr/local/lib/python3.10/dist-packages (from altair-data-server>=0.4.0->altair_viewer) (6.3.3)\n",
            "Requirement already satisfied: entrypoints in /usr/local/lib/python3.10/dist-packages (from altair->altair_viewer) (0.4)\n",
            "Requirement already satisfied: jinja2 in /usr/local/lib/python3.10/dist-packages (from altair->altair_viewer) (3.1.4)\n",
            "Requirement already satisfied: jsonschema>=3.0 in /usr/local/lib/python3.10/dist-packages (from altair->altair_viewer) (4.23.0)\n",
            "Requirement already satisfied: numpy in /usr/local/lib/python3.10/dist-packages (from altair->altair_viewer) (1.26.4)\n",
            "Requirement already satisfied: pandas>=0.18 in /usr/local/lib/python3.10/dist-packages (from altair->altair_viewer) (2.1.4)\n",
            "Requirement already satisfied: toolz in /usr/local/lib/python3.10/dist-packages (from altair->altair_viewer) (0.12.1)\n",
            "Requirement already satisfied: attrs>=22.2.0 in /usr/local/lib/python3.10/dist-packages (from jsonschema>=3.0->altair->altair_viewer) (24.2.0)\n",
            "Requirement already satisfied: jsonschema-specifications>=2023.03.6 in /usr/local/lib/python3.10/dist-packages (from jsonschema>=3.0->altair->altair_viewer) (2023.12.1)\n",
            "Requirement already satisfied: referencing>=0.28.4 in /usr/local/lib/python3.10/dist-packages (from jsonschema>=3.0->altair->altair_viewer) (0.35.1)\n",
            "Requirement already satisfied: rpds-py>=0.7.1 in /usr/local/lib/python3.10/dist-packages (from jsonschema>=3.0->altair->altair_viewer) (0.20.0)\n",
            "Requirement already satisfied: python-dateutil>=2.8.2 in /usr/local/lib/python3.10/dist-packages (from pandas>=0.18->altair->altair_viewer) (2.8.2)\n",
            "Requirement already satisfied: pytz>=2020.1 in /usr/local/lib/python3.10/dist-packages (from pandas>=0.18->altair->altair_viewer) (2024.2)\n",
            "Requirement already satisfied: tzdata>=2022.1 in /usr/local/lib/python3.10/dist-packages (from pandas>=0.18->altair->altair_viewer) (2024.1)\n",
            "Requirement already satisfied: MarkupSafe>=2.0 in /usr/local/lib/python3.10/dist-packages (from jinja2->altair->altair_viewer) (2.1.5)\n",
            "Requirement already satisfied: psutil in /usr/local/lib/python3.10/dist-packages (from portpicker->altair-data-server>=0.4.0->altair_viewer) (5.9.5)\n",
            "Requirement already satisfied: six>=1.5 in /usr/local/lib/python3.10/dist-packages (from python-dateutil>=2.8.2->pandas>=0.18->altair->altair_viewer) (1.16.0)\n",
            "Requirement already satisfied: altair in /usr/local/lib/python3.10/dist-packages (4.2.2)\n",
            "Requirement already satisfied: vega_datasets in /usr/local/lib/python3.10/dist-packages (0.9.0)\n",
            "Requirement already satisfied: entrypoints in /usr/local/lib/python3.10/dist-packages (from altair) (0.4)\n",
            "Requirement already satisfied: jinja2 in /usr/local/lib/python3.10/dist-packages (from altair) (3.1.4)\n",
            "Requirement already satisfied: jsonschema>=3.0 in /usr/local/lib/python3.10/dist-packages (from altair) (4.23.0)\n",
            "Requirement already satisfied: numpy in /usr/local/lib/python3.10/dist-packages (from altair) (1.26.4)\n",
            "Requirement already satisfied: pandas>=0.18 in /usr/local/lib/python3.10/dist-packages (from altair) (2.1.4)\n",
            "Requirement already satisfied: toolz in /usr/local/lib/python3.10/dist-packages (from altair) (0.12.1)\n",
            "Requirement already satisfied: attrs>=22.2.0 in /usr/local/lib/python3.10/dist-packages (from jsonschema>=3.0->altair) (24.2.0)\n",
            "Requirement already satisfied: jsonschema-specifications>=2023.03.6 in /usr/local/lib/python3.10/dist-packages (from jsonschema>=3.0->altair) (2023.12.1)\n",
            "Requirement already satisfied: referencing>=0.28.4 in /usr/local/lib/python3.10/dist-packages (from jsonschema>=3.0->altair) (0.35.1)\n",
            "Requirement already satisfied: rpds-py>=0.7.1 in /usr/local/lib/python3.10/dist-packages (from jsonschema>=3.0->altair) (0.20.0)\n",
            "Requirement already satisfied: python-dateutil>=2.8.2 in /usr/local/lib/python3.10/dist-packages (from pandas>=0.18->altair) (2.8.2)\n",
            "Requirement already satisfied: pytz>=2020.1 in /usr/local/lib/python3.10/dist-packages (from pandas>=0.18->altair) (2024.2)\n",
            "Requirement already satisfied: tzdata>=2022.1 in /usr/local/lib/python3.10/dist-packages (from pandas>=0.18->altair) (2024.1)\n",
            "Requirement already satisfied: MarkupSafe>=2.0 in /usr/local/lib/python3.10/dist-packages (from jinja2->altair) (2.1.5)\n",
            "Requirement already satisfied: six>=1.5 in /usr/local/lib/python3.10/dist-packages (from python-dateutil>=2.8.2->pandas>=0.18->altair) (1.16.0)\n"
          ]
        },
        {
          "output_type": "error",
          "ename": "FileNotFoundError",
          "evalue": "[Errno 2] No such file or directory: '/content/dataset.csv'",
          "traceback": [
            "\u001b[0;31m---------------------------------------------------------------------------\u001b[0m",
            "\u001b[0;31mFileNotFoundError\u001b[0m                         Traceback (most recent call last)",
            "\u001b[0;32m<ipython-input-9-7d0570c737e8>\u001b[0m in \u001b[0;36m<cell line: 8>\u001b[0;34m()\u001b[0m\n\u001b[1;32m      6\u001b[0m \u001b[0;34m\u001b[0m\u001b[0m\n\u001b[1;32m      7\u001b[0m \u001b[0;31m# Carga el archivo CSV usando Polars\u001b[0m\u001b[0;34m\u001b[0m\u001b[0;34m\u001b[0m\u001b[0m\n\u001b[0;32m----> 8\u001b[0;31m \u001b[0mdf\u001b[0m \u001b[0;34m=\u001b[0m \u001b[0mpd\u001b[0m\u001b[0;34m.\u001b[0m\u001b[0mread_csv\u001b[0m\u001b[0;34m(\u001b[0m\u001b[0;34m'/content/dataset.csv'\u001b[0m\u001b[0;34m)\u001b[0m\u001b[0;34m\u001b[0m\u001b[0;34m\u001b[0m\u001b[0m\n\u001b[0m",
            "\u001b[0;32m/usr/local/lib/python3.10/dist-packages/pandas/io/parsers/readers.py\u001b[0m in \u001b[0;36mread_csv\u001b[0;34m(filepath_or_buffer, sep, delimiter, header, names, index_col, usecols, dtype, engine, converters, true_values, false_values, skipinitialspace, skiprows, skipfooter, nrows, na_values, keep_default_na, na_filter, verbose, skip_blank_lines, parse_dates, infer_datetime_format, keep_date_col, date_parser, date_format, dayfirst, cache_dates, iterator, chunksize, compression, thousands, decimal, lineterminator, quotechar, quoting, doublequote, escapechar, comment, encoding, encoding_errors, dialect, on_bad_lines, delim_whitespace, low_memory, memory_map, float_precision, storage_options, dtype_backend)\u001b[0m\n\u001b[1;32m    946\u001b[0m     \u001b[0mkwds\u001b[0m\u001b[0;34m.\u001b[0m\u001b[0mupdate\u001b[0m\u001b[0;34m(\u001b[0m\u001b[0mkwds_defaults\u001b[0m\u001b[0;34m)\u001b[0m\u001b[0;34m\u001b[0m\u001b[0;34m\u001b[0m\u001b[0m\n\u001b[1;32m    947\u001b[0m \u001b[0;34m\u001b[0m\u001b[0m\n\u001b[0;32m--> 948\u001b[0;31m     \u001b[0;32mreturn\u001b[0m \u001b[0m_read\u001b[0m\u001b[0;34m(\u001b[0m\u001b[0mfilepath_or_buffer\u001b[0m\u001b[0;34m,\u001b[0m \u001b[0mkwds\u001b[0m\u001b[0;34m)\u001b[0m\u001b[0;34m\u001b[0m\u001b[0;34m\u001b[0m\u001b[0m\n\u001b[0m\u001b[1;32m    949\u001b[0m \u001b[0;34m\u001b[0m\u001b[0m\n\u001b[1;32m    950\u001b[0m \u001b[0;34m\u001b[0m\u001b[0m\n",
            "\u001b[0;32m/usr/local/lib/python3.10/dist-packages/pandas/io/parsers/readers.py\u001b[0m in \u001b[0;36m_read\u001b[0;34m(filepath_or_buffer, kwds)\u001b[0m\n\u001b[1;32m    609\u001b[0m \u001b[0;34m\u001b[0m\u001b[0m\n\u001b[1;32m    610\u001b[0m     \u001b[0;31m# Create the parser.\u001b[0m\u001b[0;34m\u001b[0m\u001b[0;34m\u001b[0m\u001b[0m\n\u001b[0;32m--> 611\u001b[0;31m     \u001b[0mparser\u001b[0m \u001b[0;34m=\u001b[0m \u001b[0mTextFileReader\u001b[0m\u001b[0;34m(\u001b[0m\u001b[0mfilepath_or_buffer\u001b[0m\u001b[0;34m,\u001b[0m \u001b[0;34m**\u001b[0m\u001b[0mkwds\u001b[0m\u001b[0;34m)\u001b[0m\u001b[0;34m\u001b[0m\u001b[0;34m\u001b[0m\u001b[0m\n\u001b[0m\u001b[1;32m    612\u001b[0m \u001b[0;34m\u001b[0m\u001b[0m\n\u001b[1;32m    613\u001b[0m     \u001b[0;32mif\u001b[0m \u001b[0mchunksize\u001b[0m \u001b[0;32mor\u001b[0m \u001b[0miterator\u001b[0m\u001b[0;34m:\u001b[0m\u001b[0;34m\u001b[0m\u001b[0;34m\u001b[0m\u001b[0m\n",
            "\u001b[0;32m/usr/local/lib/python3.10/dist-packages/pandas/io/parsers/readers.py\u001b[0m in \u001b[0;36m__init__\u001b[0;34m(self, f, engine, **kwds)\u001b[0m\n\u001b[1;32m   1446\u001b[0m \u001b[0;34m\u001b[0m\u001b[0m\n\u001b[1;32m   1447\u001b[0m         \u001b[0mself\u001b[0m\u001b[0;34m.\u001b[0m\u001b[0mhandles\u001b[0m\u001b[0;34m:\u001b[0m \u001b[0mIOHandles\u001b[0m \u001b[0;34m|\u001b[0m \u001b[0;32mNone\u001b[0m \u001b[0;34m=\u001b[0m \u001b[0;32mNone\u001b[0m\u001b[0;34m\u001b[0m\u001b[0;34m\u001b[0m\u001b[0m\n\u001b[0;32m-> 1448\u001b[0;31m         \u001b[0mself\u001b[0m\u001b[0;34m.\u001b[0m\u001b[0m_engine\u001b[0m \u001b[0;34m=\u001b[0m \u001b[0mself\u001b[0m\u001b[0;34m.\u001b[0m\u001b[0m_make_engine\u001b[0m\u001b[0;34m(\u001b[0m\u001b[0mf\u001b[0m\u001b[0;34m,\u001b[0m \u001b[0mself\u001b[0m\u001b[0;34m.\u001b[0m\u001b[0mengine\u001b[0m\u001b[0;34m)\u001b[0m\u001b[0;34m\u001b[0m\u001b[0;34m\u001b[0m\u001b[0m\n\u001b[0m\u001b[1;32m   1449\u001b[0m \u001b[0;34m\u001b[0m\u001b[0m\n\u001b[1;32m   1450\u001b[0m     \u001b[0;32mdef\u001b[0m \u001b[0mclose\u001b[0m\u001b[0;34m(\u001b[0m\u001b[0mself\u001b[0m\u001b[0;34m)\u001b[0m \u001b[0;34m->\u001b[0m \u001b[0;32mNone\u001b[0m\u001b[0;34m:\u001b[0m\u001b[0;34m\u001b[0m\u001b[0;34m\u001b[0m\u001b[0m\n",
            "\u001b[0;32m/usr/local/lib/python3.10/dist-packages/pandas/io/parsers/readers.py\u001b[0m in \u001b[0;36m_make_engine\u001b[0;34m(self, f, engine)\u001b[0m\n\u001b[1;32m   1703\u001b[0m                 \u001b[0;32mif\u001b[0m \u001b[0;34m\"b\"\u001b[0m \u001b[0;32mnot\u001b[0m \u001b[0;32min\u001b[0m \u001b[0mmode\u001b[0m\u001b[0;34m:\u001b[0m\u001b[0;34m\u001b[0m\u001b[0;34m\u001b[0m\u001b[0m\n\u001b[1;32m   1704\u001b[0m                     \u001b[0mmode\u001b[0m \u001b[0;34m+=\u001b[0m \u001b[0;34m\"b\"\u001b[0m\u001b[0;34m\u001b[0m\u001b[0;34m\u001b[0m\u001b[0m\n\u001b[0;32m-> 1705\u001b[0;31m             self.handles = get_handle(\n\u001b[0m\u001b[1;32m   1706\u001b[0m                 \u001b[0mf\u001b[0m\u001b[0;34m,\u001b[0m\u001b[0;34m\u001b[0m\u001b[0;34m\u001b[0m\u001b[0m\n\u001b[1;32m   1707\u001b[0m                 \u001b[0mmode\u001b[0m\u001b[0;34m,\u001b[0m\u001b[0;34m\u001b[0m\u001b[0;34m\u001b[0m\u001b[0m\n",
            "\u001b[0;32m/usr/local/lib/python3.10/dist-packages/pandas/io/common.py\u001b[0m in \u001b[0;36mget_handle\u001b[0;34m(path_or_buf, mode, encoding, compression, memory_map, is_text, errors, storage_options)\u001b[0m\n\u001b[1;32m    861\u001b[0m         \u001b[0;32mif\u001b[0m \u001b[0mioargs\u001b[0m\u001b[0;34m.\u001b[0m\u001b[0mencoding\u001b[0m \u001b[0;32mand\u001b[0m \u001b[0;34m\"b\"\u001b[0m \u001b[0;32mnot\u001b[0m \u001b[0;32min\u001b[0m \u001b[0mioargs\u001b[0m\u001b[0;34m.\u001b[0m\u001b[0mmode\u001b[0m\u001b[0;34m:\u001b[0m\u001b[0;34m\u001b[0m\u001b[0;34m\u001b[0m\u001b[0m\n\u001b[1;32m    862\u001b[0m             \u001b[0;31m# Encoding\u001b[0m\u001b[0;34m\u001b[0m\u001b[0;34m\u001b[0m\u001b[0m\n\u001b[0;32m--> 863\u001b[0;31m             handle = open(\n\u001b[0m\u001b[1;32m    864\u001b[0m                 \u001b[0mhandle\u001b[0m\u001b[0;34m,\u001b[0m\u001b[0;34m\u001b[0m\u001b[0;34m\u001b[0m\u001b[0m\n\u001b[1;32m    865\u001b[0m                 \u001b[0mioargs\u001b[0m\u001b[0;34m.\u001b[0m\u001b[0mmode\u001b[0m\u001b[0;34m,\u001b[0m\u001b[0;34m\u001b[0m\u001b[0;34m\u001b[0m\u001b[0m\n",
            "\u001b[0;31mFileNotFoundError\u001b[0m: [Errno 2] No such file or directory: '/content/dataset.csv'"
          ]
        }
      ]
    },
    {
      "cell_type": "code",
      "source": [
        "# Reducimos la cantidad del \"Billing Amount\" para hacer los resultados más heterogéneos.\n",
        "\n",
        "# Definir el porcentaje de filas a modificar y el nuevo valor\n",
        "porcentaje_a_modificar = 35  # Porcentaje de filas a modificar\n",
        "nuevo_valor = 10500  # Nuevo valor con el que reemplazar\n",
        "\n",
        "# Calcular el número de filas a modificar\n",
        "num_filas = len(df)\n",
        "num_filas_a_modificar = int(num_filas * porcentaje_a_modificar / 100)\n",
        "\n",
        "# Seleccionar aleatoriamente las filas a modificar\n",
        "filas_a_modificar = np.random.choice(df.index, size=num_filas_a_modificar, replace=False)\n",
        "\n",
        "# Reemplazar los valores en las filas seleccionadas\n",
        "df.loc[filas_a_modificar, 'Billing Amount'] = nuevo_valor\n"
      ],
      "metadata": {
        "id": "NdobmySqwN6W",
        "colab": {
          "base_uri": "https://localhost:8080/",
          "height": 211
        },
        "outputId": "caa5b20f-b062-4746-a133-0cb3c45bb43e"
      },
      "execution_count": 10,
      "outputs": [
        {
          "output_type": "error",
          "ename": "NameError",
          "evalue": "name 'df' is not defined",
          "traceback": [
            "\u001b[0;31m---------------------------------------------------------------------------\u001b[0m",
            "\u001b[0;31mNameError\u001b[0m                                 Traceback (most recent call last)",
            "\u001b[0;32m<ipython-input-10-f550e0741c22>\u001b[0m in \u001b[0;36m<cell line: 8>\u001b[0;34m()\u001b[0m\n\u001b[1;32m      6\u001b[0m \u001b[0;34m\u001b[0m\u001b[0m\n\u001b[1;32m      7\u001b[0m \u001b[0;31m# Calcular el número de filas a modificar\u001b[0m\u001b[0;34m\u001b[0m\u001b[0;34m\u001b[0m\u001b[0m\n\u001b[0;32m----> 8\u001b[0;31m \u001b[0mnum_filas\u001b[0m \u001b[0;34m=\u001b[0m \u001b[0mlen\u001b[0m\u001b[0;34m(\u001b[0m\u001b[0mdf\u001b[0m\u001b[0;34m)\u001b[0m\u001b[0;34m\u001b[0m\u001b[0;34m\u001b[0m\u001b[0m\n\u001b[0m\u001b[1;32m      9\u001b[0m \u001b[0mnum_filas_a_modificar\u001b[0m \u001b[0;34m=\u001b[0m \u001b[0mint\u001b[0m\u001b[0;34m(\u001b[0m\u001b[0mnum_filas\u001b[0m \u001b[0;34m*\u001b[0m \u001b[0mporcentaje_a_modificar\u001b[0m \u001b[0;34m/\u001b[0m \u001b[0;36m100\u001b[0m\u001b[0;34m)\u001b[0m\u001b[0;34m\u001b[0m\u001b[0;34m\u001b[0m\u001b[0m\n\u001b[1;32m     10\u001b[0m \u001b[0;34m\u001b[0m\u001b[0m\n",
            "\u001b[0;31mNameError\u001b[0m: name 'df' is not defined"
          ]
        }
      ]
    },
    {
      "cell_type": "code",
      "execution_count": null,
      "metadata": {
        "id": "S3MIvJa38KPh"
      },
      "outputs": [],
      "source": [
        "\n",
        "#Transformación de datos\n",
        "df['Date of Admission'] = pd.to_datetime(df['Date of Admission'])\n",
        "df['Discharge Date'] = pd.to_datetime(df['Discharge Date'])\n",
        "\n",
        "# Elimina las columnas no necesarias\n",
        "df_dropped = df.drop(columns=['Doctor', 'Hospital', 'Room Number', 'Name', 'Test Results' ])\n",
        "\n",
        "#En este punto me di cuenta de que el Dataset tenía prácticamente la misma\n",
        "#cantidad de pacientes por cada enfermedad, así que decidí borrar una cantidad\n",
        "#al azar para que fuera un escenario más diverso.\n",
        "\n",
        "porcentajes = {\n",
        "    'Female': 0.12,\n",
        "    'Male': 0.26\n",
        "}\n",
        "\n",
        "indices_a_eliminar = []\n",
        "\n",
        "for valor, porcentaje in porcentajes.items():\n",
        "  filas_objeto = df_dropped[df_dropped['Gender'] == valor]\n",
        "  num_filas_a_eliminar = int(len(filas_objeto) * porcentaje)\n",
        "  filas_a_eliminar_aleatorias = filas_objeto.sample(n=num_filas_a_eliminar, random_state=1)\n",
        "  indices_a_eliminar.extend(filas_a_eliminar_aleatorias.index)\n",
        "\n",
        "df_modificado = df_dropped.drop(index=indices_a_eliminar)\n",
        "\n",
        "#Ahora tenemos un nuevo dataframe con datos más aleatorizados para el desarrollo del modelo\n",
        "#Lamentablemente el resto de las columnas sigue teniendo valores muy similares\n",
        "\n"
      ]
    },
    {
      "cell_type": "code",
      "source": [
        "#Reducción del número de aseguradoras\n",
        "\n",
        "porcentajes_insurance = {\n",
        "    'Cigna': 0.32,\n",
        "    'Medicare': 0.26,\n",
        "    'Aetna' : 0.18,\n",
        "    'UnitedHealthcare': 0.12,\n",
        "    'Blue Cross': 0.4\n",
        "}\n",
        "\n",
        "indices_a_eliminar = []\n",
        "\n",
        "for valor, porcentaje in porcentajes_insurance.items():\n",
        "  filas_objeto1 = df_modificado[df_modificado['Insurance Provider'] == valor]\n",
        "  num_filas_a_eliminar1 = int(len(filas_objeto1) * porcentaje)\n",
        "  filas_a_eliminar_aleatorias1 = filas_objeto1.sample(n=num_filas_a_eliminar1, random_state=1)\n",
        "  indices_a_eliminar.extend(filas_a_eliminar_aleatorias1.index)\n",
        "\n",
        "  df_modificado1 = df_modificado.drop(index=indices_a_eliminar)\n"
      ],
      "metadata": {
        "id": "SBoguM0CZZ_C"
      },
      "execution_count": null,
      "outputs": []
    },
    {
      "cell_type": "code",
      "source": [
        "#Reducción del porcentaje de condiciones médicas\n",
        "\n",
        "porcentajes_p = {\n",
        "    'Diabetes':0.16,\n",
        "    'Obesity':0.2,\n",
        "    'Cancer':0.7,\n",
        "    'Hypertension':0.3\n",
        "}\n",
        "\n",
        "indices_a_eliminar = []\n",
        "\n",
        "for valor, porcentaje in porcentajes_p.items():\n",
        "  filas_objeto2 = df_modificado1[df_modificado1['Medical Condition'] == valor]\n",
        "  num_filas_a_eliminar2 = int(len(filas_objeto2) * porcentaje)\n",
        "  filas_a_eliminar_aleatorias2 = filas_objeto2.sample(n=num_filas_a_eliminar2, random_state=1)\n",
        "  indices_a_eliminar.extend(filas_a_eliminar_aleatorias2.index)\n",
        "\n",
        "  df_modificado2 = df_modificado1.drop(index=indices_a_eliminar)\n",
        "\n"
      ],
      "metadata": {
        "id": "CNFQaBznf_hy"
      },
      "execution_count": null,
      "outputs": []
    },
    {
      "cell_type": "code",
      "source": [
        "#Reducción del número de medicamentos\n",
        "\n",
        "porcentajes_m = {\n",
        "    'Penicillin':0.3,\n",
        "    'Ibuprofen':0.4,\n",
        "    'Aspirin':0.27,\n",
        "    'Lipitor':0.2,\n",
        "    'Paracetamol':0.8\n",
        "}\n",
        "\n",
        "indices_a_eliminar = []\n",
        "\n",
        "for valor, porcentaje in porcentajes_m.items():\n",
        "  filas_objeto3 = df_modificado2[df_modificado2['Medication'] == valor]\n",
        "  num_filas_a_eliminar3 = int(len(filas_objeto3) * porcentaje)\n",
        "  filas_a_eliminar_aleatorias3 = filas_objeto3.sample(n=num_filas_a_eliminar3, random_state=1)\n",
        "  indices_a_eliminar.extend(filas_a_eliminar_aleatorias3.index)\n",
        "\n",
        "  df_1 = df_modificado2.drop(index=indices_a_eliminar)\n",
        "\n",
        "#Así ya tenemos preparado nuestro Dataframe\n",
        "\n"
      ],
      "metadata": {
        "id": "CwXJJEBjeOb_"
      },
      "execution_count": null,
      "outputs": []
    },
    {
      "cell_type": "markdown",
      "source": [
        "# Vsualización de datos"
      ],
      "metadata": {
        "id": "Dqiny-A1plHi"
      }
    },
    {
      "cell_type": "code",
      "source": [
        "#Visualización de las condiciones más frecuentes en los últimos 5 años\n",
        "\n",
        "import pandas as pd\n",
        "import numpy as np\n",
        "import altair as alt\n",
        "!pip install altair_viewer\n",
        "!pip install altair vega_datasets\n",
        "\n",
        "# Carga el archivo CSV usando Polars\n",
        "df_1 = pd.read_csv('/content/df.csv')\n",
        "\n",
        "#Creamos una variable que nos hable de cuántos días pasó hospitalizado el paciente\n",
        "\n",
        "df_1['Date of Admission'] = pd.to_datetime(df_1['Date of Admission'])\n",
        "\n",
        "df_1['Discharge Date'] = pd.to_datetime(df_1['Discharge Date'])\n",
        "\n",
        "df_1['Hospitalization Days'] = (df_1['Discharge Date'] - df_1['Date of Admission']).dt.days\n",
        "\n",
        "# Contar las ocurrencias de cada valor en la columna\n",
        "conteos = df_1['Medical Condition'].value_counts()\n",
        "\n",
        "# Calcular el porcentaje de cada valor\n",
        "porcentajes1 = (conteos / len(df_1)) * 100\n",
        "\n",
        "# Crear un DataFrame con los porcentajes para Altair\n",
        "df_porcentaje = porcentajes1.reset_index()\n",
        "df_porcentaje.columns = ['Condition', 'Percentage']\n",
        "\n",
        "# Total de filas\n",
        "total_filas = len(df_1)\n",
        "\n",
        "# Crear una gráfica de pastel con Altair\n",
        "grafico = alt.Chart(df_porcentaje).mark_arc(innerRadius=50).encode(\n",
        "    theta=alt.Theta(field='Percentage', type='quantitative', title='Percentage'),\n",
        "    color=alt.Color(field='Condition', type='nominal', title='Condition'),\n",
        "    tooltip=[alt.Tooltip(field='Condition', type='nominal', title='Condition'),\n",
        "             alt.Tooltip(field='Percentage', type='quantitative', title='Percentage')]\n",
        ").properties(\n",
        "    title='Income causes',\n",
        "    width=400,  # Ajusta el ancho del gráfico\n",
        "    height=400  # Ajusta la altura del gráfico\n",
        ")\n",
        "\n",
        "# Crear un DataFrame para el texto total\n",
        "df_texto_total = pd.DataFrame({\n",
        "    'x': [0],\n",
        "    'y': [0],\n",
        "    'texto': [f'Number of patients: {total_filas}']\n",
        "})\n",
        "\n",
        "# Crear el gráfico de texto\n",
        "texto_total = alt.Chart(df_texto_total).mark_text(\n",
        "    align='center',\n",
        "    baseline='middle',\n",
        "    fontSize=14,\n",
        "    dy=210  # Ajusta la posición vertical del texto\n",
        ").encode(\n",
        "    x=alt.X('x:O', axis=None),\n",
        "    y=alt.Y('y:O', axis=None),\n",
        "    text='texto:N'\n",
        ").properties(\n",
        "    width=400,  # Ancho para el gráfico de texto\n",
        "    height=400  # Altura para el gráfico de texto\n",
        ")\n",
        "\n",
        "# Combinar el gráfico de pastel y el gráfico de texto\n",
        "grafico_final = grafico + texto_total\n",
        "\n",
        "# Mostrar el gráfico en Google Colab\n",
        "grafico_final"
      ],
      "metadata": {
        "colab": {
          "base_uri": "https://localhost:8080/",
          "height": 1000
        },
        "id": "uKBS8WvUinLZ",
        "outputId": "a39abc2e-3e8f-4bb8-eb68-6ba5be5399e3"
      },
      "execution_count": 14,
      "outputs": [
        {
          "output_type": "stream",
          "name": "stdout",
          "text": [
            "Requirement already satisfied: altair_viewer in /usr/local/lib/python3.10/dist-packages (0.4.0)\n",
            "Requirement already satisfied: altair in /usr/local/lib/python3.10/dist-packages (from altair_viewer) (4.2.2)\n",
            "Requirement already satisfied: altair-data-server>=0.4.0 in /usr/local/lib/python3.10/dist-packages (from altair_viewer) (0.4.1)\n",
            "Requirement already satisfied: portpicker in /usr/local/lib/python3.10/dist-packages (from altair-data-server>=0.4.0->altair_viewer) (1.5.2)\n",
            "Requirement already satisfied: tornado in /usr/local/lib/python3.10/dist-packages (from altair-data-server>=0.4.0->altair_viewer) (6.3.3)\n",
            "Requirement already satisfied: entrypoints in /usr/local/lib/python3.10/dist-packages (from altair->altair_viewer) (0.4)\n",
            "Requirement already satisfied: jinja2 in /usr/local/lib/python3.10/dist-packages (from altair->altair_viewer) (3.1.4)\n",
            "Requirement already satisfied: jsonschema>=3.0 in /usr/local/lib/python3.10/dist-packages (from altair->altair_viewer) (4.23.0)\n",
            "Requirement already satisfied: numpy in /usr/local/lib/python3.10/dist-packages (from altair->altair_viewer) (1.26.4)\n",
            "Requirement already satisfied: pandas>=0.18 in /usr/local/lib/python3.10/dist-packages (from altair->altair_viewer) (2.1.4)\n",
            "Requirement already satisfied: toolz in /usr/local/lib/python3.10/dist-packages (from altair->altair_viewer) (0.12.1)\n",
            "Requirement already satisfied: attrs>=22.2.0 in /usr/local/lib/python3.10/dist-packages (from jsonschema>=3.0->altair->altair_viewer) (24.2.0)\n",
            "Requirement already satisfied: jsonschema-specifications>=2023.03.6 in /usr/local/lib/python3.10/dist-packages (from jsonschema>=3.0->altair->altair_viewer) (2023.12.1)\n",
            "Requirement already satisfied: referencing>=0.28.4 in /usr/local/lib/python3.10/dist-packages (from jsonschema>=3.0->altair->altair_viewer) (0.35.1)\n",
            "Requirement already satisfied: rpds-py>=0.7.1 in /usr/local/lib/python3.10/dist-packages (from jsonschema>=3.0->altair->altair_viewer) (0.20.0)\n",
            "Requirement already satisfied: python-dateutil>=2.8.2 in /usr/local/lib/python3.10/dist-packages (from pandas>=0.18->altair->altair_viewer) (2.8.2)\n",
            "Requirement already satisfied: pytz>=2020.1 in /usr/local/lib/python3.10/dist-packages (from pandas>=0.18->altair->altair_viewer) (2024.2)\n",
            "Requirement already satisfied: tzdata>=2022.1 in /usr/local/lib/python3.10/dist-packages (from pandas>=0.18->altair->altair_viewer) (2024.1)\n",
            "Requirement already satisfied: MarkupSafe>=2.0 in /usr/local/lib/python3.10/dist-packages (from jinja2->altair->altair_viewer) (2.1.5)\n",
            "Requirement already satisfied: psutil in /usr/local/lib/python3.10/dist-packages (from portpicker->altair-data-server>=0.4.0->altair_viewer) (5.9.5)\n",
            "Requirement already satisfied: six>=1.5 in /usr/local/lib/python3.10/dist-packages (from python-dateutil>=2.8.2->pandas>=0.18->altair->altair_viewer) (1.16.0)\n",
            "Requirement already satisfied: altair in /usr/local/lib/python3.10/dist-packages (4.2.2)\n",
            "Requirement already satisfied: vega_datasets in /usr/local/lib/python3.10/dist-packages (0.9.0)\n",
            "Requirement already satisfied: entrypoints in /usr/local/lib/python3.10/dist-packages (from altair) (0.4)\n",
            "Requirement already satisfied: jinja2 in /usr/local/lib/python3.10/dist-packages (from altair) (3.1.4)\n",
            "Requirement already satisfied: jsonschema>=3.0 in /usr/local/lib/python3.10/dist-packages (from altair) (4.23.0)\n",
            "Requirement already satisfied: numpy in /usr/local/lib/python3.10/dist-packages (from altair) (1.26.4)\n",
            "Requirement already satisfied: pandas>=0.18 in /usr/local/lib/python3.10/dist-packages (from altair) (2.1.4)\n",
            "Requirement already satisfied: toolz in /usr/local/lib/python3.10/dist-packages (from altair) (0.12.1)\n",
            "Requirement already satisfied: attrs>=22.2.0 in /usr/local/lib/python3.10/dist-packages (from jsonschema>=3.0->altair) (24.2.0)\n",
            "Requirement already satisfied: jsonschema-specifications>=2023.03.6 in /usr/local/lib/python3.10/dist-packages (from jsonschema>=3.0->altair) (2023.12.1)\n",
            "Requirement already satisfied: referencing>=0.28.4 in /usr/local/lib/python3.10/dist-packages (from jsonschema>=3.0->altair) (0.35.1)\n",
            "Requirement already satisfied: rpds-py>=0.7.1 in /usr/local/lib/python3.10/dist-packages (from jsonschema>=3.0->altair) (0.20.0)\n",
            "Requirement already satisfied: python-dateutil>=2.8.2 in /usr/local/lib/python3.10/dist-packages (from pandas>=0.18->altair) (2.8.2)\n",
            "Requirement already satisfied: pytz>=2020.1 in /usr/local/lib/python3.10/dist-packages (from pandas>=0.18->altair) (2024.2)\n",
            "Requirement already satisfied: tzdata>=2022.1 in /usr/local/lib/python3.10/dist-packages (from pandas>=0.18->altair) (2024.1)\n",
            "Requirement already satisfied: MarkupSafe>=2.0 in /usr/local/lib/python3.10/dist-packages (from jinja2->altair) (2.1.5)\n",
            "Requirement already satisfied: six>=1.5 in /usr/local/lib/python3.10/dist-packages (from python-dateutil>=2.8.2->pandas>=0.18->altair) (1.16.0)\n"
          ]
        },
        {
          "output_type": "stream",
          "name": "stderr",
          "text": [
            "/usr/local/lib/python3.10/dist-packages/altair/utils/core.py:384: FutureWarning: the convert_dtype parameter is deprecated and will be removed in a future version.  Do ``ser.astype(object).apply()`` instead if you want ``convert_dtype=False``.\n",
            "  col = df[col_name].apply(to_list_if_array, convert_dtype=False)\n",
            "/usr/local/lib/python3.10/dist-packages/altair/utils/core.py:384: FutureWarning: the convert_dtype parameter is deprecated and will be removed in a future version.  Do ``ser.astype(object).apply()`` instead if you want ``convert_dtype=False``.\n",
            "  col = df[col_name].apply(to_list_if_array, convert_dtype=False)\n"
          ]
        },
        {
          "output_type": "execute_result",
          "data": {
            "text/html": [
              "\n",
              "<div id=\"altair-viz-20cacae6972d40a08e7dcd3a3f4b97e6\"></div>\n",
              "<script type=\"text/javascript\">\n",
              "  var VEGA_DEBUG = (typeof VEGA_DEBUG == \"undefined\") ? {} : VEGA_DEBUG;\n",
              "  (function(spec, embedOpt){\n",
              "    let outputDiv = document.currentScript.previousElementSibling;\n",
              "    if (outputDiv.id !== \"altair-viz-20cacae6972d40a08e7dcd3a3f4b97e6\") {\n",
              "      outputDiv = document.getElementById(\"altair-viz-20cacae6972d40a08e7dcd3a3f4b97e6\");\n",
              "    }\n",
              "    const paths = {\n",
              "      \"vega\": \"https://cdn.jsdelivr.net/npm//vega@5?noext\",\n",
              "      \"vega-lib\": \"https://cdn.jsdelivr.net/npm//vega-lib?noext\",\n",
              "      \"vega-lite\": \"https://cdn.jsdelivr.net/npm//vega-lite@4.17.0?noext\",\n",
              "      \"vega-embed\": \"https://cdn.jsdelivr.net/npm//vega-embed@6?noext\",\n",
              "    };\n",
              "\n",
              "    function maybeLoadScript(lib, version) {\n",
              "      var key = `${lib.replace(\"-\", \"\")}_version`;\n",
              "      return (VEGA_DEBUG[key] == version) ?\n",
              "        Promise.resolve(paths[lib]) :\n",
              "        new Promise(function(resolve, reject) {\n",
              "          var s = document.createElement('script');\n",
              "          document.getElementsByTagName(\"head\")[0].appendChild(s);\n",
              "          s.async = true;\n",
              "          s.onload = () => {\n",
              "            VEGA_DEBUG[key] = version;\n",
              "            return resolve(paths[lib]);\n",
              "          };\n",
              "          s.onerror = () => reject(`Error loading script: ${paths[lib]}`);\n",
              "          s.src = paths[lib];\n",
              "        });\n",
              "    }\n",
              "\n",
              "    function showError(err) {\n",
              "      outputDiv.innerHTML = `<div class=\"error\" style=\"color:red;\">${err}</div>`;\n",
              "      throw err;\n",
              "    }\n",
              "\n",
              "    function displayChart(vegaEmbed) {\n",
              "      vegaEmbed(outputDiv, spec, embedOpt)\n",
              "        .catch(err => showError(`Javascript Error: ${err.message}<br>This usually means there's a typo in your chart specification. See the javascript console for the full traceback.`));\n",
              "    }\n",
              "\n",
              "    if(typeof define === \"function\" && define.amd) {\n",
              "      requirejs.config({paths});\n",
              "      require([\"vega-embed\"], displayChart, err => showError(`Error loading script: ${err.message}`));\n",
              "    } else {\n",
              "      maybeLoadScript(\"vega\", \"5\")\n",
              "        .then(() => maybeLoadScript(\"vega-lite\", \"4.17.0\"))\n",
              "        .then(() => maybeLoadScript(\"vega-embed\", \"6\"))\n",
              "        .catch(showError)\n",
              "        .then(() => displayChart(vegaEmbed));\n",
              "    }\n",
              "  })({\"config\": {\"view\": {\"continuousWidth\": 400, \"continuousHeight\": 300}}, \"layer\": [{\"data\": {\"name\": \"data-07c8089b7516cbfecf76b83a0b4e8ca9\"}, \"mark\": {\"type\": \"arc\", \"innerRadius\": 50}, \"encoding\": {\"color\": {\"field\": \"Condition\", \"title\": \"Condition\", \"type\": \"nominal\"}, \"theta\": {\"field\": \"Percentage\", \"title\": \"Percentage\", \"type\": \"quantitative\"}, \"tooltip\": [{\"field\": \"Condition\", \"title\": \"Condition\", \"type\": \"nominal\"}, {\"field\": \"Percentage\", \"title\": \"Percentage\", \"type\": \"quantitative\"}]}, \"height\": 400, \"title\": \"Income causes\", \"width\": 400}, {\"data\": {\"name\": \"data-6a11c7f075751731fea10f779adf6870\"}, \"mark\": {\"type\": \"text\", \"align\": \"center\", \"baseline\": \"middle\", \"dy\": 210, \"fontSize\": 14}, \"encoding\": {\"text\": {\"field\": \"texto\", \"type\": \"nominal\"}, \"x\": {\"axis\": null, \"field\": \"x\", \"type\": \"ordinal\"}, \"y\": {\"axis\": null, \"field\": \"y\", \"type\": \"ordinal\"}}, \"height\": 400, \"width\": 400}], \"$schema\": \"https://vega.github.io/schema/vega-lite/v4.17.0.json\", \"datasets\": {\"data-07c8089b7516cbfecf76b83a0b4e8ca9\": [{\"Condition\": \"Diabetes\", \"Percentage\": 19.91267870901464}, {\"Condition\": \"Hypertension\", \"Percentage\": 19.76500299631881}, {\"Condition\": \"Obesity\", \"Percentage\": 18.298947007961647}, {\"Condition\": \"Arthritis\", \"Percentage\": 18.262563136717745}, {\"Condition\": \"Asthma\", \"Percentage\": 14.25819707216848}, {\"Condition\": \"Cancer\", \"Percentage\": 9.502611077818681}], \"data-6a11c7f075751731fea10f779adf6870\": [{\"x\": 0, \"y\": 0, \"texto\": \"Number of patients: 46724\"}]}}, {\"mode\": \"vega-lite\"});\n",
              "</script>"
            ],
            "text/plain": [
              "alt.LayerChart(...)"
            ]
          },
          "metadata": {},
          "execution_count": 14
        }
      ]
    },
    {
      "cell_type": "markdown",
      "source": [
        "Asma: medicamentos más usados, costo total en promedio, diás de estancia en promedio..."
      ],
      "metadata": {
        "id": "mlQthgA1EIB3"
      }
    },
    {
      "cell_type": "code",
      "source": [
        "#Los tres medicamentos más utilizados en Asthma#\n",
        "\n",
        "# Filtrar las filas donde \"Medical Conditions\" es \"Asthma\"\n",
        "df_asthma = df_1[df_1['Medical Condition'] == 'Asthma']\n",
        "\n",
        "# Contar las ocurrencias de cada objeto en \"Medicamentos\"\n",
        "conteos_medicamentos = df_asthma['Medication'].value_counts()\n",
        "\n",
        "total_asthma  = len(df_asthma)\n",
        "\n",
        "# Seleccionar los 3 medicamentos más frecuentes\n",
        "top_3_medicamentos = conteos_medicamentos.head(3).reset_index()\n",
        "top_3_medicamentos.columns = ['Medication', 'Count']\n",
        "\n",
        "# Crear una gráfica de barras con Altair\n",
        "grafico_barras = alt.Chart(top_3_medicamentos).mark_bar().encode(\n",
        "    x=alt.X('Medication:O', title='Medication'),\n",
        "    y=alt.Y('Count:Q', title='Number of uses', axis=alt.Axis(format='d')),\n",
        "    color='Medication:N',\n",
        "    tooltip=[alt.Tooltip(field='Medication', type='nominal', title='Medication'),\n",
        "             alt.Tooltip(field='Count', type='quantitative', title='Number of uses')]\n",
        ").properties(\n",
        "    title='The three most used medications for \"Asthma\"',\n",
        "    width=400,  # Ajusta el ancho del gráfico\n",
        "    height=300  # Ajusta la altura del gráfico\n",
        ")\n",
        "\n",
        "# Crear un DataFrame para el texto total\n",
        "df_texto_total = pd.DataFrame({\n",
        "    'x': [0],\n",
        "    'y': [0],\n",
        "    'texto': [f'Patients with \"Asthma\": {total_asthma}']\n",
        "})\n",
        "\n",
        "# Crear el gráfico de texto\n",
        "texto_total = alt.Chart(df_texto_total).mark_text(\n",
        "    align='center',\n",
        "    baseline='bottom',\n",
        "    fontSize=14,\n",
        "    dy=170  # Ajusta la posición vertical del texto\n",
        ").encode(\n",
        "    x=alt.X('x:O', axis=None),\n",
        "    y=alt.Y('y:O', axis=None),\n",
        "    text='texto:N'\n",
        ").properties(\n",
        "    width=400,  # Ancho para el gráfico de texto\n",
        "    height=300  # Altura para el gráfico de texto\n",
        ")\n",
        "\n",
        "# Combinar el gráfico de barras y el gráfico de texto\n",
        "grafico_final = grafico_barras + texto_total\n",
        "\n",
        "grafico_final\n"
      ],
      "metadata": {
        "colab": {
          "base_uri": "https://localhost:8080/",
          "height": 458
        },
        "id": "7IqOglGKuML8",
        "outputId": "872ab2e7-7800-46be-c567-1f7351fef8fb"
      },
      "execution_count": 15,
      "outputs": [
        {
          "output_type": "stream",
          "name": "stderr",
          "text": [
            "/usr/local/lib/python3.10/dist-packages/altair/utils/core.py:384: FutureWarning: the convert_dtype parameter is deprecated and will be removed in a future version.  Do ``ser.astype(object).apply()`` instead if you want ``convert_dtype=False``.\n",
            "  col = df[col_name].apply(to_list_if_array, convert_dtype=False)\n",
            "/usr/local/lib/python3.10/dist-packages/altair/utils/core.py:384: FutureWarning: the convert_dtype parameter is deprecated and will be removed in a future version.  Do ``ser.astype(object).apply()`` instead if you want ``convert_dtype=False``.\n",
            "  col = df[col_name].apply(to_list_if_array, convert_dtype=False)\n"
          ]
        },
        {
          "output_type": "execute_result",
          "data": {
            "text/html": [
              "\n",
              "<div id=\"altair-viz-a1cedec3deb6492791c87e0290db6d0f\"></div>\n",
              "<script type=\"text/javascript\">\n",
              "  var VEGA_DEBUG = (typeof VEGA_DEBUG == \"undefined\") ? {} : VEGA_DEBUG;\n",
              "  (function(spec, embedOpt){\n",
              "    let outputDiv = document.currentScript.previousElementSibling;\n",
              "    if (outputDiv.id !== \"altair-viz-a1cedec3deb6492791c87e0290db6d0f\") {\n",
              "      outputDiv = document.getElementById(\"altair-viz-a1cedec3deb6492791c87e0290db6d0f\");\n",
              "    }\n",
              "    const paths = {\n",
              "      \"vega\": \"https://cdn.jsdelivr.net/npm//vega@5?noext\",\n",
              "      \"vega-lib\": \"https://cdn.jsdelivr.net/npm//vega-lib?noext\",\n",
              "      \"vega-lite\": \"https://cdn.jsdelivr.net/npm//vega-lite@4.17.0?noext\",\n",
              "      \"vega-embed\": \"https://cdn.jsdelivr.net/npm//vega-embed@6?noext\",\n",
              "    };\n",
              "\n",
              "    function maybeLoadScript(lib, version) {\n",
              "      var key = `${lib.replace(\"-\", \"\")}_version`;\n",
              "      return (VEGA_DEBUG[key] == version) ?\n",
              "        Promise.resolve(paths[lib]) :\n",
              "        new Promise(function(resolve, reject) {\n",
              "          var s = document.createElement('script');\n",
              "          document.getElementsByTagName(\"head\")[0].appendChild(s);\n",
              "          s.async = true;\n",
              "          s.onload = () => {\n",
              "            VEGA_DEBUG[key] = version;\n",
              "            return resolve(paths[lib]);\n",
              "          };\n",
              "          s.onerror = () => reject(`Error loading script: ${paths[lib]}`);\n",
              "          s.src = paths[lib];\n",
              "        });\n",
              "    }\n",
              "\n",
              "    function showError(err) {\n",
              "      outputDiv.innerHTML = `<div class=\"error\" style=\"color:red;\">${err}</div>`;\n",
              "      throw err;\n",
              "    }\n",
              "\n",
              "    function displayChart(vegaEmbed) {\n",
              "      vegaEmbed(outputDiv, spec, embedOpt)\n",
              "        .catch(err => showError(`Javascript Error: ${err.message}<br>This usually means there's a typo in your chart specification. See the javascript console for the full traceback.`));\n",
              "    }\n",
              "\n",
              "    if(typeof define === \"function\" && define.amd) {\n",
              "      requirejs.config({paths});\n",
              "      require([\"vega-embed\"], displayChart, err => showError(`Error loading script: ${err.message}`));\n",
              "    } else {\n",
              "      maybeLoadScript(\"vega\", \"5\")\n",
              "        .then(() => maybeLoadScript(\"vega-lite\", \"4.17.0\"))\n",
              "        .then(() => maybeLoadScript(\"vega-embed\", \"6\"))\n",
              "        .catch(showError)\n",
              "        .then(() => displayChart(vegaEmbed));\n",
              "    }\n",
              "  })({\"config\": {\"view\": {\"continuousWidth\": 400, \"continuousHeight\": 300}}, \"layer\": [{\"data\": {\"name\": \"data-00475f13480587f2358c661481c2e2df\"}, \"mark\": \"bar\", \"encoding\": {\"color\": {\"field\": \"Medication\", \"type\": \"nominal\"}, \"tooltip\": [{\"field\": \"Medication\", \"title\": \"Medication\", \"type\": \"nominal\"}, {\"field\": \"Count\", \"title\": \"Number of uses\", \"type\": \"quantitative\"}], \"x\": {\"field\": \"Medication\", \"title\": \"Medication\", \"type\": \"ordinal\"}, \"y\": {\"axis\": {\"format\": \"d\"}, \"field\": \"Count\", \"title\": \"Number of uses\", \"type\": \"quantitative\"}}, \"height\": 300, \"title\": \"The three most used medications for \\\"Asthma\\\"\", \"width\": 400}, {\"data\": {\"name\": \"data-b71fdf04061016e75a6ffc4b8d1ca0af\"}, \"mark\": {\"type\": \"text\", \"align\": \"center\", \"baseline\": \"bottom\", \"dy\": 170, \"fontSize\": 14}, \"encoding\": {\"text\": {\"field\": \"texto\", \"type\": \"nominal\"}, \"x\": {\"axis\": null, \"field\": \"x\", \"type\": \"ordinal\"}, \"y\": {\"axis\": null, \"field\": \"y\", \"type\": \"ordinal\"}}, \"height\": 300, \"width\": 400}], \"$schema\": \"https://vega.github.io/schema/vega-lite/v4.17.0.json\", \"datasets\": {\"data-00475f13480587f2358c661481c2e2df\": [{\"Medication\": \"Fluticasone\", \"Count\": 2651}, {\"Medication\": \"Albuterol\", \"Count\": 2130}, {\"Medication\": \"Montelukast\", \"Count\": 532}], \"data-b71fdf04061016e75a6ffc4b8d1ca0af\": [{\"x\": 0, \"y\": 0, \"texto\": \"Patients with \\\"Asthma\\\": 6662\"}]}}, {\"mode\": \"vega-lite\"});\n",
              "</script>"
            ],
            "text/plain": [
              "alt.LayerChart(...)"
            ]
          },
          "metadata": {},
          "execution_count": 15
        }
      ]
    },
    {
      "cell_type": "code",
      "source": [
        "#Calcular el gasto promedio por estancia hospitalaria\n",
        "\n",
        "total_billing_amount = int(df_asthma['Billing Amount'].sum())\n",
        "\n",
        "# Calculamos el promedio de los valores en la columna \"Billing Insurance\" para los registros con \"Asthma\"\n",
        "average_billing_amount = int(df_asthma['Billing Amount'].mean())\n",
        "\n",
        "#Calculamos el tiempo de estancia promedio de un paciente con Asma\n",
        "\n",
        "average_hospitalization_days_asthma = df_asthma['Hospitalization Days'].mean()\n",
        "\n",
        "# Crea la gráfica lineal con Altair\n",
        "\n",
        "# Agrupa por número de días de hospitalización y calcula el costo promedio\n",
        "average_cost_by_days_asthma = df_asthma.groupby('Hospitalization Days')['Billing Amount'].mean().reset_index()\n",
        "\n",
        "# Definir el valor mínimo de costo para mostrar en la gráfica, por ejemplo, $500\n",
        "min_cost = 17200\n",
        "\n",
        "# Filtrar los datos para asegurarse de incluir solo los valores a partir de la cifra deseada\n",
        "filtered_data = average_cost_by_days_asthma[average_cost_by_days_asthma['Billing Amount'] >= min_cost]\n",
        "\n",
        "# Crear la gráfica lineal con Altair con un eje Y que comienza desde el costo mínimo especificado\n",
        "chart = alt.Chart(filtered_data).mark_line(point=True).encode(\n",
        "    x=alt.X('Hospitalization Days', title='Hospitalization Days'),\n",
        "    y=alt.Y('Billing Amount', title='Average cost of hospitalization', scale=alt.Scale(domain=(min_cost, filtered_data['Billing Amount'].max()))),\n",
        "    tooltip=['Hospitalization Days', 'Billing Amount']\n",
        ").properties(\n",
        "    title=f'Average cost of hospitalization for Asthma',\n",
        "    width=600,\n",
        "    height=400\n",
        ")\n",
        "\n",
        "print(f'Average days of hospitalization for patients with Asthma: {average_hospitalization_days_asthma:.2f} days')\n",
        "print(f'Average cost of hospitalization for asthma: {average_billing_amount}')\n",
        "\n",
        "chart\n"
      ],
      "metadata": {
        "colab": {
          "base_uri": "https://localhost:8080/",
          "height": 520
        },
        "id": "vgk8xqawNj8N",
        "outputId": "132a5596-11ed-45f6-b574-f963d2873dbb"
      },
      "execution_count": 16,
      "outputs": [
        {
          "output_type": "stream",
          "name": "stdout",
          "text": [
            "Average days of hospitalization for patients with Asthma: 15.65 days\n",
            "Average cost of hospitalization for asthma: 25546\n"
          ]
        },
        {
          "output_type": "execute_result",
          "data": {
            "text/html": [
              "\n",
              "<div id=\"altair-viz-a67479ac183a47e2b444e620a684b1ce\"></div>\n",
              "<script type=\"text/javascript\">\n",
              "  var VEGA_DEBUG = (typeof VEGA_DEBUG == \"undefined\") ? {} : VEGA_DEBUG;\n",
              "  (function(spec, embedOpt){\n",
              "    let outputDiv = document.currentScript.previousElementSibling;\n",
              "    if (outputDiv.id !== \"altair-viz-a67479ac183a47e2b444e620a684b1ce\") {\n",
              "      outputDiv = document.getElementById(\"altair-viz-a67479ac183a47e2b444e620a684b1ce\");\n",
              "    }\n",
              "    const paths = {\n",
              "      \"vega\": \"https://cdn.jsdelivr.net/npm//vega@5?noext\",\n",
              "      \"vega-lib\": \"https://cdn.jsdelivr.net/npm//vega-lib?noext\",\n",
              "      \"vega-lite\": \"https://cdn.jsdelivr.net/npm//vega-lite@4.17.0?noext\",\n",
              "      \"vega-embed\": \"https://cdn.jsdelivr.net/npm//vega-embed@6?noext\",\n",
              "    };\n",
              "\n",
              "    function maybeLoadScript(lib, version) {\n",
              "      var key = `${lib.replace(\"-\", \"\")}_version`;\n",
              "      return (VEGA_DEBUG[key] == version) ?\n",
              "        Promise.resolve(paths[lib]) :\n",
              "        new Promise(function(resolve, reject) {\n",
              "          var s = document.createElement('script');\n",
              "          document.getElementsByTagName(\"head\")[0].appendChild(s);\n",
              "          s.async = true;\n",
              "          s.onload = () => {\n",
              "            VEGA_DEBUG[key] = version;\n",
              "            return resolve(paths[lib]);\n",
              "          };\n",
              "          s.onerror = () => reject(`Error loading script: ${paths[lib]}`);\n",
              "          s.src = paths[lib];\n",
              "        });\n",
              "    }\n",
              "\n",
              "    function showError(err) {\n",
              "      outputDiv.innerHTML = `<div class=\"error\" style=\"color:red;\">${err}</div>`;\n",
              "      throw err;\n",
              "    }\n",
              "\n",
              "    function displayChart(vegaEmbed) {\n",
              "      vegaEmbed(outputDiv, spec, embedOpt)\n",
              "        .catch(err => showError(`Javascript Error: ${err.message}<br>This usually means there's a typo in your chart specification. See the javascript console for the full traceback.`));\n",
              "    }\n",
              "\n",
              "    if(typeof define === \"function\" && define.amd) {\n",
              "      requirejs.config({paths});\n",
              "      require([\"vega-embed\"], displayChart, err => showError(`Error loading script: ${err.message}`));\n",
              "    } else {\n",
              "      maybeLoadScript(\"vega\", \"5\")\n",
              "        .then(() => maybeLoadScript(\"vega-lite\", \"4.17.0\"))\n",
              "        .then(() => maybeLoadScript(\"vega-embed\", \"6\"))\n",
              "        .catch(showError)\n",
              "        .then(() => displayChart(vegaEmbed));\n",
              "    }\n",
              "  })({\"config\": {\"view\": {\"continuousWidth\": 400, \"continuousHeight\": 300}}, \"data\": {\"name\": \"data-1eb66953e2966357113c86350487fdf2\"}, \"mark\": {\"type\": \"line\", \"point\": true}, \"encoding\": {\"tooltip\": [{\"field\": \"Hospitalization Days\", \"type\": \"quantitative\"}, {\"field\": \"Billing Amount\", \"type\": \"quantitative\"}], \"x\": {\"field\": \"Hospitalization Days\", \"title\": \"Hospitalization Days\", \"type\": \"quantitative\"}, \"y\": {\"field\": \"Billing Amount\", \"scale\": {\"domain\": [17200, 27543.642558544216]}, \"title\": \"Average cost of hospitalization\", \"type\": \"quantitative\"}}, \"height\": 400, \"title\": \"Average cost of hospitalization for Asthma\", \"width\": 600, \"$schema\": \"https://vega.github.io/schema/vega-lite/v4.17.0.json\", \"datasets\": {\"data-1eb66953e2966357113c86350487fdf2\": [{\"Hospitalization Days\": 1, \"Billing Amount\": 24873.332580949587}, {\"Hospitalization Days\": 2, \"Billing Amount\": 25820.866733331077}, {\"Hospitalization Days\": 3, \"Billing Amount\": 27543.642558544216}, {\"Hospitalization Days\": 4, \"Billing Amount\": 26778.427596304296}, {\"Hospitalization Days\": 5, \"Billing Amount\": 26280.47772825864}, {\"Hospitalization Days\": 6, \"Billing Amount\": 24746.55904701775}, {\"Hospitalization Days\": 7, \"Billing Amount\": 25037.371818785778}, {\"Hospitalization Days\": 8, \"Billing Amount\": 27229.461036642853}, {\"Hospitalization Days\": 9, \"Billing Amount\": 26674.92337308174}, {\"Hospitalization Days\": 10, \"Billing Amount\": 25560.440866123678}, {\"Hospitalization Days\": 11, \"Billing Amount\": 25996.699404372142}, {\"Hospitalization Days\": 12, \"Billing Amount\": 25485.140814546518}, {\"Hospitalization Days\": 13, \"Billing Amount\": 23785.236694985357}, {\"Hospitalization Days\": 14, \"Billing Amount\": 26055.19435295218}, {\"Hospitalization Days\": 15, \"Billing Amount\": 25534.982392837333}, {\"Hospitalization Days\": 16, \"Billing Amount\": 25492.439801442164}, {\"Hospitalization Days\": 17, \"Billing Amount\": 25712.286864746216}, {\"Hospitalization Days\": 18, \"Billing Amount\": 24007.191359652752}, {\"Hospitalization Days\": 19, \"Billing Amount\": 25647.47650585269}, {\"Hospitalization Days\": 20, \"Billing Amount\": 25415.544557224184}, {\"Hospitalization Days\": 21, \"Billing Amount\": 24518.985820536287}, {\"Hospitalization Days\": 22, \"Billing Amount\": 24406.65078190158}, {\"Hospitalization Days\": 23, \"Billing Amount\": 25535.524479858952}, {\"Hospitalization Days\": 24, \"Billing Amount\": 27208.53253524596}, {\"Hospitalization Days\": 25, \"Billing Amount\": 26029.436246294317}, {\"Hospitalization Days\": 26, \"Billing Amount\": 26476.7951934828}, {\"Hospitalization Days\": 27, \"Billing Amount\": 26120.123903526488}, {\"Hospitalization Days\": 28, \"Billing Amount\": 26076.258203144916}, {\"Hospitalization Days\": 29, \"Billing Amount\": 22617.32214597374}, {\"Hospitalization Days\": 30, \"Billing Amount\": 24199.61949697716}]}}, {\"mode\": \"vega-lite\"});\n",
              "</script>"
            ],
            "text/plain": [
              "alt.Chart(...)"
            ]
          },
          "metadata": {},
          "execution_count": 16
        }
      ]
    },
    {
      "cell_type": "markdown",
      "source": [
        "Diabetes: medicamentos más usados, costo total en promedio, diás de estancia en promedio..."
      ],
      "metadata": {
        "id": "Fy8Vo4cokw5O"
      }
    },
    {
      "cell_type": "code",
      "source": [
        "#Los tres medicamentos más utilizados en Diabetes#\n",
        "\n",
        "# Filtrar las filas donde \"Medical Conditions\" es \"Diabetes\"\n",
        "df_diabetes = df_1[df_1['Medical Condition'] == 'Diabetes']\n",
        "\n",
        "# Contar las ocurrencias de cada objeto en \"Medicamentos\"\n",
        "conteos_medicamentos_diabetes = df_diabetes['Medication'].value_counts()\n",
        "\n",
        "total_diabetes  = len(df_diabetes)\n",
        "\n",
        "# Seleccionar los 3 medicamentos más frecuentes\n",
        "top_3_medicamentos_diabetes = conteos_medicamentos_diabetes.head(3).reset_index()\n",
        "top_3_medicamentos_diabetes.columns = ['Medication', 'Count']\n",
        "\n",
        "# Crear una gráfica de barras con Altair\n",
        "grafico_barras = alt.Chart(top_3_medicamentos_diabetes).mark_bar().encode(\n",
        "    x=alt.X('Medication:O', title='Medication'),\n",
        "    y=alt.Y('Count:Q', title='Number of uses', axis=alt.Axis(format='d')),\n",
        "    color='Medication:N',\n",
        "    tooltip=[alt.Tooltip(field='Medication', type='nominal', title='Medication'),\n",
        "             alt.Tooltip(field='Count', type='quantitative', title='Number of uses')]\n",
        ").properties(\n",
        "    title='The three most used medications for \"Diabetes\"',\n",
        "    width=400,  # Ajusta el ancho del gráfico\n",
        "    height=300  # Ajusta la altura del gráfico\n",
        ")\n",
        "\n",
        "# Crear un DataFrame para el texto total\n",
        "df_texto_total_diabetes = pd.DataFrame({\n",
        "    'x': [0],\n",
        "    'y': [0],\n",
        "    'texto': [f'Patients with \"Diabetes\": {total_diabetes}']\n",
        "})\n",
        "\n",
        "# Crear el gráfico de texto\n",
        "texto_total = alt.Chart(df_texto_total_diabetes).mark_text(\n",
        "    align='center',\n",
        "    baseline='bottom',\n",
        "    fontSize=14,\n",
        "    dy=170  # Ajusta la posición vertical del texto\n",
        ").encode(\n",
        "    x=alt.X('x:O', axis=None),\n",
        "    y=alt.Y('y:O', axis=None),\n",
        "    text='texto:N'\n",
        ").properties(\n",
        "    width=400,  # Ancho para el gráfico de texto\n",
        "    height=300  # Altura para el gráfico de texto\n",
        ")\n",
        "\n",
        "#Calcular el gasto promedio por estancia hospitalaria\n",
        "\n",
        "total_billing_amount_d = int(df_diabetes['Billing Amount'].sum())\n",
        "\n",
        "# Calculamos el promedio de los valores en la columna \"Billing Insurance\" para los registros con \"Asthma\"\n",
        "average_billing_amount_d = int(df_diabetes['Billing Amount'].mean())\n",
        "\n",
        "#Calculamos el tiempo de estancia promedio de un paciente con Asma\n",
        "\n",
        "average_hospitalization_days_d = df_diabetes['Hospitalization Days'].mean()\n",
        "\n",
        "# Agrupa por número de días de hospitalización y calcula el costo promedio\n",
        "average_cost_by_days_d = df_diabetes.groupby('Hospitalization Days')['Billing Amount'].mean().reset_index()\n",
        "\n",
        "# Combinar el gráfico de barras y el gráfico de texto\n",
        "grafico_final = grafico_barras + texto_total\n",
        "\n",
        "print(f'Average days of hospitalization for patients with diabetes: {average_hospitalization_days_d:.2f} days')\n",
        "print(f'Average cost of hospitalization for asthma: {average_billing_amount_d}')\n",
        "grafico_final"
      ],
      "metadata": {
        "id": "gxETjENXkvIm",
        "outputId": "96e77ac8-01d4-4f4a-ec9d-52bc4a9fc702",
        "colab": {
          "base_uri": "https://localhost:8080/",
          "height": 497
        }
      },
      "execution_count": 17,
      "outputs": [
        {
          "output_type": "stream",
          "name": "stdout",
          "text": [
            "Average days of hospitalization for patients with diabetes: 15.42 days\n",
            "Average cost of hospitalization for asthma: 25638\n"
          ]
        },
        {
          "output_type": "stream",
          "name": "stderr",
          "text": [
            "/usr/local/lib/python3.10/dist-packages/altair/utils/core.py:384: FutureWarning: the convert_dtype parameter is deprecated and will be removed in a future version.  Do ``ser.astype(object).apply()`` instead if you want ``convert_dtype=False``.\n",
            "  col = df[col_name].apply(to_list_if_array, convert_dtype=False)\n",
            "/usr/local/lib/python3.10/dist-packages/altair/utils/core.py:384: FutureWarning: the convert_dtype parameter is deprecated and will be removed in a future version.  Do ``ser.astype(object).apply()`` instead if you want ``convert_dtype=False``.\n",
            "  col = df[col_name].apply(to_list_if_array, convert_dtype=False)\n"
          ]
        },
        {
          "output_type": "execute_result",
          "data": {
            "text/html": [
              "\n",
              "<div id=\"altair-viz-4aafe475b3bf4fd19603bd77f44d4651\"></div>\n",
              "<script type=\"text/javascript\">\n",
              "  var VEGA_DEBUG = (typeof VEGA_DEBUG == \"undefined\") ? {} : VEGA_DEBUG;\n",
              "  (function(spec, embedOpt){\n",
              "    let outputDiv = document.currentScript.previousElementSibling;\n",
              "    if (outputDiv.id !== \"altair-viz-4aafe475b3bf4fd19603bd77f44d4651\") {\n",
              "      outputDiv = document.getElementById(\"altair-viz-4aafe475b3bf4fd19603bd77f44d4651\");\n",
              "    }\n",
              "    const paths = {\n",
              "      \"vega\": \"https://cdn.jsdelivr.net/npm//vega@5?noext\",\n",
              "      \"vega-lib\": \"https://cdn.jsdelivr.net/npm//vega-lib?noext\",\n",
              "      \"vega-lite\": \"https://cdn.jsdelivr.net/npm//vega-lite@4.17.0?noext\",\n",
              "      \"vega-embed\": \"https://cdn.jsdelivr.net/npm//vega-embed@6?noext\",\n",
              "    };\n",
              "\n",
              "    function maybeLoadScript(lib, version) {\n",
              "      var key = `${lib.replace(\"-\", \"\")}_version`;\n",
              "      return (VEGA_DEBUG[key] == version) ?\n",
              "        Promise.resolve(paths[lib]) :\n",
              "        new Promise(function(resolve, reject) {\n",
              "          var s = document.createElement('script');\n",
              "          document.getElementsByTagName(\"head\")[0].appendChild(s);\n",
              "          s.async = true;\n",
              "          s.onload = () => {\n",
              "            VEGA_DEBUG[key] = version;\n",
              "            return resolve(paths[lib]);\n",
              "          };\n",
              "          s.onerror = () => reject(`Error loading script: ${paths[lib]}`);\n",
              "          s.src = paths[lib];\n",
              "        });\n",
              "    }\n",
              "\n",
              "    function showError(err) {\n",
              "      outputDiv.innerHTML = `<div class=\"error\" style=\"color:red;\">${err}</div>`;\n",
              "      throw err;\n",
              "    }\n",
              "\n",
              "    function displayChart(vegaEmbed) {\n",
              "      vegaEmbed(outputDiv, spec, embedOpt)\n",
              "        .catch(err => showError(`Javascript Error: ${err.message}<br>This usually means there's a typo in your chart specification. See the javascript console for the full traceback.`));\n",
              "    }\n",
              "\n",
              "    if(typeof define === \"function\" && define.amd) {\n",
              "      requirejs.config({paths});\n",
              "      require([\"vega-embed\"], displayChart, err => showError(`Error loading script: ${err.message}`));\n",
              "    } else {\n",
              "      maybeLoadScript(\"vega\", \"5\")\n",
              "        .then(() => maybeLoadScript(\"vega-lite\", \"4.17.0\"))\n",
              "        .then(() => maybeLoadScript(\"vega-embed\", \"6\"))\n",
              "        .catch(showError)\n",
              "        .then(() => displayChart(vegaEmbed));\n",
              "    }\n",
              "  })({\"config\": {\"view\": {\"continuousWidth\": 400, \"continuousHeight\": 300}}, \"layer\": [{\"data\": {\"name\": \"data-9436744ae94bf35ffcb9b0812712d89d\"}, \"mark\": \"bar\", \"encoding\": {\"color\": {\"field\": \"Medication\", \"type\": \"nominal\"}, \"tooltip\": [{\"field\": \"Medication\", \"title\": \"Medication\", \"type\": \"nominal\"}, {\"field\": \"Count\", \"title\": \"Number of uses\", \"type\": \"quantitative\"}], \"x\": {\"field\": \"Medication\", \"title\": \"Medication\", \"type\": \"ordinal\"}, \"y\": {\"axis\": {\"format\": \"d\"}, \"field\": \"Count\", \"title\": \"Number of uses\", \"type\": \"quantitative\"}}, \"height\": 300, \"title\": \"The three most used medications for \\\"Diabetes\\\"\", \"width\": 400}, {\"data\": {\"name\": \"data-319362d9237c641b5ae742512f2d2cf5\"}, \"mark\": {\"type\": \"text\", \"align\": \"center\", \"baseline\": \"bottom\", \"dy\": 170, \"fontSize\": 14}, \"encoding\": {\"text\": {\"field\": \"texto\", \"type\": \"nominal\"}, \"x\": {\"axis\": null, \"field\": \"x\", \"type\": \"ordinal\"}, \"y\": {\"axis\": null, \"field\": \"y\", \"type\": \"ordinal\"}}, \"height\": 300, \"width\": 400}], \"$schema\": \"https://vega.github.io/schema/vega-lite/v4.17.0.json\", \"datasets\": {\"data-9436744ae94bf35ffcb9b0812712d89d\": [{\"Medication\": \"Insulin\", \"Count\": 5230}, {\"Medication\": \"Metformin\", \"Count\": 1479}, {\"Medication\": \"Glipizide\", \"Count\": 734}], \"data-319362d9237c641b5ae742512f2d2cf5\": [{\"x\": 0, \"y\": 0, \"texto\": \"Patients with \\\"Diabetes\\\": 9304\"}]}}, {\"mode\": \"vega-lite\"});\n",
              "</script>"
            ],
            "text/plain": [
              "alt.LayerChart(...)"
            ]
          },
          "metadata": {},
          "execution_count": 17
        }
      ]
    },
    {
      "cell_type": "markdown",
      "source": [
        "Artritis: medicamentos más usados, costo total en promedio, diás de estancia en promedio..."
      ],
      "metadata": {
        "id": "K9dPsMmKU9eG"
      }
    },
    {
      "cell_type": "code",
      "source": [
        "#Los tres medicamentos más utilizados en Artritis#\n",
        "\n",
        "# Filtrar las filas donde \"Medical Conditions\" es \"Arthritis\"\n",
        "df_arthritis = df_1[df_1['Medical Condition'] == 'Arthritis']\n",
        "\n",
        "# Contar las ocurrencias de cada objeto en \"Medicamentos\"\n",
        "conteos_medicamentos_arthritis = df_arthritis['Medication'].value_counts()\n",
        "\n",
        "total_arthritis  = len(df_arthritis)\n",
        "\n",
        "# Seleccionar los 3 medicamentos más frecuentes\n",
        "top_3_medicamentos_arthritis = conteos_medicamentos_arthritis.head(3).reset_index()\n",
        "top_3_medicamentos_arthritis.columns = ['Medication', 'Count']\n",
        "\n",
        "# Crear una gráfica de barras con Altair\n",
        "grafico_barras = alt.Chart(top_3_medicamentos_arthritis).mark_bar().encode(\n",
        "    x=alt.X('Medication:O', title='Medication'),\n",
        "    y=alt.Y('Count:Q', title='Number of uses', axis=alt.Axis(format='d')),\n",
        "    color='Medication:N',\n",
        "    tooltip=[alt.Tooltip(field='Medication', type='nominal', title='Medication'),\n",
        "             alt.Tooltip(field='Count', type='quantitative', title='Number of uses')]\n",
        ").properties(\n",
        "    title='The three most used medications for \"Arthritis\"',\n",
        "    width=400,  # Ajusta el ancho del gráfico\n",
        "    height=300  # Ajusta la altura del gráfico\n",
        ")\n",
        "\n",
        "# Crear un DataFrame para el texto total\n",
        "df_texto_total_arthritis = pd.DataFrame({\n",
        "    'x': [0],\n",
        "    'y': [0],\n",
        "    'texto': [f'Patients with \"Arthritis\": {total_arthritis}']\n",
        "})\n",
        "\n",
        "# Crear el gráfico de texto\n",
        "texto_total_arthritis = alt.Chart(df_texto_total_arthritis).mark_text(\n",
        "    align='center',\n",
        "    baseline='bottom',\n",
        "    fontSize=14,\n",
        "    dy=170  # Ajusta la posición vertical del texto\n",
        ").encode(\n",
        "    x=alt.X('x:O', axis=None),\n",
        "    y=alt.Y('y:O', axis=None),\n",
        "    text='texto:N'\n",
        ").properties(\n",
        "    width=400,  # Ancho para el gráfico de texto\n",
        "    height=300  # Altura para el gráfico de texto\n",
        ")\n",
        "\n",
        "#Calcular el gasto promedio por estancia hospitalaria\n",
        "\n",
        "total_billing_amount_a = int(df_arthritis['Billing Amount'].sum())\n",
        "\n",
        "# Calculamos el promedio de los valores en la columna \"Billing Amount\" para los registros con \"Arthritis\"\n",
        "average_billing_amount_a = int(df_arthritis['Billing Amount'].mean())\n",
        "\n",
        "#Calculamos el tiempo de estancia promedio de un paciente con Artritis\n",
        "\n",
        "average_hospitalization_days_a = df_arthritis['Hospitalization Days'].mean()\n",
        "\n",
        "# Agrupa por número de días de hospitalización y calcula el costo promedio\n",
        "average_cost_by_days_a = df_arthritis.groupby('Hospitalization Days')['Billing Amount'].mean().reset_index()\n",
        "\n",
        "# Combinar el gráfico de barras y el gráfico de texto\n",
        "grafico_final = grafico_barras + texto_total_arthritis\n",
        "\n",
        "print(f'Average days of hospitalization for patients with arthritis: {average_hospitalization_days_a:.2f} days')\n",
        "print(f'Average cost of hospitalization for arthritis: {average_billing_amount_a}')\n",
        "grafico_final"
      ],
      "metadata": {
        "colab": {
          "base_uri": "https://localhost:8080/",
          "height": 497
        },
        "id": "W72_94RzVFIp",
        "outputId": "7653d5dc-46a2-4a75-d618-6a8a7bc30b42"
      },
      "execution_count": 18,
      "outputs": [
        {
          "output_type": "stream",
          "name": "stdout",
          "text": [
            "Average days of hospitalization for patients with arthritis: 15.50 days\n",
            "Average cost of hospitalization for arthritis: 25392\n"
          ]
        },
        {
          "output_type": "stream",
          "name": "stderr",
          "text": [
            "/usr/local/lib/python3.10/dist-packages/altair/utils/core.py:384: FutureWarning: the convert_dtype parameter is deprecated and will be removed in a future version.  Do ``ser.astype(object).apply()`` instead if you want ``convert_dtype=False``.\n",
            "  col = df[col_name].apply(to_list_if_array, convert_dtype=False)\n",
            "/usr/local/lib/python3.10/dist-packages/altair/utils/core.py:384: FutureWarning: the convert_dtype parameter is deprecated and will be removed in a future version.  Do ``ser.astype(object).apply()`` instead if you want ``convert_dtype=False``.\n",
            "  col = df[col_name].apply(to_list_if_array, convert_dtype=False)\n"
          ]
        },
        {
          "output_type": "execute_result",
          "data": {
            "text/html": [
              "\n",
              "<div id=\"altair-viz-78bc9c04253d404e80c49bc57a37c22a\"></div>\n",
              "<script type=\"text/javascript\">\n",
              "  var VEGA_DEBUG = (typeof VEGA_DEBUG == \"undefined\") ? {} : VEGA_DEBUG;\n",
              "  (function(spec, embedOpt){\n",
              "    let outputDiv = document.currentScript.previousElementSibling;\n",
              "    if (outputDiv.id !== \"altair-viz-78bc9c04253d404e80c49bc57a37c22a\") {\n",
              "      outputDiv = document.getElementById(\"altair-viz-78bc9c04253d404e80c49bc57a37c22a\");\n",
              "    }\n",
              "    const paths = {\n",
              "      \"vega\": \"https://cdn.jsdelivr.net/npm//vega@5?noext\",\n",
              "      \"vega-lib\": \"https://cdn.jsdelivr.net/npm//vega-lib?noext\",\n",
              "      \"vega-lite\": \"https://cdn.jsdelivr.net/npm//vega-lite@4.17.0?noext\",\n",
              "      \"vega-embed\": \"https://cdn.jsdelivr.net/npm//vega-embed@6?noext\",\n",
              "    };\n",
              "\n",
              "    function maybeLoadScript(lib, version) {\n",
              "      var key = `${lib.replace(\"-\", \"\")}_version`;\n",
              "      return (VEGA_DEBUG[key] == version) ?\n",
              "        Promise.resolve(paths[lib]) :\n",
              "        new Promise(function(resolve, reject) {\n",
              "          var s = document.createElement('script');\n",
              "          document.getElementsByTagName(\"head\")[0].appendChild(s);\n",
              "          s.async = true;\n",
              "          s.onload = () => {\n",
              "            VEGA_DEBUG[key] = version;\n",
              "            return resolve(paths[lib]);\n",
              "          };\n",
              "          s.onerror = () => reject(`Error loading script: ${paths[lib]}`);\n",
              "          s.src = paths[lib];\n",
              "        });\n",
              "    }\n",
              "\n",
              "    function showError(err) {\n",
              "      outputDiv.innerHTML = `<div class=\"error\" style=\"color:red;\">${err}</div>`;\n",
              "      throw err;\n",
              "    }\n",
              "\n",
              "    function displayChart(vegaEmbed) {\n",
              "      vegaEmbed(outputDiv, spec, embedOpt)\n",
              "        .catch(err => showError(`Javascript Error: ${err.message}<br>This usually means there's a typo in your chart specification. See the javascript console for the full traceback.`));\n",
              "    }\n",
              "\n",
              "    if(typeof define === \"function\" && define.amd) {\n",
              "      requirejs.config({paths});\n",
              "      require([\"vega-embed\"], displayChart, err => showError(`Error loading script: ${err.message}`));\n",
              "    } else {\n",
              "      maybeLoadScript(\"vega\", \"5\")\n",
              "        .then(() => maybeLoadScript(\"vega-lite\", \"4.17.0\"))\n",
              "        .then(() => maybeLoadScript(\"vega-embed\", \"6\"))\n",
              "        .catch(showError)\n",
              "        .then(() => displayChart(vegaEmbed));\n",
              "    }\n",
              "  })({\"config\": {\"view\": {\"continuousWidth\": 400, \"continuousHeight\": 300}}, \"layer\": [{\"data\": {\"name\": \"data-c07074cbe8f5855174178f94696beac9\"}, \"mark\": \"bar\", \"encoding\": {\"color\": {\"field\": \"Medication\", \"type\": \"nominal\"}, \"tooltip\": [{\"field\": \"Medication\", \"title\": \"Medication\", \"type\": \"nominal\"}, {\"field\": \"Count\", \"title\": \"Number of uses\", \"type\": \"quantitative\"}], \"x\": {\"field\": \"Medication\", \"title\": \"Medication\", \"type\": \"ordinal\"}, \"y\": {\"axis\": {\"format\": \"d\"}, \"field\": \"Count\", \"title\": \"Number of uses\", \"type\": \"quantitative\"}}, \"height\": 300, \"title\": \"The three most used medications for \\\"Arthritis\\\"\", \"width\": 400}, {\"data\": {\"name\": \"data-67cf05dcb5c32d4434d71db0f03937d2\"}, \"mark\": {\"type\": \"text\", \"align\": \"center\", \"baseline\": \"bottom\", \"dy\": 170, \"fontSize\": 14}, \"encoding\": {\"text\": {\"field\": \"texto\", \"type\": \"nominal\"}, \"x\": {\"axis\": null, \"field\": \"x\", \"type\": \"ordinal\"}, \"y\": {\"axis\": null, \"field\": \"y\", \"type\": \"ordinal\"}}, \"height\": 300, \"width\": 400}], \"$schema\": \"https://vega.github.io/schema/vega-lite/v4.17.0.json\", \"datasets\": {\"data-c07074cbe8f5855174178f94696beac9\": [{\"Medication\": \"Methylprednisolone\", \"Count\": 4059}, {\"Medication\": \"Ibuprofen\", \"Count\": 2461}, {\"Medication\": \"Paracetamol\", \"Count\": 1005}], \"data-67cf05dcb5c32d4434d71db0f03937d2\": [{\"x\": 0, \"y\": 0, \"texto\": \"Patients with \\\"Arthritis\\\": 8533\"}]}}, {\"mode\": \"vega-lite\"});\n",
              "</script>"
            ],
            "text/plain": [
              "alt.LayerChart(...)"
            ]
          },
          "metadata": {},
          "execution_count": 18
        }
      ]
    },
    {
      "cell_type": "markdown",
      "source": [
        "Muy bien. Ya obtuvimos los datos respecto a las tres enfermedades más comunes dentro de nuestro Dataframe, así como los tres medicamentos más usados dentro de cada una de ellas, sus días promedio de estancia intrahospitalaria y el costo promedio  por hospitatilzación.\n",
        "\n",
        "A continuación determinaremos el porcentaje que cada aseguradora tiene con base a los pacientes cuyos gastos médicos cubrieron."
      ],
      "metadata": {
        "id": "GWcLq1lEduPK"
      }
    },
    {
      "cell_type": "code",
      "source": [
        "# Contar el número total de pacientes\n",
        "total_pacientes = len(df_1)\n",
        "\n",
        "# Contar el número de pacientes por cada aseguradora\n",
        "conteo_aseguradoras = df_1['Insurance Provider'].value_counts()\n",
        "\n",
        "# Calcular el porcentaje de pacientes por cada aseguradora\n",
        "porcentaje_aseguradoras = (conteo_aseguradoras / total_pacientes) * 100\n",
        "\n",
        "# Convertir el resultado a un DataFrame para una presentación más clara\n",
        "resultado = pd.DataFrame({\n",
        "    'Insurance Provider': porcentaje_aseguradoras.index,\n",
        "    'Percentage': porcentaje_aseguradoras.values\n",
        "})\n",
        "\n",
        "# Ordenar el resultado por porcentaje en orden descendente\n",
        "resultado = resultado.sort_values(by='Percentage', ascending=False)\n",
        "\n",
        "# Mostrar el resultado\n",
        "print(resultado)"
      ],
      "metadata": {
        "id": "_nAojiBZnscC",
        "colab": {
          "base_uri": "https://localhost:8080/"
        },
        "outputId": "a2f834b2-ab44-40e8-9116-b7523a5dda4a"
      },
      "execution_count": 19,
      "outputs": [
        {
          "output_type": "stream",
          "name": "stdout",
          "text": [
            "  Insurance Provider  Percentage\n",
            "0   UnitedHealthcare   20.203750\n",
            "1              Cigna   20.182347\n",
            "2           Medicare   20.019690\n",
            "3         Blue Cross   19.916959\n",
            "4              Aetna   19.677254\n"
          ]
        }
      ]
    },
    {
      "cell_type": "markdown",
      "source": [
        "Ahora veamos cuáles son las condicionas más manejadas por nuestra principal aseguradora."
      ],
      "metadata": {
        "id": "k6zgJ3rKku3j"
      }
    },
    {
      "cell_type": "code",
      "source": [
        "# Filtra los datos para la aseguradora específica\n",
        "aseguradora = 'UnitedHealthcare'\n",
        "df_aseguradora = df_1[df_1['Insurance Provider'] == aseguradora]\n",
        "\n",
        "# Contar el número de pacientes por condición médica para la aseguradora\n",
        "conteo_condiciones = df_aseguradora['Medical Condition'].value_counts().reset_index()\n",
        "conteo_condiciones.columns = ['Medical Condition', 'Count']\n",
        "\n",
        "# Calcular el total de pacientes asegurados por la aseguradora\n",
        "total_pacientes_aseguradora = len(df_aseguradora)\n",
        "\n",
        "# Calcular el porcentaje para cada condición médica\n",
        "conteo_condiciones['Percentage'] = (conteo_condiciones['Count'] / total_pacientes_aseguradora) * 100\n",
        "\n",
        "# Crear el gráfico de pastel con Altair\n",
        "chart = alt.Chart(conteo_condiciones).mark_arc(innerRadius=50).encode(\n",
        "    theta=alt.Theta(field='Percentage', type='quantitative'),\n",
        "    color=alt.Color(field='Medical Condition', type='nominal'),\n",
        "    tooltip=['Medical Condition', 'Count', 'Percentage:Q']\n",
        ").properties(\n",
        "    title=f'Distribución de Condiciones Médicas Cubiertas por {aseguradora}'\n",
        ")\n",
        "\n",
        "# Crear un texto informativo con Altair\n",
        "text = alt.Chart(pd.DataFrame({\n",
        "    'text': [f'Total de pacientes asegurados: {total_pacientes_aseguradora}']\n",
        "})).mark_text(\n",
        "    align='center',\n",
        "    baseline='middle',\n",
        "    fontSize=12,\n",
        "    dy=180\n",
        ").encode(\n",
        "    text='text:N'\n",
        ")\n",
        "\n",
        "# Combinar el gráfico y el texto en una sola visualización usando alt.layer\n",
        "final_chart = alt.layer(chart, text).properties(\n",
        "    height=350  # Ajusta la altura total de la visualización si es necesario\n",
        ")\n",
        "\n",
        "final_chart"
      ],
      "metadata": {
        "id": "tNyZae5ilsYj",
        "outputId": "7bc9a27c-06e1-41f7-ef56-5b58d042a22f",
        "colab": {
          "base_uri": "https://localhost:8080/",
          "height": 499
        }
      },
      "execution_count": 20,
      "outputs": [
        {
          "output_type": "stream",
          "name": "stderr",
          "text": [
            "/usr/local/lib/python3.10/dist-packages/altair/utils/core.py:384: FutureWarning: the convert_dtype parameter is deprecated and will be removed in a future version.  Do ``ser.astype(object).apply()`` instead if you want ``convert_dtype=False``.\n",
            "  col = df[col_name].apply(to_list_if_array, convert_dtype=False)\n",
            "/usr/local/lib/python3.10/dist-packages/altair/utils/core.py:384: FutureWarning: the convert_dtype parameter is deprecated and will be removed in a future version.  Do ``ser.astype(object).apply()`` instead if you want ``convert_dtype=False``.\n",
            "  col = df[col_name].apply(to_list_if_array, convert_dtype=False)\n"
          ]
        },
        {
          "output_type": "execute_result",
          "data": {
            "text/html": [
              "\n",
              "<div id=\"altair-viz-d2f1affb69b547cbab2d08118e8724fe\"></div>\n",
              "<script type=\"text/javascript\">\n",
              "  var VEGA_DEBUG = (typeof VEGA_DEBUG == \"undefined\") ? {} : VEGA_DEBUG;\n",
              "  (function(spec, embedOpt){\n",
              "    let outputDiv = document.currentScript.previousElementSibling;\n",
              "    if (outputDiv.id !== \"altair-viz-d2f1affb69b547cbab2d08118e8724fe\") {\n",
              "      outputDiv = document.getElementById(\"altair-viz-d2f1affb69b547cbab2d08118e8724fe\");\n",
              "    }\n",
              "    const paths = {\n",
              "      \"vega\": \"https://cdn.jsdelivr.net/npm//vega@5?noext\",\n",
              "      \"vega-lib\": \"https://cdn.jsdelivr.net/npm//vega-lib?noext\",\n",
              "      \"vega-lite\": \"https://cdn.jsdelivr.net/npm//vega-lite@4.17.0?noext\",\n",
              "      \"vega-embed\": \"https://cdn.jsdelivr.net/npm//vega-embed@6?noext\",\n",
              "    };\n",
              "\n",
              "    function maybeLoadScript(lib, version) {\n",
              "      var key = `${lib.replace(\"-\", \"\")}_version`;\n",
              "      return (VEGA_DEBUG[key] == version) ?\n",
              "        Promise.resolve(paths[lib]) :\n",
              "        new Promise(function(resolve, reject) {\n",
              "          var s = document.createElement('script');\n",
              "          document.getElementsByTagName(\"head\")[0].appendChild(s);\n",
              "          s.async = true;\n",
              "          s.onload = () => {\n",
              "            VEGA_DEBUG[key] = version;\n",
              "            return resolve(paths[lib]);\n",
              "          };\n",
              "          s.onerror = () => reject(`Error loading script: ${paths[lib]}`);\n",
              "          s.src = paths[lib];\n",
              "        });\n",
              "    }\n",
              "\n",
              "    function showError(err) {\n",
              "      outputDiv.innerHTML = `<div class=\"error\" style=\"color:red;\">${err}</div>`;\n",
              "      throw err;\n",
              "    }\n",
              "\n",
              "    function displayChart(vegaEmbed) {\n",
              "      vegaEmbed(outputDiv, spec, embedOpt)\n",
              "        .catch(err => showError(`Javascript Error: ${err.message}<br>This usually means there's a typo in your chart specification. See the javascript console for the full traceback.`));\n",
              "    }\n",
              "\n",
              "    if(typeof define === \"function\" && define.amd) {\n",
              "      requirejs.config({paths});\n",
              "      require([\"vega-embed\"], displayChart, err => showError(`Error loading script: ${err.message}`));\n",
              "    } else {\n",
              "      maybeLoadScript(\"vega\", \"5\")\n",
              "        .then(() => maybeLoadScript(\"vega-lite\", \"4.17.0\"))\n",
              "        .then(() => maybeLoadScript(\"vega-embed\", \"6\"))\n",
              "        .catch(showError)\n",
              "        .then(() => displayChart(vegaEmbed));\n",
              "    }\n",
              "  })({\"config\": {\"view\": {\"continuousWidth\": 400, \"continuousHeight\": 300}}, \"layer\": [{\"data\": {\"name\": \"data-13512b8768be890c0f8ae8f4340252e2\"}, \"mark\": {\"type\": \"arc\", \"innerRadius\": 50}, \"encoding\": {\"color\": {\"field\": \"Medical Condition\", \"type\": \"nominal\"}, \"theta\": {\"field\": \"Percentage\", \"type\": \"quantitative\"}, \"tooltip\": [{\"field\": \"Medical Condition\", \"type\": \"nominal\"}, {\"field\": \"Count\", \"type\": \"quantitative\"}, {\"field\": \"Percentage\", \"type\": \"quantitative\"}]}, \"title\": \"Distribuci\\u00f3n de Condiciones M\\u00e9dicas Cubiertas por UnitedHealthcare\"}, {\"data\": {\"name\": \"data-34d1cc0df779afdabb77ea8f41d7da64\"}, \"mark\": {\"type\": \"text\", \"align\": \"center\", \"baseline\": \"middle\", \"dy\": 180, \"fontSize\": 12}, \"encoding\": {\"text\": {\"field\": \"text\", \"type\": \"nominal\"}}}], \"height\": 350, \"$schema\": \"https://vega.github.io/schema/vega-lite/v4.17.0.json\", \"datasets\": {\"data-13512b8768be890c0f8ae8f4340252e2\": [{\"Medical Condition\": \"Hypertension\", \"Count\": 1887, \"Percentage\": 19.989406779661017}, {\"Medical Condition\": \"Diabetes\", \"Count\": 1806, \"Percentage\": 19.13135593220339}, {\"Medical Condition\": \"Arthritis\", \"Count\": 1735, \"Percentage\": 18.379237288135595}, {\"Medical Condition\": \"Obesity\", \"Count\": 1673, \"Percentage\": 17.722457627118644}, {\"Medical Condition\": \"Asthma\", \"Count\": 1381, \"Percentage\": 14.629237288135593}, {\"Medical Condition\": \"Cancer\", \"Count\": 958, \"Percentage\": 10.148305084745763}], \"data-34d1cc0df779afdabb77ea8f41d7da64\": [{\"text\": \"Total de pacientes asegurados: 9440\"}]}}, {\"mode\": \"vega-lite\"});\n",
              "</script>"
            ],
            "text/plain": [
              "alt.LayerChart(...)"
            ]
          },
          "metadata": {},
          "execution_count": 20
        }
      ]
    },
    {
      "cell_type": "markdown",
      "source": [
        "Ahora determinaremos cuánto suele costar en promedio cada enfermedad según su estancia intrahospitalaria."
      ],
      "metadata": {
        "id": "ReaX623UtRDf"
      }
    },
    {
      "cell_type": "code",
      "source": [
        "# Agrupar los datos por la columna 'Medical Condition' y calcular el promedio del 'Billing Amount'\n",
        "promedio_gasto = df_1.groupby('Medical Condition')['Billing Amount'].mean().reset_index()\n",
        "\n",
        "promedio_gasto_ordenado = promedio_gasto.sort_values(by='Billing Amount', ascending=False)\n",
        "\n",
        "# Renombrar las columnas para mayor claridad\n",
        "promedio_gasto_ordenado.columns = ['Medical Condition', 'Average Billing Amount']\n",
        "\n",
        "# Mostrar el DataFrame resultante\n",
        "print(promedio_gasto_ordenado)"
      ],
      "metadata": {
        "id": "c7G7d1n_tPEb",
        "outputId": "235afb48-73dc-4b05-9c7b-4dfd8902cdf5",
        "colab": {
          "base_uri": "https://localhost:8080/"
        }
      },
      "execution_count": 21,
      "outputs": [
        {
          "output_type": "stream",
          "name": "stdout",
          "text": [
            "  Medical Condition  Average Billing Amount\n",
            "5           Obesity            25792.610347\n",
            "3          Diabetes            25638.405577\n",
            "1            Asthma            25546.924700\n",
            "4      Hypertension            25500.464973\n",
            "0         Arthritis            25392.172412\n",
            "2            Cancer            25016.949665\n"
          ]
        }
      ]
    },
    {
      "cell_type": "code",
      "source": [
        "# Función para calcular la moda (y en caso de múltiples modas, seleccionar la más alta)\n",
        "\n",
        "from scipy import stats\n",
        "\n",
        "def calcular_moda_edad(grupo):\n",
        "    moda = stats.mode(grupo)\n",
        "    # Check if moda.mode is an array or a single value\n",
        "    return moda.mode[0] if isinstance(moda.mode, np.ndarray) else moda.mode # Return the mode if it's a single value\n",
        "\n",
        "# Calcular la moda de la edad para cada condición médica\n",
        "moda_age = df_1.groupby('Medical Condition')['Age'].apply(calcular_moda_edad).reset_index()\n",
        "moda_age = moda_age.rename(columns={'Age': 'Most Frequent Age'})\n",
        "\n",
        "# Ordenar por edad más frecuente (y en caso de empate, la más alta)\n",
        "moda_age = moda_age.sort_values(by='Most Frequent Age', ascending=False)\n",
        "\n",
        "# Crear un gráfico de barras ordenado por edad más frecuente con Altair\n",
        "chart = alt.Chart(moda_age).mark_bar().encode(\n",
        "    x=alt.X('Medical Condition', sort='-y'),  # Ordenar las barras por edad\n",
        "    y='Most Frequent Age',\n",
        "    color='Medical Condition'\n",
        ").properties(\n",
        "    title='Edad Más Frecuente por Condición Médica'\n",
        ")\n",
        "\n",
        "# Mostrar el gráfico\n",
        "chart.display()"
      ],
      "metadata": {
        "id": "3UUNqmqHwntd",
        "outputId": "252028b0-9ebf-4484-b13f-7260f3c437b8",
        "colab": {
          "base_uri": "https://localhost:8080/",
          "height": 489
        }
      },
      "execution_count": 22,
      "outputs": [
        {
          "output_type": "stream",
          "name": "stderr",
          "text": [
            "/usr/local/lib/python3.10/dist-packages/altair/utils/core.py:384: FutureWarning: the convert_dtype parameter is deprecated and will be removed in a future version.  Do ``ser.astype(object).apply()`` instead if you want ``convert_dtype=False``.\n",
            "  col = df[col_name].apply(to_list_if_array, convert_dtype=False)\n"
          ]
        },
        {
          "output_type": "display_data",
          "data": {
            "text/html": [
              "\n",
              "<div id=\"altair-viz-41d1604d05ce43cd80f727a3104fc17d\"></div>\n",
              "<script type=\"text/javascript\">\n",
              "  var VEGA_DEBUG = (typeof VEGA_DEBUG == \"undefined\") ? {} : VEGA_DEBUG;\n",
              "  (function(spec, embedOpt){\n",
              "    let outputDiv = document.currentScript.previousElementSibling;\n",
              "    if (outputDiv.id !== \"altair-viz-41d1604d05ce43cd80f727a3104fc17d\") {\n",
              "      outputDiv = document.getElementById(\"altair-viz-41d1604d05ce43cd80f727a3104fc17d\");\n",
              "    }\n",
              "    const paths = {\n",
              "      \"vega\": \"https://cdn.jsdelivr.net/npm//vega@5?noext\",\n",
              "      \"vega-lib\": \"https://cdn.jsdelivr.net/npm//vega-lib?noext\",\n",
              "      \"vega-lite\": \"https://cdn.jsdelivr.net/npm//vega-lite@4.17.0?noext\",\n",
              "      \"vega-embed\": \"https://cdn.jsdelivr.net/npm//vega-embed@6?noext\",\n",
              "    };\n",
              "\n",
              "    function maybeLoadScript(lib, version) {\n",
              "      var key = `${lib.replace(\"-\", \"\")}_version`;\n",
              "      return (VEGA_DEBUG[key] == version) ?\n",
              "        Promise.resolve(paths[lib]) :\n",
              "        new Promise(function(resolve, reject) {\n",
              "          var s = document.createElement('script');\n",
              "          document.getElementsByTagName(\"head\")[0].appendChild(s);\n",
              "          s.async = true;\n",
              "          s.onload = () => {\n",
              "            VEGA_DEBUG[key] = version;\n",
              "            return resolve(paths[lib]);\n",
              "          };\n",
              "          s.onerror = () => reject(`Error loading script: ${paths[lib]}`);\n",
              "          s.src = paths[lib];\n",
              "        });\n",
              "    }\n",
              "\n",
              "    function showError(err) {\n",
              "      outputDiv.innerHTML = `<div class=\"error\" style=\"color:red;\">${err}</div>`;\n",
              "      throw err;\n",
              "    }\n",
              "\n",
              "    function displayChart(vegaEmbed) {\n",
              "      vegaEmbed(outputDiv, spec, embedOpt)\n",
              "        .catch(err => showError(`Javascript Error: ${err.message}<br>This usually means there's a typo in your chart specification. See the javascript console for the full traceback.`));\n",
              "    }\n",
              "\n",
              "    if(typeof define === \"function\" && define.amd) {\n",
              "      requirejs.config({paths});\n",
              "      require([\"vega-embed\"], displayChart, err => showError(`Error loading script: ${err.message}`));\n",
              "    } else {\n",
              "      maybeLoadScript(\"vega\", \"5\")\n",
              "        .then(() => maybeLoadScript(\"vega-lite\", \"4.17.0\"))\n",
              "        .then(() => maybeLoadScript(\"vega-embed\", \"6\"))\n",
              "        .catch(showError)\n",
              "        .then(() => displayChart(vegaEmbed));\n",
              "    }\n",
              "  })({\"config\": {\"view\": {\"continuousWidth\": 400, \"continuousHeight\": 300}}, \"data\": {\"name\": \"data-1a1fc60d53e449ce8681038903de03a3\"}, \"mark\": \"bar\", \"encoding\": {\"color\": {\"field\": \"Medical Condition\", \"type\": \"nominal\"}, \"x\": {\"field\": \"Medical Condition\", \"sort\": \"-y\", \"type\": \"nominal\"}, \"y\": {\"field\": \"Most Frequent Age\", \"type\": \"quantitative\"}}, \"title\": \"Edad M\\u00e1s Frecuente por Condici\\u00f3n M\\u00e9dica\", \"$schema\": \"https://vega.github.io/schema/vega-lite/v4.17.0.json\", \"datasets\": {\"data-1a1fc60d53e449ce8681038903de03a3\": [{\"Medical Condition\": \"Arthritis\", \"Most Frequent Age\": 74}, {\"Medical Condition\": \"Cancer\", \"Most Frequent Age\": 65}, {\"Medical Condition\": \"Diabetes\", \"Most Frequent Age\": 56}, {\"Medical Condition\": \"Hypertension\", \"Most Frequent Age\": 53}, {\"Medical Condition\": \"Obesity\", \"Most Frequent Age\": 32}, {\"Medical Condition\": \"Asthma\", \"Most Frequent Age\": 26}]}}, {\"mode\": \"vega-lite\"});\n",
              "</script>"
            ],
            "text/plain": [
              "alt.Chart(...)"
            ]
          },
          "metadata": {}
        }
      ]
    },
    {
      "cell_type": "code",
      "source": [
        "#Hemos finalizado nuestro Dataframe.\n",
        "\n",
        "df_1.to_csv('df_1.csv', index=False)"
      ],
      "metadata": {
        "id": "hOxR_aJks3DR"
      },
      "execution_count": 23,
      "outputs": []
    },
    {
      "cell_type": "markdown",
      "source": [],
      "metadata": {
        "id": "TI7Oo9oys2r0"
      }
    }
  ]
}