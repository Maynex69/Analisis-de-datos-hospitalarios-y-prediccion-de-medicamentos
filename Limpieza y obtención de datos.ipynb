{
  "nbformat": 4,
  "nbformat_minor": 0,
  "metadata": {
    "colab": {
      "provenance": [],
      "authorship_tag": "ABX9TyNyY7jwULALtdESqPDMHwco",
      "include_colab_link": true
    },
    "kernelspec": {
      "name": "python3",
      "display_name": "Python 3"
    },
    "language_info": {
      "name": "python"
    }
  },
  "cells": [
    {
      "cell_type": "markdown",
      "metadata": {
        "id": "view-in-github",
        "colab_type": "text"
      },
      "source": [
        "<a href=\"https://colab.research.google.com/github/Maynex69/Gestion-de-ingresos-hospitalarios/blob/main/Limpieza%20y%20obtenci%C3%B3n%20de%20datos.ipynb\" target=\"_parent\"><img src=\"https://colab.research.google.com/assets/colab-badge.svg\" alt=\"Open In Colab\"/></a>"
      ]
    },
    {
      "cell_type": "code",
      "source": [
        "import pandas as pd\n",
        "import numpy as np\n",
        "import altair as alt\n",
        "!pip install altair_viewer\n",
        "!pip install altair vega_datasets\n",
        "\n",
        "# Carga el archivo CSV usando Polars\n",
        "df = pd.read_csv('/content/dataset.csv')"
      ],
      "metadata": {
        "id": "KMWAZHbPiaQU",
        "outputId": "7b669959-ca74-4514-9a18-42924f39a01a",
        "colab": {
          "base_uri": "https://localhost:8080/"
        }
      },
      "execution_count": 34,
      "outputs": [
        {
          "output_type": "stream",
          "name": "stdout",
          "text": [
            "Requirement already satisfied: altair_viewer in /usr/local/lib/python3.10/dist-packages (0.4.0)\n",
            "Requirement already satisfied: altair in /usr/local/lib/python3.10/dist-packages (from altair_viewer) (4.2.2)\n",
            "Requirement already satisfied: altair-data-server>=0.4.0 in /usr/local/lib/python3.10/dist-packages (from altair_viewer) (0.4.1)\n",
            "Requirement already satisfied: portpicker in /usr/local/lib/python3.10/dist-packages (from altair-data-server>=0.4.0->altair_viewer) (1.5.2)\n",
            "Requirement already satisfied: tornado in /usr/local/lib/python3.10/dist-packages (from altair-data-server>=0.4.0->altair_viewer) (6.3.3)\n",
            "Requirement already satisfied: entrypoints in /usr/local/lib/python3.10/dist-packages (from altair->altair_viewer) (0.4)\n",
            "Requirement already satisfied: jinja2 in /usr/local/lib/python3.10/dist-packages (from altair->altair_viewer) (3.1.4)\n",
            "Requirement already satisfied: jsonschema>=3.0 in /usr/local/lib/python3.10/dist-packages (from altair->altair_viewer) (4.23.0)\n",
            "Requirement already satisfied: numpy in /usr/local/lib/python3.10/dist-packages (from altair->altair_viewer) (1.26.4)\n",
            "Requirement already satisfied: pandas>=0.18 in /usr/local/lib/python3.10/dist-packages (from altair->altair_viewer) (2.1.4)\n",
            "Requirement already satisfied: toolz in /usr/local/lib/python3.10/dist-packages (from altair->altair_viewer) (0.12.1)\n",
            "Requirement already satisfied: attrs>=22.2.0 in /usr/local/lib/python3.10/dist-packages (from jsonschema>=3.0->altair->altair_viewer) (24.2.0)\n",
            "Requirement already satisfied: jsonschema-specifications>=2023.03.6 in /usr/local/lib/python3.10/dist-packages (from jsonschema>=3.0->altair->altair_viewer) (2023.12.1)\n",
            "Requirement already satisfied: referencing>=0.28.4 in /usr/local/lib/python3.10/dist-packages (from jsonschema>=3.0->altair->altair_viewer) (0.35.1)\n",
            "Requirement already satisfied: rpds-py>=0.7.1 in /usr/local/lib/python3.10/dist-packages (from jsonschema>=3.0->altair->altair_viewer) (0.20.0)\n",
            "Requirement already satisfied: python-dateutil>=2.8.2 in /usr/local/lib/python3.10/dist-packages (from pandas>=0.18->altair->altair_viewer) (2.8.2)\n",
            "Requirement already satisfied: pytz>=2020.1 in /usr/local/lib/python3.10/dist-packages (from pandas>=0.18->altair->altair_viewer) (2024.1)\n",
            "Requirement already satisfied: tzdata>=2022.1 in /usr/local/lib/python3.10/dist-packages (from pandas>=0.18->altair->altair_viewer) (2024.1)\n",
            "Requirement already satisfied: MarkupSafe>=2.0 in /usr/local/lib/python3.10/dist-packages (from jinja2->altair->altair_viewer) (2.1.5)\n",
            "Requirement already satisfied: psutil in /usr/local/lib/python3.10/dist-packages (from portpicker->altair-data-server>=0.4.0->altair_viewer) (5.9.5)\n",
            "Requirement already satisfied: six>=1.5 in /usr/local/lib/python3.10/dist-packages (from python-dateutil>=2.8.2->pandas>=0.18->altair->altair_viewer) (1.16.0)\n",
            "Requirement already satisfied: altair in /usr/local/lib/python3.10/dist-packages (4.2.2)\n",
            "Requirement already satisfied: vega_datasets in /usr/local/lib/python3.10/dist-packages (0.9.0)\n",
            "Requirement already satisfied: entrypoints in /usr/local/lib/python3.10/dist-packages (from altair) (0.4)\n",
            "Requirement already satisfied: jinja2 in /usr/local/lib/python3.10/dist-packages (from altair) (3.1.4)\n",
            "Requirement already satisfied: jsonschema>=3.0 in /usr/local/lib/python3.10/dist-packages (from altair) (4.23.0)\n",
            "Requirement already satisfied: numpy in /usr/local/lib/python3.10/dist-packages (from altair) (1.26.4)\n",
            "Requirement already satisfied: pandas>=0.18 in /usr/local/lib/python3.10/dist-packages (from altair) (2.1.4)\n",
            "Requirement already satisfied: toolz in /usr/local/lib/python3.10/dist-packages (from altair) (0.12.1)\n",
            "Requirement already satisfied: attrs>=22.2.0 in /usr/local/lib/python3.10/dist-packages (from jsonschema>=3.0->altair) (24.2.0)\n",
            "Requirement already satisfied: jsonschema-specifications>=2023.03.6 in /usr/local/lib/python3.10/dist-packages (from jsonschema>=3.0->altair) (2023.12.1)\n",
            "Requirement already satisfied: referencing>=0.28.4 in /usr/local/lib/python3.10/dist-packages (from jsonschema>=3.0->altair) (0.35.1)\n",
            "Requirement already satisfied: rpds-py>=0.7.1 in /usr/local/lib/python3.10/dist-packages (from jsonschema>=3.0->altair) (0.20.0)\n",
            "Requirement already satisfied: python-dateutil>=2.8.2 in /usr/local/lib/python3.10/dist-packages (from pandas>=0.18->altair) (2.8.2)\n",
            "Requirement already satisfied: pytz>=2020.1 in /usr/local/lib/python3.10/dist-packages (from pandas>=0.18->altair) (2024.1)\n",
            "Requirement already satisfied: tzdata>=2022.1 in /usr/local/lib/python3.10/dist-packages (from pandas>=0.18->altair) (2024.1)\n",
            "Requirement already satisfied: MarkupSafe>=2.0 in /usr/local/lib/python3.10/dist-packages (from jinja2->altair) (2.1.5)\n",
            "Requirement already satisfied: six>=1.5 in /usr/local/lib/python3.10/dist-packages (from python-dateutil>=2.8.2->pandas>=0.18->altair) (1.16.0)\n"
          ]
        }
      ]
    },
    {
      "cell_type": "code",
      "source": [
        "# Reducimos la cantidad del \"Billing Amount\" para hacer los resultados más heterogéneos.\n",
        "\n",
        "# Definir el porcentaje de filas a modificar y el nuevo valor\n",
        "porcentaje_a_modificar = 35  # Porcentaje de filas a modificar\n",
        "nuevo_valor = 10500  # Nuevo valor con el que reemplazar\n",
        "\n",
        "# Calcular el número de filas a modificar\n",
        "num_filas = len(df)\n",
        "num_filas_a_modificar = int(num_filas * porcentaje_a_modificar / 100)\n",
        "\n",
        "# Seleccionar aleatoriamente las filas a modificar\n",
        "filas_a_modificar = np.random.choice(df.index, size=num_filas_a_modificar, replace=False)\n",
        "\n",
        "# Reemplazar los valores en las filas seleccionadas\n",
        "df.loc[filas_a_modificar, 'Billing Amount'] = nuevo_valor\n"
      ],
      "metadata": {
        "id": "NdobmySqwN6W"
      },
      "execution_count": 35,
      "outputs": []
    },
    {
      "cell_type": "code",
      "execution_count": 36,
      "metadata": {
        "id": "S3MIvJa38KPh"
      },
      "outputs": [],
      "source": [
        "\n",
        "#Transformación de datos\n",
        "df['Date of Admission'] = pd.to_datetime(df['Date of Admission'])\n",
        "df['Discharge Date'] = pd.to_datetime(df['Discharge Date'])\n",
        "\n",
        "# Elimina las columnas no necesarias\n",
        "df_dropped = df.drop(columns=['Doctor', 'Hospital', 'Room Number', 'Name', 'Test Results' ])\n",
        "\n",
        "#En este punto me di cuenta de que el Dataset tenía prácticamente la misma\n",
        "#cantidad de pacientes por cada enfermedad, así que decidí borrar una cantidad\n",
        "#al azar para que fuera un escenario más diverso.\n",
        "\n",
        "porcentajes = {\n",
        "    'Female': 0.12,\n",
        "    'Male': 0.26\n",
        "}\n",
        "\n",
        "indices_a_eliminar = []\n",
        "\n",
        "for valor, porcentaje in porcentajes.items():\n",
        "  filas_objeto = df_dropped[df_dropped['Gender'] == valor]\n",
        "  num_filas_a_eliminar = int(len(filas_objeto) * porcentaje)\n",
        "  filas_a_eliminar_aleatorias = filas_objeto.sample(n=num_filas_a_eliminar, random_state=1)\n",
        "  indices_a_eliminar.extend(filas_a_eliminar_aleatorias.index)\n",
        "\n",
        "df_modificado = df_dropped.drop(index=indices_a_eliminar)\n",
        "\n",
        "#Ahora tenemos un nuevo dataframe con datos más aleatorizados para el desarrollo del modelo\n",
        "#Lamentablemente el resto de las columnas sigue teniendo valores muy similares\n",
        "\n"
      ]
    },
    {
      "cell_type": "code",
      "source": [
        "#Reducción del número de aseguradoras\n",
        "\n",
        "porcentajes_insurance = {\n",
        "    'Cigna': 0.32,\n",
        "    'Medicare': 0.26,\n",
        "    'Aetna' : 0.18,\n",
        "    'UnitedHealthcare': 0.12,\n",
        "    'Blue Cross': 0.4\n",
        "}\n",
        "\n",
        "indices_a_eliminar = []\n",
        "\n",
        "for valor, porcentaje in porcentajes_insurance.items():\n",
        "  filas_objeto1 = df_modificado[df_modificado['Insurance Provider'] == valor]\n",
        "  num_filas_a_eliminar1 = int(len(filas_objeto1) * porcentaje)\n",
        "  filas_a_eliminar_aleatorias1 = filas_objeto1.sample(n=num_filas_a_eliminar1, random_state=1)\n",
        "  indices_a_eliminar.extend(filas_a_eliminar_aleatorias1.index)\n",
        "\n",
        "  df_modificado1 = df_modificado.drop(index=indices_a_eliminar)\n"
      ],
      "metadata": {
        "id": "SBoguM0CZZ_C"
      },
      "execution_count": 37,
      "outputs": []
    },
    {
      "cell_type": "code",
      "source": [
        "#Reducción del porcentaje de condiciones médicas\n",
        "\n",
        "porcentajes_p = {\n",
        "    'Diabetes':0.16,\n",
        "    'Obesity':0.2,\n",
        "    'Cancer':0.7,\n",
        "    'Hypertension':0.3\n",
        "}\n",
        "\n",
        "indices_a_eliminar = []\n",
        "\n",
        "for valor, porcentaje in porcentajes_p.items():\n",
        "  filas_objeto2 = df_modificado1[df_modificado1['Medical Condition'] == valor]\n",
        "  num_filas_a_eliminar2 = int(len(filas_objeto2) * porcentaje)\n",
        "  filas_a_eliminar_aleatorias2 = filas_objeto2.sample(n=num_filas_a_eliminar2, random_state=1)\n",
        "  indices_a_eliminar.extend(filas_a_eliminar_aleatorias2.index)\n",
        "\n",
        "  df_modificado2 = df_modificado1.drop(index=indices_a_eliminar)\n",
        "\n"
      ],
      "metadata": {
        "id": "CNFQaBznf_hy"
      },
      "execution_count": 38,
      "outputs": []
    },
    {
      "cell_type": "code",
      "source": [
        "#Reducción del número de medicamentos\n",
        "\n",
        "porcentajes_m = {\n",
        "    'Penicillin':0.3,\n",
        "    'Ibuprofen':0.4,\n",
        "    'Aspirin':0.27,\n",
        "    'Lipitor':0.2,\n",
        "    'Paracetamol':0.8\n",
        "}\n",
        "\n",
        "indices_a_eliminar = []\n",
        "\n",
        "for valor, porcentaje in porcentajes_m.items():\n",
        "  filas_objeto3 = df_modificado2[df_modificado2['Medication'] == valor]\n",
        "  num_filas_a_eliminar3 = int(len(filas_objeto3) * porcentaje)\n",
        "  filas_a_eliminar_aleatorias3 = filas_objeto3.sample(n=num_filas_a_eliminar3, random_state=1)\n",
        "  indices_a_eliminar.extend(filas_a_eliminar_aleatorias3.index)\n",
        "\n",
        "  df_1 = df_modificado2.drop(index=indices_a_eliminar)\n",
        "\n",
        "  #Creamos una variable que nos hable de cuántos días pasó hospitalizado el paciente\n",
        "\n",
        "df_1['Date of Admission'] = pd.to_datetime(df_1['Date of Admission'])\n",
        "\n",
        "df_1['Discharge Date'] = pd.to_datetime(df_1['Discharge Date'])\n",
        "\n",
        "df_1['Hospitalization Days'] = (df_1['Discharge Date'] - df_1['Date of Admission']).dt.days\n",
        "\n",
        "#Así ya tenemos preparado nuestro Dataframe\n",
        "\n"
      ],
      "metadata": {
        "id": "CwXJJEBjeOb_"
      },
      "execution_count": 39,
      "outputs": []
    },
    {
      "cell_type": "code",
      "source": [
        "#Visualización de las condiciones más frecuentes en los últimos 5 años\n",
        "\n",
        "# Contar las ocurrencias de cada valor en la columna\n",
        "conteos = df_1['Medical Condition'].value_counts()\n",
        "\n",
        "# Calcular el porcentaje de cada valor\n",
        "porcentajes1 = (conteos / len(df_1)) * 100\n",
        "\n",
        "# Crear un DataFrame con los porcentajes para Altair\n",
        "df_porcentaje = porcentajes1.reset_index()\n",
        "df_porcentaje.columns = ['Condition', 'Percentage']\n",
        "\n",
        "# Total de filas\n",
        "total_filas = len(df_1)\n",
        "\n",
        "# Crear una gráfica de pastel con Altair\n",
        "grafico = alt.Chart(df_porcentaje).mark_arc(innerRadius=50).encode(\n",
        "    theta=alt.Theta(field='Percentage', type='quantitative', title='Percentage'),\n",
        "    color=alt.Color(field='Condition', type='nominal', title='Condition'),\n",
        "    tooltip=[alt.Tooltip(field='Condition', type='nominal', title='Condition'),\n",
        "             alt.Tooltip(field='Percentage', type='quantitative', title='Percentage')]\n",
        ").properties(\n",
        "    title='Income causes',\n",
        "    width=400,  # Ajusta el ancho del gráfico\n",
        "    height=400  # Ajusta la altura del gráfico\n",
        ")\n",
        "\n",
        "# Crear un DataFrame para el texto total\n",
        "df_texto_total = pd.DataFrame({\n",
        "    'x': [0],\n",
        "    'y': [0],\n",
        "    'texto': [f'Number of patients: {total_filas}']\n",
        "})\n",
        "\n",
        "# Crear el gráfico de texto\n",
        "texto_total = alt.Chart(df_texto_total).mark_text(\n",
        "    align='center',\n",
        "    baseline='middle',\n",
        "    fontSize=14,\n",
        "    dy=210  # Ajusta la posición vertical del texto\n",
        ").encode(\n",
        "    x=alt.X('x:O', axis=None),\n",
        "    y=alt.Y('y:O', axis=None),\n",
        "    text='texto:N'\n",
        ").properties(\n",
        "    width=400,  # Ancho para el gráfico de texto\n",
        "    height=400  # Altura para el gráfico de texto\n",
        ")\n",
        "\n",
        "# Combinar el gráfico de pastel y el gráfico de texto\n",
        "grafico_final = grafico + texto_total\n",
        "\n",
        "# Mostrar el gráfico en Google Colab\n",
        "grafico_final"
      ],
      "metadata": {
        "colab": {
          "base_uri": "https://localhost:8080/",
          "height": 555
        },
        "id": "uKBS8WvUinLZ",
        "outputId": "07318a4d-e224-4e09-aecf-dc442dec94da"
      },
      "execution_count": 40,
      "outputs": [
        {
          "output_type": "stream",
          "name": "stderr",
          "text": [
            "/usr/local/lib/python3.10/dist-packages/altair/utils/core.py:384: FutureWarning: the convert_dtype parameter is deprecated and will be removed in a future version.  Do ``ser.astype(object).apply()`` instead if you want ``convert_dtype=False``.\n",
            "  col = df[col_name].apply(to_list_if_array, convert_dtype=False)\n",
            "/usr/local/lib/python3.10/dist-packages/altair/utils/core.py:384: FutureWarning: the convert_dtype parameter is deprecated and will be removed in a future version.  Do ``ser.astype(object).apply()`` instead if you want ``convert_dtype=False``.\n",
            "  col = df[col_name].apply(to_list_if_array, convert_dtype=False)\n"
          ]
        },
        {
          "output_type": "execute_result",
          "data": {
            "text/html": [
              "\n",
              "<div id=\"altair-viz-474668d12924466b89a7627fbd339232\"></div>\n",
              "<script type=\"text/javascript\">\n",
              "  var VEGA_DEBUG = (typeof VEGA_DEBUG == \"undefined\") ? {} : VEGA_DEBUG;\n",
              "  (function(spec, embedOpt){\n",
              "    let outputDiv = document.currentScript.previousElementSibling;\n",
              "    if (outputDiv.id !== \"altair-viz-474668d12924466b89a7627fbd339232\") {\n",
              "      outputDiv = document.getElementById(\"altair-viz-474668d12924466b89a7627fbd339232\");\n",
              "    }\n",
              "    const paths = {\n",
              "      \"vega\": \"https://cdn.jsdelivr.net/npm//vega@5?noext\",\n",
              "      \"vega-lib\": \"https://cdn.jsdelivr.net/npm//vega-lib?noext\",\n",
              "      \"vega-lite\": \"https://cdn.jsdelivr.net/npm//vega-lite@4.17.0?noext\",\n",
              "      \"vega-embed\": \"https://cdn.jsdelivr.net/npm//vega-embed@6?noext\",\n",
              "    };\n",
              "\n",
              "    function maybeLoadScript(lib, version) {\n",
              "      var key = `${lib.replace(\"-\", \"\")}_version`;\n",
              "      return (VEGA_DEBUG[key] == version) ?\n",
              "        Promise.resolve(paths[lib]) :\n",
              "        new Promise(function(resolve, reject) {\n",
              "          var s = document.createElement('script');\n",
              "          document.getElementsByTagName(\"head\")[0].appendChild(s);\n",
              "          s.async = true;\n",
              "          s.onload = () => {\n",
              "            VEGA_DEBUG[key] = version;\n",
              "            return resolve(paths[lib]);\n",
              "          };\n",
              "          s.onerror = () => reject(`Error loading script: ${paths[lib]}`);\n",
              "          s.src = paths[lib];\n",
              "        });\n",
              "    }\n",
              "\n",
              "    function showError(err) {\n",
              "      outputDiv.innerHTML = `<div class=\"error\" style=\"color:red;\">${err}</div>`;\n",
              "      throw err;\n",
              "    }\n",
              "\n",
              "    function displayChart(vegaEmbed) {\n",
              "      vegaEmbed(outputDiv, spec, embedOpt)\n",
              "        .catch(err => showError(`Javascript Error: ${err.message}<br>This usually means there's a typo in your chart specification. See the javascript console for the full traceback.`));\n",
              "    }\n",
              "\n",
              "    if(typeof define === \"function\" && define.amd) {\n",
              "      requirejs.config({paths});\n",
              "      require([\"vega-embed\"], displayChart, err => showError(`Error loading script: ${err.message}`));\n",
              "    } else {\n",
              "      maybeLoadScript(\"vega\", \"5\")\n",
              "        .then(() => maybeLoadScript(\"vega-lite\", \"4.17.0\"))\n",
              "        .then(() => maybeLoadScript(\"vega-embed\", \"6\"))\n",
              "        .catch(showError)\n",
              "        .then(() => displayChart(vegaEmbed));\n",
              "    }\n",
              "  })({\"config\": {\"view\": {\"continuousWidth\": 400, \"continuousHeight\": 300}}, \"layer\": [{\"data\": {\"name\": \"data-b7de2467e566e2e703d4c71c3f702b0d\"}, \"mark\": {\"type\": \"arc\", \"innerRadius\": 50}, \"encoding\": {\"color\": {\"field\": \"Condition\", \"title\": \"Condition\", \"type\": \"nominal\"}, \"theta\": {\"field\": \"Percentage\", \"title\": \"Percentage\", \"type\": \"quantitative\"}, \"tooltip\": [{\"field\": \"Condition\", \"title\": \"Condition\", \"type\": \"nominal\"}, {\"field\": \"Percentage\", \"title\": \"Percentage\", \"type\": \"quantitative\"}]}, \"height\": 400, \"title\": \"Income causes\", \"width\": 400}, {\"data\": {\"name\": \"data-01ae6092fc129690c92cf87388878eb8\"}, \"mark\": {\"type\": \"text\", \"align\": \"center\", \"baseline\": \"middle\", \"dy\": 210, \"fontSize\": 14}, \"encoding\": {\"text\": {\"field\": \"texto\", \"type\": \"nominal\"}, \"x\": {\"axis\": null, \"field\": \"x\", \"type\": \"ordinal\"}, \"y\": {\"axis\": null, \"field\": \"y\", \"type\": \"ordinal\"}}, \"height\": 400, \"width\": 400}], \"$schema\": \"https://vega.github.io/schema/vega-lite/v4.17.0.json\", \"datasets\": {\"data-b7de2467e566e2e703d4c71c3f702b0d\": [{\"Condition\": \"Arthritis\", \"Percentage\": 21.690732141721263}, {\"Condition\": \"Asthma\", \"Percentage\": 21.150054067807392}, {\"Condition\": \"Diabetes\", \"Percentage\": 18.179505120539403}, {\"Condition\": \"Obesity\", \"Percentage\": 17.41619489854335}, {\"Condition\": \"Hypertension\", \"Percentage\": 15.323452706570828}, {\"Condition\": \"Cancer\", \"Percentage\": 6.24006106481776}], \"data-01ae6092fc129690c92cf87388878eb8\": [{\"x\": 0, \"y\": 0, \"texto\": \"Number of patients: 15721\"}]}}, {\"mode\": \"vega-lite\"});\n",
              "</script>"
            ],
            "text/plain": [
              "alt.LayerChart(...)"
            ]
          },
          "metadata": {},
          "execution_count": 40
        }
      ]
    },
    {
      "cell_type": "markdown",
      "source": [
        "Asma: medicamentos más usados, costo total en promedio, diás de estancia en promedio..."
      ],
      "metadata": {
        "id": "mlQthgA1EIB3"
      }
    },
    {
      "cell_type": "code",
      "source": [
        "#Los tres medicamentos más utilizados en Asthma#\n",
        "\n",
        "# Filtrar las filas donde \"Medical Conditions\" es \"Asthma\"\n",
        "df_asthma = df_1[df_1['Medical Condition'] == 'Asthma']\n",
        "\n",
        "# Contar las ocurrencias de cada objeto en \"Medicamentos\"\n",
        "conteos_medicamentos = df_asthma['Medication'].value_counts()\n",
        "\n",
        "total_asthma  = len(df_asthma)\n",
        "\n",
        "# Seleccionar los 3 medicamentos más frecuentes\n",
        "top_3_medicamentos = conteos_medicamentos.head(3).reset_index()\n",
        "top_3_medicamentos.columns = ['Medication', 'Count']\n",
        "\n",
        "# Crear una gráfica de barras con Altair\n",
        "grafico_barras = alt.Chart(top_3_medicamentos).mark_bar().encode(\n",
        "    x=alt.X('Medication:O', title='Medication'),\n",
        "    y=alt.Y('Count:Q', title='Number of uses', axis=alt.Axis(format='d')),\n",
        "    color='Medication:N',\n",
        "    tooltip=[alt.Tooltip(field='Medication', type='nominal', title='Medication'),\n",
        "             alt.Tooltip(field='Count', type='quantitative', title='Number of uses')]\n",
        ").properties(\n",
        "    title='The three most used medications for \"Asthma\"',\n",
        "    width=400,  # Ajusta el ancho del gráfico\n",
        "    height=300  # Ajusta la altura del gráfico\n",
        ")\n",
        "\n",
        "# Crear un DataFrame para el texto total\n",
        "df_texto_total = pd.DataFrame({\n",
        "    'x': [0],\n",
        "    'y': [0],\n",
        "    'texto': [f'Patients with \"Asthma\": {total_asthma}']\n",
        "})\n",
        "\n",
        "# Crear el gráfico de texto\n",
        "texto_total = alt.Chart(df_texto_total).mark_text(\n",
        "    align='center',\n",
        "    baseline='bottom',\n",
        "    fontSize=14,\n",
        "    dy=170  # Ajusta la posición vertical del texto\n",
        ").encode(\n",
        "    x=alt.X('x:O', axis=None),\n",
        "    y=alt.Y('y:O', axis=None),\n",
        "    text='texto:N'\n",
        ").properties(\n",
        "    width=400,  # Ancho para el gráfico de texto\n",
        "    height=300  # Altura para el gráfico de texto\n",
        ")\n",
        "\n",
        "# Combinar el gráfico de barras y el gráfico de texto\n",
        "grafico_final = grafico_barras + texto_total\n",
        "\n",
        "grafico_final\n"
      ],
      "metadata": {
        "colab": {
          "base_uri": "https://localhost:8080/",
          "height": 463
        },
        "id": "7IqOglGKuML8",
        "outputId": "59d1bb09-0a5e-4246-c161-2fafcea81a16"
      },
      "execution_count": 41,
      "outputs": [
        {
          "output_type": "stream",
          "name": "stderr",
          "text": [
            "/usr/local/lib/python3.10/dist-packages/altair/utils/core.py:384: FutureWarning: the convert_dtype parameter is deprecated and will be removed in a future version.  Do ``ser.astype(object).apply()`` instead if you want ``convert_dtype=False``.\n",
            "  col = df[col_name].apply(to_list_if_array, convert_dtype=False)\n",
            "/usr/local/lib/python3.10/dist-packages/altair/utils/core.py:384: FutureWarning: the convert_dtype parameter is deprecated and will be removed in a future version.  Do ``ser.astype(object).apply()`` instead if you want ``convert_dtype=False``.\n",
            "  col = df[col_name].apply(to_list_if_array, convert_dtype=False)\n"
          ]
        },
        {
          "output_type": "execute_result",
          "data": {
            "text/html": [
              "\n",
              "<div id=\"altair-viz-683944e35d91419d823fb7496a9393cb\"></div>\n",
              "<script type=\"text/javascript\">\n",
              "  var VEGA_DEBUG = (typeof VEGA_DEBUG == \"undefined\") ? {} : VEGA_DEBUG;\n",
              "  (function(spec, embedOpt){\n",
              "    let outputDiv = document.currentScript.previousElementSibling;\n",
              "    if (outputDiv.id !== \"altair-viz-683944e35d91419d823fb7496a9393cb\") {\n",
              "      outputDiv = document.getElementById(\"altair-viz-683944e35d91419d823fb7496a9393cb\");\n",
              "    }\n",
              "    const paths = {\n",
              "      \"vega\": \"https://cdn.jsdelivr.net/npm//vega@5?noext\",\n",
              "      \"vega-lib\": \"https://cdn.jsdelivr.net/npm//vega-lib?noext\",\n",
              "      \"vega-lite\": \"https://cdn.jsdelivr.net/npm//vega-lite@4.17.0?noext\",\n",
              "      \"vega-embed\": \"https://cdn.jsdelivr.net/npm//vega-embed@6?noext\",\n",
              "    };\n",
              "\n",
              "    function maybeLoadScript(lib, version) {\n",
              "      var key = `${lib.replace(\"-\", \"\")}_version`;\n",
              "      return (VEGA_DEBUG[key] == version) ?\n",
              "        Promise.resolve(paths[lib]) :\n",
              "        new Promise(function(resolve, reject) {\n",
              "          var s = document.createElement('script');\n",
              "          document.getElementsByTagName(\"head\")[0].appendChild(s);\n",
              "          s.async = true;\n",
              "          s.onload = () => {\n",
              "            VEGA_DEBUG[key] = version;\n",
              "            return resolve(paths[lib]);\n",
              "          };\n",
              "          s.onerror = () => reject(`Error loading script: ${paths[lib]}`);\n",
              "          s.src = paths[lib];\n",
              "        });\n",
              "    }\n",
              "\n",
              "    function showError(err) {\n",
              "      outputDiv.innerHTML = `<div class=\"error\" style=\"color:red;\">${err}</div>`;\n",
              "      throw err;\n",
              "    }\n",
              "\n",
              "    function displayChart(vegaEmbed) {\n",
              "      vegaEmbed(outputDiv, spec, embedOpt)\n",
              "        .catch(err => showError(`Javascript Error: ${err.message}<br>This usually means there's a typo in your chart specification. See the javascript console for the full traceback.`));\n",
              "    }\n",
              "\n",
              "    if(typeof define === \"function\" && define.amd) {\n",
              "      requirejs.config({paths});\n",
              "      require([\"vega-embed\"], displayChart, err => showError(`Error loading script: ${err.message}`));\n",
              "    } else {\n",
              "      maybeLoadScript(\"vega\", \"5\")\n",
              "        .then(() => maybeLoadScript(\"vega-lite\", \"4.17.0\"))\n",
              "        .then(() => maybeLoadScript(\"vega-embed\", \"6\"))\n",
              "        .catch(showError)\n",
              "        .then(() => displayChart(vegaEmbed));\n",
              "    }\n",
              "  })({\"config\": {\"view\": {\"continuousWidth\": 400, \"continuousHeight\": 300}}, \"layer\": [{\"data\": {\"name\": \"data-ef9ab76ca92194ec7f5811b37911b632\"}, \"mark\": \"bar\", \"encoding\": {\"color\": {\"field\": \"Medication\", \"type\": \"nominal\"}, \"tooltip\": [{\"field\": \"Medication\", \"title\": \"Medication\", \"type\": \"nominal\"}, {\"field\": \"Count\", \"title\": \"Number of uses\", \"type\": \"quantitative\"}], \"x\": {\"field\": \"Medication\", \"title\": \"Medication\", \"type\": \"ordinal\"}, \"y\": {\"axis\": {\"format\": \"d\"}, \"field\": \"Count\", \"title\": \"Number of uses\", \"type\": \"quantitative\"}}, \"height\": 300, \"title\": \"The three most used medications for \\\"Asthma\\\"\", \"width\": 400}, {\"data\": {\"name\": \"data-a79e1badd40dd96774cf915b8f9b156e\"}, \"mark\": {\"type\": \"text\", \"align\": \"center\", \"baseline\": \"bottom\", \"dy\": 170, \"fontSize\": 14}, \"encoding\": {\"text\": {\"field\": \"texto\", \"type\": \"nominal\"}, \"x\": {\"axis\": null, \"field\": \"x\", \"type\": \"ordinal\"}, \"y\": {\"axis\": null, \"field\": \"y\", \"type\": \"ordinal\"}}, \"height\": 300, \"width\": 400}], \"$schema\": \"https://vega.github.io/schema/vega-lite/v4.17.0.json\", \"datasets\": {\"data-ef9ab76ca92194ec7f5811b37911b632\": [{\"Medication\": \"Lipitor\", \"Count\": 863}, {\"Medication\": \"Aspirin\", \"Count\": 836}, {\"Medication\": \"Penicillin\", \"Count\": 775}], \"data-a79e1badd40dd96774cf915b8f9b156e\": [{\"x\": 0, \"y\": 0, \"texto\": \"Patients with \\\"Asthma\\\": 3325\"}]}}, {\"mode\": \"vega-lite\"});\n",
              "</script>"
            ],
            "text/plain": [
              "alt.LayerChart(...)"
            ]
          },
          "metadata": {},
          "execution_count": 41
        }
      ]
    },
    {
      "cell_type": "code",
      "source": [
        "#Calcular el gasto promedio por estancia hospitalaria\n",
        "\n",
        "total_billing_amount = int(df_asthma['Billing Amount'].sum())\n",
        "\n",
        "# Calculamos el promedio de los valores en la columna \"Billing Insurance\" para los registros con \"Asthma\"\n",
        "average_billing_amount = int(df_asthma['Billing Amount'].mean())\n",
        "\n",
        "#Calculamos el tiempo de estancia promedio de un paciente con Asma\n",
        "\n",
        "average_hospitalization_days_asthma = df_asthma['Hospitalization Days'].mean()\n",
        "\n",
        "# Crea la gráfica lineal con Altair\n",
        "\n",
        "# Agrupa por número de días de hospitalización y calcula el costo promedio\n",
        "average_cost_by_days_asthma = df_asthma.groupby('Hospitalization Days')['Billing Amount'].mean().reset_index()\n",
        "\n",
        "# Definir el valor mínimo de costo para mostrar en la gráfica, por ejemplo, $500\n",
        "min_cost = 17200\n",
        "\n",
        "# Filtrar los datos para asegurarse de incluir solo los valores a partir de la cifra deseada\n",
        "filtered_data = average_cost_by_days_asthma[average_cost_by_days_asthma['Billing Amount'] >= min_cost]\n",
        "\n",
        "# Crear la gráfica lineal con Altair con un eje Y que comienza desde el costo mínimo especificado\n",
        "chart = alt.Chart(filtered_data).mark_line(point=True).encode(\n",
        "    x=alt.X('Hospitalization Days', title='Hospitalization Days'),\n",
        "    y=alt.Y('Billing Amount', title='Average cost of hospitalization', scale=alt.Scale(domain=(min_cost, filtered_data['Billing Amount'].max()))),\n",
        "    tooltip=['Hospitalization Days', 'Billing Amount']\n",
        ").properties(\n",
        "    title=f'Average cost of hospitalization for Asthma',\n",
        "    width=600,\n",
        "    height=400\n",
        ")\n",
        "\n",
        "print(f'Average days of hospitalization for patients with Asthma: {average_hospitalization_days_asthma:.2f} days')\n",
        "print(f'Average cost of hospitalization for asthma: {average_billing_amount}')\n",
        "\n",
        "chart\n"
      ],
      "metadata": {
        "colab": {
          "base_uri": "https://localhost:8080/",
          "height": 520
        },
        "id": "vgk8xqawNj8N",
        "outputId": "3f4c7cff-2738-43cf-cd31-2e4f1de110be"
      },
      "execution_count": 42,
      "outputs": [
        {
          "output_type": "stream",
          "name": "stdout",
          "text": [
            "Average days of hospitalization for patients with Asthma: 15.58 days\n",
            "Average cost of hospitalization for asthma: 20645\n"
          ]
        },
        {
          "output_type": "execute_result",
          "data": {
            "text/html": [
              "\n",
              "<div id=\"altair-viz-530ed7cb1252483488df9e57dbf0e1bf\"></div>\n",
              "<script type=\"text/javascript\">\n",
              "  var VEGA_DEBUG = (typeof VEGA_DEBUG == \"undefined\") ? {} : VEGA_DEBUG;\n",
              "  (function(spec, embedOpt){\n",
              "    let outputDiv = document.currentScript.previousElementSibling;\n",
              "    if (outputDiv.id !== \"altair-viz-530ed7cb1252483488df9e57dbf0e1bf\") {\n",
              "      outputDiv = document.getElementById(\"altair-viz-530ed7cb1252483488df9e57dbf0e1bf\");\n",
              "    }\n",
              "    const paths = {\n",
              "      \"vega\": \"https://cdn.jsdelivr.net/npm//vega@5?noext\",\n",
              "      \"vega-lib\": \"https://cdn.jsdelivr.net/npm//vega-lib?noext\",\n",
              "      \"vega-lite\": \"https://cdn.jsdelivr.net/npm//vega-lite@4.17.0?noext\",\n",
              "      \"vega-embed\": \"https://cdn.jsdelivr.net/npm//vega-embed@6?noext\",\n",
              "    };\n",
              "\n",
              "    function maybeLoadScript(lib, version) {\n",
              "      var key = `${lib.replace(\"-\", \"\")}_version`;\n",
              "      return (VEGA_DEBUG[key] == version) ?\n",
              "        Promise.resolve(paths[lib]) :\n",
              "        new Promise(function(resolve, reject) {\n",
              "          var s = document.createElement('script');\n",
              "          document.getElementsByTagName(\"head\")[0].appendChild(s);\n",
              "          s.async = true;\n",
              "          s.onload = () => {\n",
              "            VEGA_DEBUG[key] = version;\n",
              "            return resolve(paths[lib]);\n",
              "          };\n",
              "          s.onerror = () => reject(`Error loading script: ${paths[lib]}`);\n",
              "          s.src = paths[lib];\n",
              "        });\n",
              "    }\n",
              "\n",
              "    function showError(err) {\n",
              "      outputDiv.innerHTML = `<div class=\"error\" style=\"color:red;\">${err}</div>`;\n",
              "      throw err;\n",
              "    }\n",
              "\n",
              "    function displayChart(vegaEmbed) {\n",
              "      vegaEmbed(outputDiv, spec, embedOpt)\n",
              "        .catch(err => showError(`Javascript Error: ${err.message}<br>This usually means there's a typo in your chart specification. See the javascript console for the full traceback.`));\n",
              "    }\n",
              "\n",
              "    if(typeof define === \"function\" && define.amd) {\n",
              "      requirejs.config({paths});\n",
              "      require([\"vega-embed\"], displayChart, err => showError(`Error loading script: ${err.message}`));\n",
              "    } else {\n",
              "      maybeLoadScript(\"vega\", \"5\")\n",
              "        .then(() => maybeLoadScript(\"vega-lite\", \"4.17.0\"))\n",
              "        .then(() => maybeLoadScript(\"vega-embed\", \"6\"))\n",
              "        .catch(showError)\n",
              "        .then(() => displayChart(vegaEmbed));\n",
              "    }\n",
              "  })({\"config\": {\"view\": {\"continuousWidth\": 400, \"continuousHeight\": 300}}, \"data\": {\"name\": \"data-78cd47818175303ecad459a7dd315ca6\"}, \"mark\": {\"type\": \"line\", \"point\": true}, \"encoding\": {\"tooltip\": [{\"field\": \"Hospitalization Days\", \"type\": \"quantitative\"}, {\"field\": \"Billing Amount\", \"type\": \"quantitative\"}], \"x\": {\"field\": \"Hospitalization Days\", \"title\": \"Hospitalization Days\", \"type\": \"quantitative\"}, \"y\": {\"field\": \"Billing Amount\", \"scale\": {\"domain\": [17200, 23685.946056822177]}, \"title\": \"Average cost of hospitalization\", \"type\": \"quantitative\"}}, \"height\": 400, \"title\": \"Average cost of hospitalization for Asthma\", \"width\": 600, \"$schema\": \"https://vega.github.io/schema/vega-lite/v4.17.0.json\", \"datasets\": {\"data-78cd47818175303ecad459a7dd315ca6\": [{\"Hospitalization Days\": 1, \"Billing Amount\": 19795.082918706827}, {\"Hospitalization Days\": 2, \"Billing Amount\": 21555.837495730822}, {\"Hospitalization Days\": 3, \"Billing Amount\": 20016.000595783447}, {\"Hospitalization Days\": 4, \"Billing Amount\": 20846.471853547904}, {\"Hospitalization Days\": 5, \"Billing Amount\": 20148.115405537956}, {\"Hospitalization Days\": 6, \"Billing Amount\": 20938.052711459735}, {\"Hospitalization Days\": 7, \"Billing Amount\": 19616.68532512097}, {\"Hospitalization Days\": 8, \"Billing Amount\": 22769.69067471717}, {\"Hospitalization Days\": 9, \"Billing Amount\": 20834.290603969348}, {\"Hospitalization Days\": 10, \"Billing Amount\": 20164.92475073323}, {\"Hospitalization Days\": 11, \"Billing Amount\": 19410.39677935001}, {\"Hospitalization Days\": 12, \"Billing Amount\": 20812.229908553207}, {\"Hospitalization Days\": 13, \"Billing Amount\": 19398.2847946556}, {\"Hospitalization Days\": 14, \"Billing Amount\": 20755.329556256333}, {\"Hospitalization Days\": 15, \"Billing Amount\": 17455.39412520646}, {\"Hospitalization Days\": 16, \"Billing Amount\": 20628.992959124444}, {\"Hospitalization Days\": 17, \"Billing Amount\": 20771.740093388238}, {\"Hospitalization Days\": 18, \"Billing Amount\": 21348.8486909932}, {\"Hospitalization Days\": 19, \"Billing Amount\": 18544.809077376507}, {\"Hospitalization Days\": 20, \"Billing Amount\": 20491.969217156577}, {\"Hospitalization Days\": 21, \"Billing Amount\": 21108.022079491013}, {\"Hospitalization Days\": 22, \"Billing Amount\": 21873.82183270353}, {\"Hospitalization Days\": 23, \"Billing Amount\": 21454.786695427123}, {\"Hospitalization Days\": 24, \"Billing Amount\": 21578.961380018758}, {\"Hospitalization Days\": 25, \"Billing Amount\": 21163.468039056752}, {\"Hospitalization Days\": 26, \"Billing Amount\": 22145.843900267486}, {\"Hospitalization Days\": 27, \"Billing Amount\": 20432.53312342263}, {\"Hospitalization Days\": 28, \"Billing Amount\": 23685.946056822177}, {\"Hospitalization Days\": 29, \"Billing Amount\": 18867.992030611844}, {\"Hospitalization Days\": 30, \"Billing Amount\": 19389.818414746554}]}}, {\"mode\": \"vega-lite\"});\n",
              "</script>"
            ],
            "text/plain": [
              "alt.Chart(...)"
            ]
          },
          "metadata": {},
          "execution_count": 42
        }
      ]
    },
    {
      "cell_type": "markdown",
      "source": [
        "Diabetes: medicamentos más usados, costo total en promedio, diás de estancia en promedio..."
      ],
      "metadata": {
        "id": "Fy8Vo4cokw5O"
      }
    },
    {
      "cell_type": "code",
      "source": [
        "#Los tres medicamentos más utilizados en Diabetes#\n",
        "\n",
        "# Filtrar las filas donde \"Medical Conditions\" es \"Diabetes\"\n",
        "df_diabetes = df_1[df_1['Medical Condition'] == 'Diabetes']\n",
        "\n",
        "# Contar las ocurrencias de cada objeto en \"Medicamentos\"\n",
        "conteos_medicamentos_diabetes = df_diabetes['Medication'].value_counts()\n",
        "\n",
        "total_diabetes  = len(df_diabetes)\n",
        "\n",
        "# Seleccionar los 3 medicamentos más frecuentes\n",
        "top_3_medicamentos_diabetes = conteos_medicamentos_diabetes.head(3).reset_index()\n",
        "top_3_medicamentos_diabetes.columns = ['Medication', 'Count']\n",
        "\n",
        "# Crear una gráfica de barras con Altair\n",
        "grafico_barras = alt.Chart(top_3_medicamentos_diabetes).mark_bar().encode(\n",
        "    x=alt.X('Medication:O', title='Medication'),\n",
        "    y=alt.Y('Count:Q', title='Number of uses', axis=alt.Axis(format='d')),\n",
        "    color='Medication:N',\n",
        "    tooltip=[alt.Tooltip(field='Medication', type='nominal', title='Medication'),\n",
        "             alt.Tooltip(field='Count', type='quantitative', title='Number of uses')]\n",
        ").properties(\n",
        "    title='The three most used medications for \"Diabetes\"',\n",
        "    width=400,  # Ajusta el ancho del gráfico\n",
        "    height=300  # Ajusta la altura del gráfico\n",
        ")\n",
        "\n",
        "# Crear un DataFrame para el texto total\n",
        "df_texto_total_diabetes = pd.DataFrame({\n",
        "    'x': [0],\n",
        "    'y': [0],\n",
        "    'texto': [f'Patients with \"Diabetes\": {total_diabetes}']\n",
        "})\n",
        "\n",
        "# Crear el gráfico de texto\n",
        "texto_total = alt.Chart(df_texto_total_diabetes).mark_text(\n",
        "    align='center',\n",
        "    baseline='bottom',\n",
        "    fontSize=14,\n",
        "    dy=170  # Ajusta la posición vertical del texto\n",
        ").encode(\n",
        "    x=alt.X('x:O', axis=None),\n",
        "    y=alt.Y('y:O', axis=None),\n",
        "    text='texto:N'\n",
        ").properties(\n",
        "    width=400,  # Ancho para el gráfico de texto\n",
        "    height=300  # Altura para el gráfico de texto\n",
        ")\n",
        "\n",
        "#Calcular el gasto promedio por estancia hospitalaria\n",
        "\n",
        "total_billing_amount_d = int(df_diabetes['Billing Amount'].sum())\n",
        "\n",
        "# Calculamos el promedio de los valores en la columna \"Billing Insurance\" para los registros con \"Asthma\"\n",
        "average_billing_amount_d = int(df_diabetes['Billing Amount'].mean())\n",
        "\n",
        "#Calculamos el tiempo de estancia promedio de un paciente con Asma\n",
        "\n",
        "average_hospitalization_days_d = df_diabetes['Hospitalization Days'].mean()\n",
        "\n",
        "# Agrupa por número de días de hospitalización y calcula el costo promedio\n",
        "average_cost_by_days_d = df_diabetes.groupby('Hospitalization Days')['Billing Amount'].mean().reset_index()\n",
        "\n",
        "# Combinar el gráfico de barras y el gráfico de texto\n",
        "grafico_final = grafico_barras + texto_total\n",
        "\n",
        "print(f'Average days of hospitalization for patients with diabetes: {average_hospitalization_days_d:.2f} days')\n",
        "print(f'Average cost of hospitalization for asthma: {average_billing_amount_d}')\n",
        "grafico_final"
      ],
      "metadata": {
        "id": "gxETjENXkvIm",
        "outputId": "dd436da4-47bf-4710-af7b-9cdfc061b79d",
        "colab": {
          "base_uri": "https://localhost:8080/",
          "height": 497
        }
      },
      "execution_count": 43,
      "outputs": [
        {
          "output_type": "stream",
          "name": "stdout",
          "text": [
            "Average days of hospitalization for patients with diabetes: 15.21 days\n",
            "Average cost of hospitalization for asthma: 20418\n"
          ]
        },
        {
          "output_type": "stream",
          "name": "stderr",
          "text": [
            "/usr/local/lib/python3.10/dist-packages/altair/utils/core.py:384: FutureWarning: the convert_dtype parameter is deprecated and will be removed in a future version.  Do ``ser.astype(object).apply()`` instead if you want ``convert_dtype=False``.\n",
            "  col = df[col_name].apply(to_list_if_array, convert_dtype=False)\n",
            "/usr/local/lib/python3.10/dist-packages/altair/utils/core.py:384: FutureWarning: the convert_dtype parameter is deprecated and will be removed in a future version.  Do ``ser.astype(object).apply()`` instead if you want ``convert_dtype=False``.\n",
            "  col = df[col_name].apply(to_list_if_array, convert_dtype=False)\n"
          ]
        },
        {
          "output_type": "execute_result",
          "data": {
            "text/html": [
              "\n",
              "<div id=\"altair-viz-4309901d72f2452c971d1943a3634591\"></div>\n",
              "<script type=\"text/javascript\">\n",
              "  var VEGA_DEBUG = (typeof VEGA_DEBUG == \"undefined\") ? {} : VEGA_DEBUG;\n",
              "  (function(spec, embedOpt){\n",
              "    let outputDiv = document.currentScript.previousElementSibling;\n",
              "    if (outputDiv.id !== \"altair-viz-4309901d72f2452c971d1943a3634591\") {\n",
              "      outputDiv = document.getElementById(\"altair-viz-4309901d72f2452c971d1943a3634591\");\n",
              "    }\n",
              "    const paths = {\n",
              "      \"vega\": \"https://cdn.jsdelivr.net/npm//vega@5?noext\",\n",
              "      \"vega-lib\": \"https://cdn.jsdelivr.net/npm//vega-lib?noext\",\n",
              "      \"vega-lite\": \"https://cdn.jsdelivr.net/npm//vega-lite@4.17.0?noext\",\n",
              "      \"vega-embed\": \"https://cdn.jsdelivr.net/npm//vega-embed@6?noext\",\n",
              "    };\n",
              "\n",
              "    function maybeLoadScript(lib, version) {\n",
              "      var key = `${lib.replace(\"-\", \"\")}_version`;\n",
              "      return (VEGA_DEBUG[key] == version) ?\n",
              "        Promise.resolve(paths[lib]) :\n",
              "        new Promise(function(resolve, reject) {\n",
              "          var s = document.createElement('script');\n",
              "          document.getElementsByTagName(\"head\")[0].appendChild(s);\n",
              "          s.async = true;\n",
              "          s.onload = () => {\n",
              "            VEGA_DEBUG[key] = version;\n",
              "            return resolve(paths[lib]);\n",
              "          };\n",
              "          s.onerror = () => reject(`Error loading script: ${paths[lib]}`);\n",
              "          s.src = paths[lib];\n",
              "        });\n",
              "    }\n",
              "\n",
              "    function showError(err) {\n",
              "      outputDiv.innerHTML = `<div class=\"error\" style=\"color:red;\">${err}</div>`;\n",
              "      throw err;\n",
              "    }\n",
              "\n",
              "    function displayChart(vegaEmbed) {\n",
              "      vegaEmbed(outputDiv, spec, embedOpt)\n",
              "        .catch(err => showError(`Javascript Error: ${err.message}<br>This usually means there's a typo in your chart specification. See the javascript console for the full traceback.`));\n",
              "    }\n",
              "\n",
              "    if(typeof define === \"function\" && define.amd) {\n",
              "      requirejs.config({paths});\n",
              "      require([\"vega-embed\"], displayChart, err => showError(`Error loading script: ${err.message}`));\n",
              "    } else {\n",
              "      maybeLoadScript(\"vega\", \"5\")\n",
              "        .then(() => maybeLoadScript(\"vega-lite\", \"4.17.0\"))\n",
              "        .then(() => maybeLoadScript(\"vega-embed\", \"6\"))\n",
              "        .catch(showError)\n",
              "        .then(() => displayChart(vegaEmbed));\n",
              "    }\n",
              "  })({\"config\": {\"view\": {\"continuousWidth\": 400, \"continuousHeight\": 300}}, \"layer\": [{\"data\": {\"name\": \"data-5e1a539d54ba846ed66fe8adb6615429\"}, \"mark\": \"bar\", \"encoding\": {\"color\": {\"field\": \"Medication\", \"type\": \"nominal\"}, \"tooltip\": [{\"field\": \"Medication\", \"title\": \"Medication\", \"type\": \"nominal\"}, {\"field\": \"Count\", \"title\": \"Number of uses\", \"type\": \"quantitative\"}], \"x\": {\"field\": \"Medication\", \"title\": \"Medication\", \"type\": \"ordinal\"}, \"y\": {\"axis\": {\"format\": \"d\"}, \"field\": \"Count\", \"title\": \"Number of uses\", \"type\": \"quantitative\"}}, \"height\": 300, \"title\": \"The three most used medications for \\\"Diabetes\\\"\", \"width\": 400}, {\"data\": {\"name\": \"data-0f5dfe4f98685a32acac840ebf73e4c0\"}, \"mark\": {\"type\": \"text\", \"align\": \"center\", \"baseline\": \"bottom\", \"dy\": 170, \"fontSize\": 14}, \"encoding\": {\"text\": {\"field\": \"texto\", \"type\": \"nominal\"}, \"x\": {\"axis\": null, \"field\": \"x\", \"type\": \"ordinal\"}, \"y\": {\"axis\": null, \"field\": \"y\", \"type\": \"ordinal\"}}, \"height\": 300, \"width\": 400}], \"$schema\": \"https://vega.github.io/schema/vega-lite/v4.17.0.json\", \"datasets\": {\"data-5e1a539d54ba846ed66fe8adb6615429\": [{\"Medication\": \"Lipitor\", \"Count\": 762}, {\"Medication\": \"Penicillin\", \"Count\": 677}, {\"Medication\": \"Aspirin\", \"Count\": 648}], \"data-0f5dfe4f98685a32acac840ebf73e4c0\": [{\"x\": 0, \"y\": 0, \"texto\": \"Patients with \\\"Diabetes\\\": 2858\"}]}}, {\"mode\": \"vega-lite\"});\n",
              "</script>"
            ],
            "text/plain": [
              "alt.LayerChart(...)"
            ]
          },
          "metadata": {},
          "execution_count": 43
        }
      ]
    },
    {
      "cell_type": "markdown",
      "source": [
        "Artritis: medicamentos más usados, costo total en promedio, diás de estancia en promedio..."
      ],
      "metadata": {
        "id": "K9dPsMmKU9eG"
      }
    },
    {
      "cell_type": "code",
      "source": [
        "#Los tres medicamentos más utilizados en Artritis#\n",
        "\n",
        "# Filtrar las filas donde \"Medical Conditions\" es \"Arthritis\"\n",
        "df_arthritis = df_1[df_1['Medical Condition'] == 'Arthritis']\n",
        "\n",
        "# Contar las ocurrencias de cada objeto en \"Medicamentos\"\n",
        "conteos_medicamentos_arthritis = df_arthritis['Medication'].value_counts()\n",
        "\n",
        "total_arthritis  = len(df_arthritis)\n",
        "\n",
        "# Seleccionar los 3 medicamentos más frecuentes\n",
        "top_3_medicamentos_arthritis = conteos_medicamentos_arthritis.head(3).reset_index()\n",
        "top_3_medicamentos_arthritis.columns = ['Medication', 'Count']\n",
        "\n",
        "# Crear una gráfica de barras con Altair\n",
        "grafico_barras = alt.Chart(top_3_medicamentos_arthritis).mark_bar().encode(\n",
        "    x=alt.X('Medication:O', title='Medication'),\n",
        "    y=alt.Y('Count:Q', title='Number of uses', axis=alt.Axis(format='d')),\n",
        "    color='Medication:N',\n",
        "    tooltip=[alt.Tooltip(field='Medication', type='nominal', title='Medication'),\n",
        "             alt.Tooltip(field='Count', type='quantitative', title='Number of uses')]\n",
        ").properties(\n",
        "    title='The three most used medications for \"Arthritis\"',\n",
        "    width=400,  # Ajusta el ancho del gráfico\n",
        "    height=300  # Ajusta la altura del gráfico\n",
        ")\n",
        "\n",
        "# Crear un DataFrame para el texto total\n",
        "df_texto_total_arthritis = pd.DataFrame({\n",
        "    'x': [0],\n",
        "    'y': [0],\n",
        "    'texto': [f'Patients with \"Arthritis\": {total_arthritis}']\n",
        "})\n",
        "\n",
        "# Crear el gráfico de texto\n",
        "texto_total_arthritis = alt.Chart(df_texto_total_arthritis).mark_text(\n",
        "    align='center',\n",
        "    baseline='bottom',\n",
        "    fontSize=14,\n",
        "    dy=170  # Ajusta la posición vertical del texto\n",
        ").encode(\n",
        "    x=alt.X('x:O', axis=None),\n",
        "    y=alt.Y('y:O', axis=None),\n",
        "    text='texto:N'\n",
        ").properties(\n",
        "    width=400,  # Ancho para el gráfico de texto\n",
        "    height=300  # Altura para el gráfico de texto\n",
        ")\n",
        "\n",
        "#Calcular el gasto promedio por estancia hospitalaria\n",
        "\n",
        "total_billing_amount_a = int(df_arthritis['Billing Amount'].sum())\n",
        "\n",
        "# Calculamos el promedio de los valores en la columna \"Billing Amount\" para los registros con \"Arthritis\"\n",
        "average_billing_amount_a = int(df_arthritis['Billing Amount'].mean())\n",
        "\n",
        "#Calculamos el tiempo de estancia promedio de un paciente con Artritis\n",
        "\n",
        "average_hospitalization_days_a = df_arthritis['Hospitalization Days'].mean()\n",
        "\n",
        "# Agrupa por número de días de hospitalización y calcula el costo promedio\n",
        "average_cost_by_days_a = df_arthritis.groupby('Hospitalization Days')['Billing Amount'].mean().reset_index()\n",
        "\n",
        "# Combinar el gráfico de barras y el gráfico de texto\n",
        "grafico_final = grafico_barras + texto_total_arthritis\n",
        "\n",
        "print(f'Average days of hospitalization for patients with arthritis: {average_hospitalization_days_a:.2f} days')\n",
        "print(f'Average cost of hospitalization for arthritis: {average_billing_amount_a}')\n",
        "grafico_final"
      ],
      "metadata": {
        "colab": {
          "base_uri": "https://localhost:8080/",
          "height": 497
        },
        "id": "W72_94RzVFIp",
        "outputId": "fe128fd1-f0eb-48d1-c08f-75a3356d38a3"
      },
      "execution_count": 44,
      "outputs": [
        {
          "output_type": "stream",
          "name": "stdout",
          "text": [
            "Average days of hospitalization for patients with arthritis: 15.54 days\n",
            "Average cost of hospitalization for arthritis: 20243\n"
          ]
        },
        {
          "output_type": "stream",
          "name": "stderr",
          "text": [
            "/usr/local/lib/python3.10/dist-packages/altair/utils/core.py:384: FutureWarning: the convert_dtype parameter is deprecated and will be removed in a future version.  Do ``ser.astype(object).apply()`` instead if you want ``convert_dtype=False``.\n",
            "  col = df[col_name].apply(to_list_if_array, convert_dtype=False)\n",
            "/usr/local/lib/python3.10/dist-packages/altair/utils/core.py:384: FutureWarning: the convert_dtype parameter is deprecated and will be removed in a future version.  Do ``ser.astype(object).apply()`` instead if you want ``convert_dtype=False``.\n",
            "  col = df[col_name].apply(to_list_if_array, convert_dtype=False)\n"
          ]
        },
        {
          "output_type": "execute_result",
          "data": {
            "text/html": [
              "\n",
              "<div id=\"altair-viz-0320289c0197402289ca99821fd0416c\"></div>\n",
              "<script type=\"text/javascript\">\n",
              "  var VEGA_DEBUG = (typeof VEGA_DEBUG == \"undefined\") ? {} : VEGA_DEBUG;\n",
              "  (function(spec, embedOpt){\n",
              "    let outputDiv = document.currentScript.previousElementSibling;\n",
              "    if (outputDiv.id !== \"altair-viz-0320289c0197402289ca99821fd0416c\") {\n",
              "      outputDiv = document.getElementById(\"altair-viz-0320289c0197402289ca99821fd0416c\");\n",
              "    }\n",
              "    const paths = {\n",
              "      \"vega\": \"https://cdn.jsdelivr.net/npm//vega@5?noext\",\n",
              "      \"vega-lib\": \"https://cdn.jsdelivr.net/npm//vega-lib?noext\",\n",
              "      \"vega-lite\": \"https://cdn.jsdelivr.net/npm//vega-lite@4.17.0?noext\",\n",
              "      \"vega-embed\": \"https://cdn.jsdelivr.net/npm//vega-embed@6?noext\",\n",
              "    };\n",
              "\n",
              "    function maybeLoadScript(lib, version) {\n",
              "      var key = `${lib.replace(\"-\", \"\")}_version`;\n",
              "      return (VEGA_DEBUG[key] == version) ?\n",
              "        Promise.resolve(paths[lib]) :\n",
              "        new Promise(function(resolve, reject) {\n",
              "          var s = document.createElement('script');\n",
              "          document.getElementsByTagName(\"head\")[0].appendChild(s);\n",
              "          s.async = true;\n",
              "          s.onload = () => {\n",
              "            VEGA_DEBUG[key] = version;\n",
              "            return resolve(paths[lib]);\n",
              "          };\n",
              "          s.onerror = () => reject(`Error loading script: ${paths[lib]}`);\n",
              "          s.src = paths[lib];\n",
              "        });\n",
              "    }\n",
              "\n",
              "    function showError(err) {\n",
              "      outputDiv.innerHTML = `<div class=\"error\" style=\"color:red;\">${err}</div>`;\n",
              "      throw err;\n",
              "    }\n",
              "\n",
              "    function displayChart(vegaEmbed) {\n",
              "      vegaEmbed(outputDiv, spec, embedOpt)\n",
              "        .catch(err => showError(`Javascript Error: ${err.message}<br>This usually means there's a typo in your chart specification. See the javascript console for the full traceback.`));\n",
              "    }\n",
              "\n",
              "    if(typeof define === \"function\" && define.amd) {\n",
              "      requirejs.config({paths});\n",
              "      require([\"vega-embed\"], displayChart, err => showError(`Error loading script: ${err.message}`));\n",
              "    } else {\n",
              "      maybeLoadScript(\"vega\", \"5\")\n",
              "        .then(() => maybeLoadScript(\"vega-lite\", \"4.17.0\"))\n",
              "        .then(() => maybeLoadScript(\"vega-embed\", \"6\"))\n",
              "        .catch(showError)\n",
              "        .then(() => displayChart(vegaEmbed));\n",
              "    }\n",
              "  })({\"config\": {\"view\": {\"continuousWidth\": 400, \"continuousHeight\": 300}}, \"layer\": [{\"data\": {\"name\": \"data-6ccf84fa0c3848c240a009c07af48b76\"}, \"mark\": \"bar\", \"encoding\": {\"color\": {\"field\": \"Medication\", \"type\": \"nominal\"}, \"tooltip\": [{\"field\": \"Medication\", \"title\": \"Medication\", \"type\": \"nominal\"}, {\"field\": \"Count\", \"title\": \"Number of uses\", \"type\": \"quantitative\"}], \"x\": {\"field\": \"Medication\", \"title\": \"Medication\", \"type\": \"ordinal\"}, \"y\": {\"axis\": {\"format\": \"d\"}, \"field\": \"Count\", \"title\": \"Number of uses\", \"type\": \"quantitative\"}}, \"height\": 300, \"title\": \"The three most used medications for \\\"Arthritis\\\"\", \"width\": 400}, {\"data\": {\"name\": \"data-2313b54a6fe96b4c4e60379cf9bc40b4\"}, \"mark\": {\"type\": \"text\", \"align\": \"center\", \"baseline\": \"bottom\", \"dy\": 170, \"fontSize\": 14}, \"encoding\": {\"text\": {\"field\": \"texto\", \"type\": \"nominal\"}, \"x\": {\"axis\": null, \"field\": \"x\", \"type\": \"ordinal\"}, \"y\": {\"axis\": null, \"field\": \"y\", \"type\": \"ordinal\"}}, \"height\": 300, \"width\": 400}], \"$schema\": \"https://vega.github.io/schema/vega-lite/v4.17.0.json\", \"datasets\": {\"data-6ccf84fa0c3848c240a009c07af48b76\": [{\"Medication\": \"Lipitor\", \"Count\": 873}, {\"Medication\": \"Aspirin\", \"Count\": 861}, {\"Medication\": \"Penicillin\", \"Count\": 791}], \"data-2313b54a6fe96b4c4e60379cf9bc40b4\": [{\"x\": 0, \"y\": 0, \"texto\": \"Patients with \\\"Arthritis\\\": 3410\"}]}}, {\"mode\": \"vega-lite\"});\n",
              "</script>"
            ],
            "text/plain": [
              "alt.LayerChart(...)"
            ]
          },
          "metadata": {},
          "execution_count": 44
        }
      ]
    },
    {
      "cell_type": "markdown",
      "source": [
        "Muy bien. Ya obtuvimos los datos respecto a las tres enfermedades más comunes dentro de nuestro Dataframe, así como los tres medicamentos más usados dentro de cada una de ellas, sus días promedio de estancia intrahospitalaria y el costo promedio  por hospitatilzación.\n",
        "\n",
        "A continuación determinaremos el porcentaje que cada aseguradora tiene con base a los pacientes cuyos gastos médicos cubrieron."
      ],
      "metadata": {
        "id": "GWcLq1lEduPK"
      }
    },
    {
      "cell_type": "code",
      "source": [
        "# Contar el número total de pacientes\n",
        "total_pacientes = len(df_1)\n",
        "\n",
        "# Contar el número de pacientes por cada aseguradora\n",
        "conteo_aseguradoras = df_1['Insurance Provider'].value_counts()\n",
        "\n",
        "# Calcular el porcentaje de pacientes por cada aseguradora\n",
        "porcentaje_aseguradoras = (conteo_aseguradoras / total_pacientes) * 100\n",
        "\n",
        "# Convertir el resultado a un DataFrame para una presentación más clara\n",
        "resultado = pd.DataFrame({\n",
        "    'Insurance Provider': porcentaje_aseguradoras.index,\n",
        "    'Percentage': porcentaje_aseguradoras.values\n",
        "})\n",
        "\n",
        "# Ordenar el resultado por porcentaje en orden descendente\n",
        "resultado = resultado.sort_values(by='Percentage', ascending=False)\n",
        "\n",
        "# Mostrar el resultado\n",
        "print(resultado)"
      ],
      "metadata": {
        "id": "_nAojiBZnscC",
        "colab": {
          "base_uri": "https://localhost:8080/"
        },
        "outputId": "6e2ee5b7-2726-4051-a9cd-63944485a29c"
      },
      "execution_count": 45,
      "outputs": [
        {
          "output_type": "stream",
          "name": "stdout",
          "text": [
            "  Insurance Provider  Percentage\n",
            "0   UnitedHealthcare   23.637173\n",
            "1              Aetna   21.709815\n",
            "2           Medicare   19.846066\n",
            "3              Cigna   18.688379\n",
            "4         Blue Cross   16.118568\n"
          ]
        }
      ]
    },
    {
      "cell_type": "markdown",
      "source": [
        "Ahora veamos cuáles son las condicionas más manejadas por nuestra principal aseguradora."
      ],
      "metadata": {
        "id": "k6zgJ3rKku3j"
      }
    },
    {
      "cell_type": "code",
      "source": [
        "# Filtra los datos para la aseguradora específica\n",
        "aseguradora = 'UnitedHealthcare'\n",
        "df_aseguradora = df_1[df_1['Insurance Provider'] == aseguradora]\n",
        "\n",
        "# Contar el número de pacientes por condición médica para la aseguradora\n",
        "conteo_condiciones = df_aseguradora['Medical Condition'].value_counts().reset_index()\n",
        "conteo_condiciones.columns = ['Medical Condition', 'Count']\n",
        "\n",
        "# Calcular el total de pacientes asegurados por la aseguradora\n",
        "total_pacientes_aseguradora = len(df_aseguradora)\n",
        "\n",
        "# Calcular el porcentaje para cada condición médica\n",
        "conteo_condiciones['Percentage'] = (conteo_condiciones['Count'] / total_pacientes_aseguradora) * 100\n",
        "\n",
        "# Crear el gráfico de pastel con Altair\n",
        "chart = alt.Chart(conteo_condiciones).mark_arc(innerRadius=50).encode(\n",
        "    theta=alt.Theta(field='Percentage', type='quantitative'),\n",
        "    color=alt.Color(field='Medical Condition', type='nominal'),\n",
        "    tooltip=['Medical Condition', 'Count', 'Percentage:Q']\n",
        ").properties(\n",
        "    title=f'Distribución de Condiciones Médicas Cubiertas por {aseguradora}'\n",
        ")\n",
        "\n",
        "# Crear un texto informativo con Altair\n",
        "text = alt.Chart(pd.DataFrame({\n",
        "    'text': [f'Total de pacientes asegurados: {total_pacientes_aseguradora}']\n",
        "})).mark_text(\n",
        "    align='center',\n",
        "    baseline='middle',\n",
        "    fontSize=12,\n",
        "    dy=180\n",
        ").encode(\n",
        "    text='text:N'\n",
        ")\n",
        "\n",
        "# Combinar el gráfico y el texto en una sola visualización usando alt.layer\n",
        "final_chart = alt.layer(chart, text).properties(\n",
        "    height=350  # Ajusta la altura total de la visualización si es necesario\n",
        ")\n",
        "\n",
        "final_chart"
      ],
      "metadata": {
        "id": "tNyZae5ilsYj",
        "outputId": "6e34fa1f-abf4-4596-a11a-0faed0453d31",
        "colab": {
          "base_uri": "https://localhost:8080/",
          "height": 499
        }
      },
      "execution_count": 46,
      "outputs": [
        {
          "output_type": "stream",
          "name": "stderr",
          "text": [
            "/usr/local/lib/python3.10/dist-packages/altair/utils/core.py:384: FutureWarning: the convert_dtype parameter is deprecated and will be removed in a future version.  Do ``ser.astype(object).apply()`` instead if you want ``convert_dtype=False``.\n",
            "  col = df[col_name].apply(to_list_if_array, convert_dtype=False)\n",
            "/usr/local/lib/python3.10/dist-packages/altair/utils/core.py:384: FutureWarning: the convert_dtype parameter is deprecated and will be removed in a future version.  Do ``ser.astype(object).apply()`` instead if you want ``convert_dtype=False``.\n",
            "  col = df[col_name].apply(to_list_if_array, convert_dtype=False)\n"
          ]
        },
        {
          "output_type": "execute_result",
          "data": {
            "text/html": [
              "\n",
              "<div id=\"altair-viz-583d67ef77cd4c16898236b785a2a7ee\"></div>\n",
              "<script type=\"text/javascript\">\n",
              "  var VEGA_DEBUG = (typeof VEGA_DEBUG == \"undefined\") ? {} : VEGA_DEBUG;\n",
              "  (function(spec, embedOpt){\n",
              "    let outputDiv = document.currentScript.previousElementSibling;\n",
              "    if (outputDiv.id !== \"altair-viz-583d67ef77cd4c16898236b785a2a7ee\") {\n",
              "      outputDiv = document.getElementById(\"altair-viz-583d67ef77cd4c16898236b785a2a7ee\");\n",
              "    }\n",
              "    const paths = {\n",
              "      \"vega\": \"https://cdn.jsdelivr.net/npm//vega@5?noext\",\n",
              "      \"vega-lib\": \"https://cdn.jsdelivr.net/npm//vega-lib?noext\",\n",
              "      \"vega-lite\": \"https://cdn.jsdelivr.net/npm//vega-lite@4.17.0?noext\",\n",
              "      \"vega-embed\": \"https://cdn.jsdelivr.net/npm//vega-embed@6?noext\",\n",
              "    };\n",
              "\n",
              "    function maybeLoadScript(lib, version) {\n",
              "      var key = `${lib.replace(\"-\", \"\")}_version`;\n",
              "      return (VEGA_DEBUG[key] == version) ?\n",
              "        Promise.resolve(paths[lib]) :\n",
              "        new Promise(function(resolve, reject) {\n",
              "          var s = document.createElement('script');\n",
              "          document.getElementsByTagName(\"head\")[0].appendChild(s);\n",
              "          s.async = true;\n",
              "          s.onload = () => {\n",
              "            VEGA_DEBUG[key] = version;\n",
              "            return resolve(paths[lib]);\n",
              "          };\n",
              "          s.onerror = () => reject(`Error loading script: ${paths[lib]}`);\n",
              "          s.src = paths[lib];\n",
              "        });\n",
              "    }\n",
              "\n",
              "    function showError(err) {\n",
              "      outputDiv.innerHTML = `<div class=\"error\" style=\"color:red;\">${err}</div>`;\n",
              "      throw err;\n",
              "    }\n",
              "\n",
              "    function displayChart(vegaEmbed) {\n",
              "      vegaEmbed(outputDiv, spec, embedOpt)\n",
              "        .catch(err => showError(`Javascript Error: ${err.message}<br>This usually means there's a typo in your chart specification. See the javascript console for the full traceback.`));\n",
              "    }\n",
              "\n",
              "    if(typeof define === \"function\" && define.amd) {\n",
              "      requirejs.config({paths});\n",
              "      require([\"vega-embed\"], displayChart, err => showError(`Error loading script: ${err.message}`));\n",
              "    } else {\n",
              "      maybeLoadScript(\"vega\", \"5\")\n",
              "        .then(() => maybeLoadScript(\"vega-lite\", \"4.17.0\"))\n",
              "        .then(() => maybeLoadScript(\"vega-embed\", \"6\"))\n",
              "        .catch(showError)\n",
              "        .then(() => displayChart(vegaEmbed));\n",
              "    }\n",
              "  })({\"config\": {\"view\": {\"continuousWidth\": 400, \"continuousHeight\": 300}}, \"layer\": [{\"data\": {\"name\": \"data-d3dc462da61c4bc855dbbf07defcb49a\"}, \"mark\": {\"type\": \"arc\", \"innerRadius\": 50}, \"encoding\": {\"color\": {\"field\": \"Medical Condition\", \"type\": \"nominal\"}, \"theta\": {\"field\": \"Percentage\", \"type\": \"quantitative\"}, \"tooltip\": [{\"field\": \"Medical Condition\", \"type\": \"nominal\"}, {\"field\": \"Count\", \"type\": \"quantitative\"}, {\"field\": \"Percentage\", \"type\": \"quantitative\"}]}, \"title\": \"Distribuci\\u00f3n de Condiciones M\\u00e9dicas Cubiertas por UnitedHealthcare\"}, {\"data\": {\"name\": \"data-22dc68d9289efe91df71de28e672f039\"}, \"mark\": {\"type\": \"text\", \"align\": \"center\", \"baseline\": \"middle\", \"dy\": 180, \"fontSize\": 12}, \"encoding\": {\"text\": {\"field\": \"text\", \"type\": \"nominal\"}}}], \"height\": 350, \"$schema\": \"https://vega.github.io/schema/vega-lite/v4.17.0.json\", \"datasets\": {\"data-d3dc462da61c4bc855dbbf07defcb49a\": [{\"Medical Condition\": \"Asthma\", \"Count\": 796, \"Percentage\": 21.420882669537136}, {\"Medical Condition\": \"Arthritis\", \"Count\": 796, \"Percentage\": 21.420882669537136}, {\"Medical Condition\": \"Diabetes\", \"Count\": 679, \"Percentage\": 18.27233584499462}, {\"Medical Condition\": \"Obesity\", \"Count\": 635, \"Percentage\": 17.08826695371367}, {\"Medical Condition\": \"Hypertension\", \"Count\": 587, \"Percentage\": 15.796555435952635}, {\"Medical Condition\": \"Cancer\", \"Count\": 223, \"Percentage\": 6.001076426264801}], \"data-22dc68d9289efe91df71de28e672f039\": [{\"text\": \"Total de pacientes asegurados: 3716\"}]}}, {\"mode\": \"vega-lite\"});\n",
              "</script>"
            ],
            "text/plain": [
              "alt.LayerChart(...)"
            ]
          },
          "metadata": {},
          "execution_count": 46
        }
      ]
    },
    {
      "cell_type": "markdown",
      "source": [
        "Ahora determinaremos cuánto suele costar en promedio cada enfermedad según su estancia intrahospitalaria."
      ],
      "metadata": {
        "id": "ReaX623UtRDf"
      }
    },
    {
      "cell_type": "code",
      "source": [
        "# Agrupar los datos por la columna 'Medical Condition' y calcular el promedio del 'Billing Amount'\n",
        "promedio_gasto = df_1.groupby('Medical Condition')['Billing Amount'].mean().reset_index()\n",
        "\n",
        "promedio_gasto_ordenado = promedio_gasto.sort_values(by='Billing Amount', ascending=False)\n",
        "\n",
        "# Renombrar las columnas para mayor claridad\n",
        "promedio_gasto_ordenado.columns = ['Medical Condition', 'Average Billing Amount']\n",
        "\n",
        "# Mostrar el DataFrame resultante\n",
        "print(promedio_gasto_ordenado)"
      ],
      "metadata": {
        "id": "c7G7d1n_tPEb",
        "outputId": "d9d852c5-9f71-47b9-c32b-adaee5f1d27a",
        "colab": {
          "base_uri": "https://localhost:8080/"
        }
      },
      "execution_count": 47,
      "outputs": [
        {
          "output_type": "stream",
          "name": "stdout",
          "text": [
            "  Medical Condition  Average Billing Amount\n",
            "1            Asthma            20645.747453\n",
            "3          Diabetes            20418.655846\n",
            "5           Obesity            20379.440184\n",
            "0         Arthritis            20243.083966\n",
            "4      Hypertension            20019.911309\n",
            "2            Cancer            19724.774886\n"
          ]
        }
      ]
    },
    {
      "cell_type": "code",
      "source": [
        "# Función para calcular la moda (y en caso de múltiples modas, seleccionar la más alta)\n",
        "\n",
        "from scipy import stats\n",
        "\n",
        "def calcular_moda_edad(grupo):\n",
        "    moda = stats.mode(grupo)\n",
        "    # Check if moda.mode is an array or a single value\n",
        "    return moda.mode[0] if isinstance(moda.mode, np.ndarray) else moda.mode # Return the mode if it's a single value\n",
        "\n",
        "# Calcular la moda de la edad para cada condición médica\n",
        "moda_age = df_1.groupby('Medical Condition')['Age'].apply(calcular_moda_edad).reset_index()\n",
        "moda_age = moda_age.rename(columns={'Age': 'Most Frequent Age'})\n",
        "\n",
        "# Ordenar por edad más frecuente (y en caso de empate, la más alta)\n",
        "moda_age = moda_age.sort_values(by='Most Frequent Age', ascending=False)\n",
        "\n",
        "# Crear un gráfico de barras ordenado por edad más frecuente con Altair\n",
        "chart = alt.Chart(moda_age).mark_bar().encode(\n",
        "    x=alt.X('Medical Condition', sort='-y'),  # Ordenar las barras por edad\n",
        "    y='Most Frequent Age',\n",
        "    color='Medical Condition'\n",
        ").properties(\n",
        "    title='Edad Más Frecuente por Condición Médica'\n",
        ")\n",
        "\n",
        "# Mostrar el gráfico\n",
        "chart.display()"
      ],
      "metadata": {
        "id": "3UUNqmqHwntd",
        "outputId": "88e76afb-2f76-4fe3-da60-f96a1d55eba4",
        "colab": {
          "base_uri": "https://localhost:8080/",
          "height": 489
        }
      },
      "execution_count": 48,
      "outputs": [
        {
          "output_type": "stream",
          "name": "stderr",
          "text": [
            "/usr/local/lib/python3.10/dist-packages/altair/utils/core.py:384: FutureWarning: the convert_dtype parameter is deprecated and will be removed in a future version.  Do ``ser.astype(object).apply()`` instead if you want ``convert_dtype=False``.\n",
            "  col = df[col_name].apply(to_list_if_array, convert_dtype=False)\n"
          ]
        },
        {
          "output_type": "display_data",
          "data": {
            "text/html": [
              "\n",
              "<div id=\"altair-viz-e076ec48d4ff473f9501701a3e3ff0e4\"></div>\n",
              "<script type=\"text/javascript\">\n",
              "  var VEGA_DEBUG = (typeof VEGA_DEBUG == \"undefined\") ? {} : VEGA_DEBUG;\n",
              "  (function(spec, embedOpt){\n",
              "    let outputDiv = document.currentScript.previousElementSibling;\n",
              "    if (outputDiv.id !== \"altair-viz-e076ec48d4ff473f9501701a3e3ff0e4\") {\n",
              "      outputDiv = document.getElementById(\"altair-viz-e076ec48d4ff473f9501701a3e3ff0e4\");\n",
              "    }\n",
              "    const paths = {\n",
              "      \"vega\": \"https://cdn.jsdelivr.net/npm//vega@5?noext\",\n",
              "      \"vega-lib\": \"https://cdn.jsdelivr.net/npm//vega-lib?noext\",\n",
              "      \"vega-lite\": \"https://cdn.jsdelivr.net/npm//vega-lite@4.17.0?noext\",\n",
              "      \"vega-embed\": \"https://cdn.jsdelivr.net/npm//vega-embed@6?noext\",\n",
              "    };\n",
              "\n",
              "    function maybeLoadScript(lib, version) {\n",
              "      var key = `${lib.replace(\"-\", \"\")}_version`;\n",
              "      return (VEGA_DEBUG[key] == version) ?\n",
              "        Promise.resolve(paths[lib]) :\n",
              "        new Promise(function(resolve, reject) {\n",
              "          var s = document.createElement('script');\n",
              "          document.getElementsByTagName(\"head\")[0].appendChild(s);\n",
              "          s.async = true;\n",
              "          s.onload = () => {\n",
              "            VEGA_DEBUG[key] = version;\n",
              "            return resolve(paths[lib]);\n",
              "          };\n",
              "          s.onerror = () => reject(`Error loading script: ${paths[lib]}`);\n",
              "          s.src = paths[lib];\n",
              "        });\n",
              "    }\n",
              "\n",
              "    function showError(err) {\n",
              "      outputDiv.innerHTML = `<div class=\"error\" style=\"color:red;\">${err}</div>`;\n",
              "      throw err;\n",
              "    }\n",
              "\n",
              "    function displayChart(vegaEmbed) {\n",
              "      vegaEmbed(outputDiv, spec, embedOpt)\n",
              "        .catch(err => showError(`Javascript Error: ${err.message}<br>This usually means there's a typo in your chart specification. See the javascript console for the full traceback.`));\n",
              "    }\n",
              "\n",
              "    if(typeof define === \"function\" && define.amd) {\n",
              "      requirejs.config({paths});\n",
              "      require([\"vega-embed\"], displayChart, err => showError(`Error loading script: ${err.message}`));\n",
              "    } else {\n",
              "      maybeLoadScript(\"vega\", \"5\")\n",
              "        .then(() => maybeLoadScript(\"vega-lite\", \"4.17.0\"))\n",
              "        .then(() => maybeLoadScript(\"vega-embed\", \"6\"))\n",
              "        .catch(showError)\n",
              "        .then(() => displayChart(vegaEmbed));\n",
              "    }\n",
              "  })({\"config\": {\"view\": {\"continuousWidth\": 400, \"continuousHeight\": 300}}, \"data\": {\"name\": \"data-e72a9571dff5d025caa31e0752e0c20b\"}, \"mark\": \"bar\", \"encoding\": {\"color\": {\"field\": \"Medical Condition\", \"type\": \"nominal\"}, \"x\": {\"field\": \"Medical Condition\", \"sort\": \"-y\", \"type\": \"nominal\"}, \"y\": {\"field\": \"Most Frequent Age\", \"type\": \"quantitative\"}}, \"title\": \"Edad M\\u00e1s Frecuente por Condici\\u00f3n M\\u00e9dica\", \"$schema\": \"https://vega.github.io/schema/vega-lite/v4.17.0.json\", \"datasets\": {\"data-e72a9571dff5d025caa31e0752e0c20b\": [{\"Medical Condition\": \"Diabetes\", \"Most Frequent Age\": 76}, {\"Medical Condition\": \"Asthma\", \"Most Frequent Age\": 69}, {\"Medical Condition\": \"Arthritis\", \"Most Frequent Age\": 57}, {\"Medical Condition\": \"Cancer\", \"Most Frequent Age\": 53}, {\"Medical Condition\": \"Hypertension\", \"Most Frequent Age\": 34}, {\"Medical Condition\": \"Obesity\", \"Most Frequent Age\": 27}]}}, {\"mode\": \"vega-lite\"});\n",
              "</script>"
            ],
            "text/plain": [
              "alt.Chart(...)"
            ]
          },
          "metadata": {}
        }
      ]
    },
    {
      "cell_type": "code",
      "source": [
        "#Hemos finalizado nuestro Dataframe.\n",
        "\n",
        "df_1.to_csv('df_1.csv', index=False)"
      ],
      "metadata": {
        "id": "hOxR_aJks3DR"
      },
      "execution_count": 49,
      "outputs": []
    },
    {
      "cell_type": "markdown",
      "source": [],
      "metadata": {
        "id": "TI7Oo9oys2r0"
      }
    }
  ]
}