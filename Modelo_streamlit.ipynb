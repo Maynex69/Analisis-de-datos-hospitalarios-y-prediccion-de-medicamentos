{
  "nbformat": 4,
  "nbformat_minor": 0,
  "metadata": {
    "colab": {
      "provenance": [],
      "authorship_tag": "ABX9TyMmb67U6/LksV0/7XoFVxbj",
      "include_colab_link": true
    },
    "kernelspec": {
      "name": "python3",
      "display_name": "Python 3"
    },
    "language_info": {
      "name": "python"
    }
  },
  "cells": [
    {
      "cell_type": "markdown",
      "metadata": {
        "id": "view-in-github",
        "colab_type": "text"
      },
      "source": [
        "<a href=\"https://colab.research.google.com/github/Maynex69/Gestion-de-ingresos-hospitalarios/blob/main/Modelo_streamlit.ipynb\" target=\"_parent\"><img src=\"https://colab.research.google.com/assets/colab-badge.svg\" alt=\"Open In Colab\"/></a>"
      ]
    },
    {
      "cell_type": "code",
      "execution_count": null,
      "metadata": {
        "id": "Iq-wCTIu_9rJ"
      },
      "outputs": [],
      "source": [
        "import streamlit as st\n",
        "import pandas as pd\n",
        "import numpy as np\n",
        "\n",
        "# Diccionario de medicamentos y rangos de edad para cada condición médica\n",
        "medications = {\n",
        "    'Diabetes': {\n",
        "        'meds': (['Metformin', 'Insulin', 'Glipizide'], [0.2, 0.7, 0.1]),\n",
        "        'age_ranges': [(5, 40), (41, 60), (61, 100)]  # Rangos de edad\n",
        "    },\n",
        "    'Arthritis': {\n",
        "        'meds': (['Ibuprofen', 'Diclofenac', 'Methylprednisolone'], [0.5, 0.3, 0.2]),\n",
        "        'age_ranges': [(31, 60), (5, 30), (61, 100)]\n",
        "    },\n",
        "    'Obesity': {\n",
        "        'meds': (['Semaglutide', 'Phentermine', 'Lorcaserin'], [0.5, 0.3, 0.2]),\n",
        "        'age_ranges': [(5, 40), (41, 60), (61, 100)]\n",
        "    },\n",
        "    'Hypertension': {\n",
        "        'meds': (['Captopril', 'Nifedipine', 'Nitroglycerine'], [0.45, 0.35, 0.2]),\n",
        "        'age_ranges': [(20, 50), (51, 70), (71, 100)]\n",
        "    },\n",
        "    'Cancer': {\n",
        "        'meds': (['Paclitaxel', 'Cisplatin'], [0.6, 0.4]),\n",
        "        'age_ranges': [(5, 40), (41, 100)]\n",
        "    },\n",
        "    'Asthma': {\n",
        "        'meds': (['Albuterol', 'Fluticasone', 'Methylprednisolone'], [0.4, 0.5, 0.1]),\n",
        "        'age_ranges': [(5, 18), (19, 35), (36, 100)]\n",
        "    }\n",
        "}\n",
        "\n",
        "# Función para obtener el medicamento basado en la edad y condición médica\n",
        "def get_age_based_medication(age, condition):\n",
        "    if condition in medications:\n",
        "        meds_info = medications[condition]\n",
        "        meds, probabilities = meds_info['meds'], meds_info['meds'][1]\n",
        "        age_ranges = meds_info['age_ranges']\n",
        "\n",
        "        # Determinar qué rango de edad corresponde al input de edad\n",
        "        for i, age_range in enumerate(age_ranges):\n",
        "            if age_range[0] <= age <= age_range[1]:\n",
        "                # Extraer las probabilidades correctas y medicamentos para el rango de edad\n",
        "                meds = meds_info['meds'][0]  # Obtener lista de medicamentos\n",
        "                probabilities = meds_info['meds'][1]  # Obtener lista de probabilidades\n",
        "\n",
        "                # Seleccionar el medicamento basado en el rango de edad\n",
        "                return np.random.choice(meds, p=probabilities)\n",
        "    return \"No se encontró un medicamento apropiado\"\n",
        "\n",
        "# Cargar el archivo CSV si el usuario lo sube\n",
        "uploaded_file = st.file_uploader(\"Subir un archivo CSV\", type=[\"csv\"])\n",
        "\n",
        "if uploaded_file is not None:\n",
        "    df = pd.read_csv(uploaded_file)\n",
        "    st.write(\"Vista previa del archivo CSV cargado:\")\n",
        "    st.write(df.head())  # Mostrar las primeras filas del DataFrame\n",
        "\n",
        "    # Calcular y mostrar precisión del modelo (dummy aquí para la demo)\n",
        "    st.write(\"Precisión del modelo: 70%\")  # Este es solo un texto de ejemplo\n",
        "\n",
        "# Entradas para la predicción\n",
        "st.header(\"Predicción de medicamento basado en edad y condición médica\")\n",
        "age_input = st.number_input(\"Edad\", min_value=0, max_value=120, value=30)\n",
        "condition_input = st.selectbox(\"Condición médica\", list(medications.keys()))\n",
        "\n",
        "# Predicción basada en la entrada del usuario\n",
        "if st.button(\"Predecir Medicamento\"):\n",
        "    final_medication = get_age_based_medication(age_input, condition_input)\n",
        "    st.write(f\"Medicamento recomendado: {final_medication}\")\n"
      ]
    }
  ]
}