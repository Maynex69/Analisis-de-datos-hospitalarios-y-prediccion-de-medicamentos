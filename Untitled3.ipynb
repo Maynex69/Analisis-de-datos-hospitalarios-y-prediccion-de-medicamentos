{
  "nbformat": 4,
  "nbformat_minor": 0,
  "metadata": {
    "colab": {
      "provenance": [],
      "authorship_tag": "ABX9TyMauG3UO2KEoUs5Yvq2eBOd",
      "include_colab_link": true
    },
    "kernelspec": {
      "name": "python3",
      "display_name": "Python 3"
    },
    "language_info": {
      "name": "python"
    }
  },
  "cells": [
    {
      "cell_type": "markdown",
      "metadata": {
        "id": "view-in-github",
        "colab_type": "text"
      },
      "source": [
        "<a href=\"https://colab.research.google.com/github/Maynex69/Gestion-de-ingresos-hospitalarios/blob/main/Untitled3.ipynb\" target=\"_parent\"><img src=\"https://colab.research.google.com/assets/colab-badge.svg\" alt=\"Open In Colab\"/></a>"
      ]
    },
    {
      "cell_type": "code",
      "source": [
        "import pandas as pd\n",
        "import numpy as np\n",
        "import altair as alt\n",
        "!pip install altair_viewer\n",
        "!pip install altair vega_datasets\n",
        "\n",
        "# Carga el archivo CSV usando Polars\n",
        "df = pd.read_csv('/content/dataset.csv')"
      ],
      "metadata": {
        "id": "KMWAZHbPiaQU"
      },
      "execution_count": null,
      "outputs": []
    },
    {
      "cell_type": "code",
      "source": [
        "# Reducimos la cantidad del \"Billing Amount\" para hacer los resultados más heterogéneos.\n",
        "\n",
        "# Definir el porcentaje de filas a modificar y el nuevo valor\n",
        "porcentaje_a_modificar = 35  # Porcentaje de filas a modificar\n",
        "nuevo_valor = 10500  # Nuevo valor con el que reemplazar\n",
        "\n",
        "# Calcular el número de filas a modificar\n",
        "num_filas = len(df)\n",
        "num_filas_a_modificar = int(num_filas * porcentaje_a_modificar / 100)\n",
        "\n",
        "# Seleccionar aleatoriamente las filas a modificar\n",
        "filas_a_modificar = np.random.choice(df.index, size=num_filas_a_modificar, replace=False)\n",
        "\n",
        "# Reemplazar los valores en las filas seleccionadas\n",
        "df.loc[filas_a_modificar, 'Billing Amount'] = nuevo_valor\n"
      ],
      "metadata": {
        "id": "NdobmySqwN6W"
      },
      "execution_count": 25,
      "outputs": []
    },
    {
      "cell_type": "code",
      "execution_count": 26,
      "metadata": {
        "id": "S3MIvJa38KPh"
      },
      "outputs": [],
      "source": [
        "\n",
        "#Transformación de datos\n",
        "df['Date of Admission'] = pd.to_datetime(df['Date of Admission'])\n",
        "df['Discharge Date'] = pd.to_datetime(df['Discharge Date'])\n",
        "\n",
        "# Elimina las columnas no necesarias\n",
        "df_dropped = df.drop(columns=['Doctor', 'Hospital', 'Room Number', 'Name', 'Test Results' ])\n",
        "\n",
        "#En este punto me di cuenta de que el Dataset tenía prácticamente la misma\n",
        "#cantidad de pacientes por cada enfermedad, así que decidí borrar una cantidad\n",
        "#al azar para que fuera un escenario más diverso.\n",
        "\n",
        "porcentajes = {\n",
        "    'Female': 0.12,\n",
        "    'Male': 0.26\n",
        "}\n",
        "\n",
        "indices_a_eliminar = []\n",
        "\n",
        "for valor, porcentaje in porcentajes.items():\n",
        "  filas_objeto = df_dropped[df_dropped['Gender'] == valor]\n",
        "  num_filas_a_eliminar = int(len(filas_objeto) * porcentaje)\n",
        "  filas_a_eliminar_aleatorias = filas_objeto.sample(n=num_filas_a_eliminar, random_state=1)\n",
        "  indices_a_eliminar.extend(filas_a_eliminar_aleatorias.index)\n",
        "\n",
        "df_modificado = df_dropped.drop(index=indices_a_eliminar)\n",
        "\n",
        "#Ahora tenemos un nuevo dataframe con datos más aleatorizados para el desarrollo del modelo\n",
        "#Lamentablemente el resto de las columnas sigue teniendo valores muy similares\n",
        "\n"
      ]
    },
    {
      "cell_type": "code",
      "source": [
        "#Reducción del número de aseguradoras\n",
        "\n",
        "porcentajes_insurance = {\n",
        "    'Cigna': 0.32,\n",
        "    'Medicare': 0.26,\n",
        "    'Aetna' : 0.18,\n",
        "    'UnitedHealthcare': 0.12,\n",
        "    'Blue Cross': 0.4\n",
        "}\n",
        "\n",
        "indices_a_eliminar = []\n",
        "\n",
        "for valor, porcentaje in porcentajes_insurance.items():\n",
        "  filas_objeto1 = df_modificado[df_modificado['Insurance Provider'] == valor]\n",
        "  num_filas_a_eliminar1 = int(len(filas_objeto1) * porcentaje)\n",
        "  filas_a_eliminar_aleatorias1 = filas_objeto1.sample(n=num_filas_a_eliminar1, random_state=1)\n",
        "  indices_a_eliminar.extend(filas_a_eliminar_aleatorias1.index)\n",
        "\n",
        "  df_modificado1 = df_modificado.drop(index=indices_a_eliminar)\n"
      ],
      "metadata": {
        "id": "SBoguM0CZZ_C"
      },
      "execution_count": 27,
      "outputs": []
    },
    {
      "cell_type": "code",
      "source": [
        "#Reducción del porcentaje de condiciones médicas\n",
        "\n",
        "porcentajes_p = {\n",
        "    'Diabetes':0.16,\n",
        "    'Obesity':0.2,\n",
        "    'Cancer':0.7,\n",
        "    'Hypertension':0.3\n",
        "}\n",
        "\n",
        "indices_a_eliminar = []\n",
        "\n",
        "for valor, porcentaje in porcentajes_p.items():\n",
        "  filas_objeto2 = df_modificado1[df_modificado1['Medical Condition'] == valor]\n",
        "  num_filas_a_eliminar2 = int(len(filas_objeto2) * porcentaje)\n",
        "  filas_a_eliminar_aleatorias2 = filas_objeto2.sample(n=num_filas_a_eliminar2, random_state=1)\n",
        "  indices_a_eliminar.extend(filas_a_eliminar_aleatorias2.index)\n",
        "\n",
        "  df_modificado2 = df_modificado1.drop(index=indices_a_eliminar)\n",
        "\n"
      ],
      "metadata": {
        "id": "CNFQaBznf_hy"
      },
      "execution_count": 28,
      "outputs": []
    },
    {
      "cell_type": "code",
      "source": [
        "#Reducción del número de medicamentos\n",
        "\n",
        "porcentajes_m = {\n",
        "    'Penicillin':0.3,\n",
        "    'Ibuprofen':0.4,\n",
        "    'Aspirin':0.27,\n",
        "    'Lipitor':0.2,\n",
        "    'Paracetamol':0.8\n",
        "}\n",
        "\n",
        "indices_a_eliminar = []\n",
        "\n",
        "for valor, porcentaje in porcentajes_m.items():\n",
        "  filas_objeto3 = df_modificado2[df_modificado2['Medication'] == valor]\n",
        "  num_filas_a_eliminar3 = int(len(filas_objeto3) * porcentaje)\n",
        "  filas_a_eliminar_aleatorias3 = filas_objeto3.sample(n=num_filas_a_eliminar3, random_state=1)\n",
        "  indices_a_eliminar.extend(filas_a_eliminar_aleatorias3.index)\n",
        "\n",
        "  df_1 = df_modificado2.drop(index=indices_a_eliminar)\n",
        "\n",
        "  #Creamos una variable que nos hable de cuántos días pasó hospitalizado el paciente\n",
        "\n",
        "df_1['Date of Admission'] = pd.to_datetime(df_1['Date of Admission'])\n",
        "\n",
        "df_1['Discharge Date'] = pd.to_datetime(df_1['Discharge Date'])\n",
        "\n",
        "df_1['Hospitalization Days'] = (df_1['Discharge Date'] - df_1['Date of Admission']).dt.days\n",
        "\n",
        "#Así ya tenemos preparado nuestro Dataframe\n",
        "\n"
      ],
      "metadata": {
        "id": "CwXJJEBjeOb_"
      },
      "execution_count": 29,
      "outputs": []
    },
    {
      "cell_type": "code",
      "source": [
        "#Visualización de las condiciones más frecuentes en los últimos 5 años\n",
        "\n",
        "# Contar las ocurrencias de cada valor en la columna\n",
        "conteos = df_1['Medical Condition'].value_counts()\n",
        "\n",
        "# Calcular el porcentaje de cada valor\n",
        "porcentajes1 = (conteos / len(df_1)) * 100\n",
        "\n",
        "# Crear un DataFrame con los porcentajes para Altair\n",
        "df_porcentaje = porcentajes1.reset_index()\n",
        "df_porcentaje.columns = ['Condition', 'Percentage']\n",
        "\n",
        "# Total de filas\n",
        "total_filas = len(df_1)\n",
        "\n",
        "# Crear una gráfica de pastel con Altair\n",
        "grafico = alt.Chart(df_porcentaje).mark_arc(innerRadius=50).encode(\n",
        "    theta=alt.Theta(field='Percentage', type='quantitative', title='Percentage'),\n",
        "    color=alt.Color(field='Condition', type='nominal', title='Condition'),\n",
        "    tooltip=[alt.Tooltip(field='Condition', type='nominal', title='Condition'),\n",
        "             alt.Tooltip(field='Percentage', type='quantitative', title='Percentage')]\n",
        ").properties(\n",
        "    title='Income causes',\n",
        "    width=400,  # Ajusta el ancho del gráfico\n",
        "    height=400  # Ajusta la altura del gráfico\n",
        ")\n",
        "\n",
        "# Crear un DataFrame para el texto total\n",
        "df_texto_total = pd.DataFrame({\n",
        "    'x': [0],\n",
        "    'y': [0],\n",
        "    'texto': [f'Number of patients: {total_filas}']\n",
        "})\n",
        "\n",
        "# Crear el gráfico de texto\n",
        "texto_total = alt.Chart(df_texto_total).mark_text(\n",
        "    align='center',\n",
        "    baseline='middle',\n",
        "    fontSize=14,\n",
        "    dy=210  # Ajusta la posición vertical del texto\n",
        ").encode(\n",
        "    x=alt.X('x:O', axis=None),\n",
        "    y=alt.Y('y:O', axis=None),\n",
        "    text='texto:N'\n",
        ").properties(\n",
        "    width=400,  # Ancho para el gráfico de texto\n",
        "    height=400  # Altura para el gráfico de texto\n",
        ")\n",
        "\n",
        "# Combinar el gráfico de pastel y el gráfico de texto\n",
        "grafico_final = grafico + texto_total\n",
        "\n",
        "# Mostrar el gráfico en Google Colab\n",
        "grafico_final"
      ],
      "metadata": {
        "colab": {
          "base_uri": "https://localhost:8080/",
          "height": 555
        },
        "id": "uKBS8WvUinLZ",
        "outputId": "de2d7a46-f7a6-463c-efbd-0fb9a8c974f9"
      },
      "execution_count": 30,
      "outputs": [
        {
          "output_type": "stream",
          "name": "stderr",
          "text": [
            "/usr/local/lib/python3.10/dist-packages/altair/utils/core.py:384: FutureWarning: the convert_dtype parameter is deprecated and will be removed in a future version.  Do ``ser.astype(object).apply()`` instead if you want ``convert_dtype=False``.\n",
            "  col = df[col_name].apply(to_list_if_array, convert_dtype=False)\n",
            "/usr/local/lib/python3.10/dist-packages/altair/utils/core.py:384: FutureWarning: the convert_dtype parameter is deprecated and will be removed in a future version.  Do ``ser.astype(object).apply()`` instead if you want ``convert_dtype=False``.\n",
            "  col = df[col_name].apply(to_list_if_array, convert_dtype=False)\n"
          ]
        },
        {
          "output_type": "execute_result",
          "data": {
            "text/html": [
              "\n",
              "<div id=\"altair-viz-b2b8ba861f7c44f19fd53e8a2f05f25e\"></div>\n",
              "<script type=\"text/javascript\">\n",
              "  var VEGA_DEBUG = (typeof VEGA_DEBUG == \"undefined\") ? {} : VEGA_DEBUG;\n",
              "  (function(spec, embedOpt){\n",
              "    let outputDiv = document.currentScript.previousElementSibling;\n",
              "    if (outputDiv.id !== \"altair-viz-b2b8ba861f7c44f19fd53e8a2f05f25e\") {\n",
              "      outputDiv = document.getElementById(\"altair-viz-b2b8ba861f7c44f19fd53e8a2f05f25e\");\n",
              "    }\n",
              "    const paths = {\n",
              "      \"vega\": \"https://cdn.jsdelivr.net/npm//vega@5?noext\",\n",
              "      \"vega-lib\": \"https://cdn.jsdelivr.net/npm//vega-lib?noext\",\n",
              "      \"vega-lite\": \"https://cdn.jsdelivr.net/npm//vega-lite@4.17.0?noext\",\n",
              "      \"vega-embed\": \"https://cdn.jsdelivr.net/npm//vega-embed@6?noext\",\n",
              "    };\n",
              "\n",
              "    function maybeLoadScript(lib, version) {\n",
              "      var key = `${lib.replace(\"-\", \"\")}_version`;\n",
              "      return (VEGA_DEBUG[key] == version) ?\n",
              "        Promise.resolve(paths[lib]) :\n",
              "        new Promise(function(resolve, reject) {\n",
              "          var s = document.createElement('script');\n",
              "          document.getElementsByTagName(\"head\")[0].appendChild(s);\n",
              "          s.async = true;\n",
              "          s.onload = () => {\n",
              "            VEGA_DEBUG[key] = version;\n",
              "            return resolve(paths[lib]);\n",
              "          };\n",
              "          s.onerror = () => reject(`Error loading script: ${paths[lib]}`);\n",
              "          s.src = paths[lib];\n",
              "        });\n",
              "    }\n",
              "\n",
              "    function showError(err) {\n",
              "      outputDiv.innerHTML = `<div class=\"error\" style=\"color:red;\">${err}</div>`;\n",
              "      throw err;\n",
              "    }\n",
              "\n",
              "    function displayChart(vegaEmbed) {\n",
              "      vegaEmbed(outputDiv, spec, embedOpt)\n",
              "        .catch(err => showError(`Javascript Error: ${err.message}<br>This usually means there's a typo in your chart specification. See the javascript console for the full traceback.`));\n",
              "    }\n",
              "\n",
              "    if(typeof define === \"function\" && define.amd) {\n",
              "      requirejs.config({paths});\n",
              "      require([\"vega-embed\"], displayChart, err => showError(`Error loading script: ${err.message}`));\n",
              "    } else {\n",
              "      maybeLoadScript(\"vega\", \"5\")\n",
              "        .then(() => maybeLoadScript(\"vega-lite\", \"4.17.0\"))\n",
              "        .then(() => maybeLoadScript(\"vega-embed\", \"6\"))\n",
              "        .catch(showError)\n",
              "        .then(() => displayChart(vegaEmbed));\n",
              "    }\n",
              "  })({\"config\": {\"view\": {\"continuousWidth\": 400, \"continuousHeight\": 300}}, \"layer\": [{\"data\": {\"name\": \"data-b7de2467e566e2e703d4c71c3f702b0d\"}, \"mark\": {\"type\": \"arc\", \"innerRadius\": 50}, \"encoding\": {\"color\": {\"field\": \"Condition\", \"title\": \"Condition\", \"type\": \"nominal\"}, \"theta\": {\"field\": \"Percentage\", \"title\": \"Percentage\", \"type\": \"quantitative\"}, \"tooltip\": [{\"field\": \"Condition\", \"title\": \"Condition\", \"type\": \"nominal\"}, {\"field\": \"Percentage\", \"title\": \"Percentage\", \"type\": \"quantitative\"}]}, \"height\": 400, \"title\": \"Income causes\", \"width\": 400}, {\"data\": {\"name\": \"data-01ae6092fc129690c92cf87388878eb8\"}, \"mark\": {\"type\": \"text\", \"align\": \"center\", \"baseline\": \"middle\", \"dy\": 210, \"fontSize\": 14}, \"encoding\": {\"text\": {\"field\": \"texto\", \"type\": \"nominal\"}, \"x\": {\"axis\": null, \"field\": \"x\", \"type\": \"ordinal\"}, \"y\": {\"axis\": null, \"field\": \"y\", \"type\": \"ordinal\"}}, \"height\": 400, \"width\": 400}], \"$schema\": \"https://vega.github.io/schema/vega-lite/v4.17.0.json\", \"datasets\": {\"data-b7de2467e566e2e703d4c71c3f702b0d\": [{\"Condition\": \"Arthritis\", \"Percentage\": 21.690732141721263}, {\"Condition\": \"Asthma\", \"Percentage\": 21.150054067807392}, {\"Condition\": \"Diabetes\", \"Percentage\": 18.179505120539403}, {\"Condition\": \"Obesity\", \"Percentage\": 17.41619489854335}, {\"Condition\": \"Hypertension\", \"Percentage\": 15.323452706570828}, {\"Condition\": \"Cancer\", \"Percentage\": 6.24006106481776}], \"data-01ae6092fc129690c92cf87388878eb8\": [{\"x\": 0, \"y\": 0, \"texto\": \"Number of patients: 15721\"}]}}, {\"mode\": \"vega-lite\"});\n",
              "</script>"
            ],
            "text/plain": [
              "alt.LayerChart(...)"
            ]
          },
          "metadata": {},
          "execution_count": 30
        }
      ]
    },
    {
      "cell_type": "markdown",
      "source": [
        "Asma: medicamentos más usados, costo total en promedio, diás de estancia en promedio..."
      ],
      "metadata": {
        "id": "mlQthgA1EIB3"
      }
    },
    {
      "cell_type": "code",
      "source": [
        "#Los tres medicamentos más utilizados en Asthma#\n",
        "\n",
        "# Filtrar las filas donde \"Medical Conditions\" es \"Asthma\"\n",
        "df_asthma = df_1[df_1['Medical Condition'] == 'Asthma']\n",
        "\n",
        "# Contar las ocurrencias de cada objeto en \"Medicamentos\"\n",
        "conteos_medicamentos = df_asthma['Medication'].value_counts()\n",
        "\n",
        "total_asthma  = len(df_asthma)\n",
        "\n",
        "# Seleccionar los 3 medicamentos más frecuentes\n",
        "top_3_medicamentos = conteos_medicamentos.head(3).reset_index()\n",
        "top_3_medicamentos.columns = ['Medication', 'Count']\n",
        "\n",
        "# Crear una gráfica de barras con Altair\n",
        "grafico_barras = alt.Chart(top_3_medicamentos).mark_bar().encode(\n",
        "    x=alt.X('Medication:O', title='Medication'),\n",
        "    y=alt.Y('Count:Q', title='Number of uses', axis=alt.Axis(format='d')),\n",
        "    color='Medication:N',\n",
        "    tooltip=[alt.Tooltip(field='Medication', type='nominal', title='Medication'),\n",
        "             alt.Tooltip(field='Count', type='quantitative', title='Number of uses')]\n",
        ").properties(\n",
        "    title='The three most used medications for \"Asthma\"',\n",
        "    width=400,  # Ajusta el ancho del gráfico\n",
        "    height=300  # Ajusta la altura del gráfico\n",
        ")\n",
        "\n",
        "# Crear un DataFrame para el texto total\n",
        "df_texto_total = pd.DataFrame({\n",
        "    'x': [0],\n",
        "    'y': [0],\n",
        "    'texto': [f'Patients with \"Asthma\": {total_asthma}']\n",
        "})\n",
        "\n",
        "# Crear el gráfico de texto\n",
        "texto_total = alt.Chart(df_texto_total).mark_text(\n",
        "    align='center',\n",
        "    baseline='bottom',\n",
        "    fontSize=14,\n",
        "    dy=170  # Ajusta la posición vertical del texto\n",
        ").encode(\n",
        "    x=alt.X('x:O', axis=None),\n",
        "    y=alt.Y('y:O', axis=None),\n",
        "    text='texto:N'\n",
        ").properties(\n",
        "    width=400,  # Ancho para el gráfico de texto\n",
        "    height=300  # Altura para el gráfico de texto\n",
        ")\n",
        "\n",
        "# Combinar el gráfico de barras y el gráfico de texto\n",
        "grafico_final = grafico_barras + texto_total\n",
        "\n",
        "grafico_final\n"
      ],
      "metadata": {
        "colab": {
          "base_uri": "https://localhost:8080/",
          "height": 463
        },
        "id": "7IqOglGKuML8",
        "outputId": "a5ba19b4-93fc-49c9-a218-ed6af11d79fa"
      },
      "execution_count": 31,
      "outputs": [
        {
          "output_type": "stream",
          "name": "stderr",
          "text": [
            "/usr/local/lib/python3.10/dist-packages/altair/utils/core.py:384: FutureWarning: the convert_dtype parameter is deprecated and will be removed in a future version.  Do ``ser.astype(object).apply()`` instead if you want ``convert_dtype=False``.\n",
            "  col = df[col_name].apply(to_list_if_array, convert_dtype=False)\n",
            "/usr/local/lib/python3.10/dist-packages/altair/utils/core.py:384: FutureWarning: the convert_dtype parameter is deprecated and will be removed in a future version.  Do ``ser.astype(object).apply()`` instead if you want ``convert_dtype=False``.\n",
            "  col = df[col_name].apply(to_list_if_array, convert_dtype=False)\n"
          ]
        },
        {
          "output_type": "execute_result",
          "data": {
            "text/html": [
              "\n",
              "<div id=\"altair-viz-86db2308fe614f09ad872b2a505c80cc\"></div>\n",
              "<script type=\"text/javascript\">\n",
              "  var VEGA_DEBUG = (typeof VEGA_DEBUG == \"undefined\") ? {} : VEGA_DEBUG;\n",
              "  (function(spec, embedOpt){\n",
              "    let outputDiv = document.currentScript.previousElementSibling;\n",
              "    if (outputDiv.id !== \"altair-viz-86db2308fe614f09ad872b2a505c80cc\") {\n",
              "      outputDiv = document.getElementById(\"altair-viz-86db2308fe614f09ad872b2a505c80cc\");\n",
              "    }\n",
              "    const paths = {\n",
              "      \"vega\": \"https://cdn.jsdelivr.net/npm//vega@5?noext\",\n",
              "      \"vega-lib\": \"https://cdn.jsdelivr.net/npm//vega-lib?noext\",\n",
              "      \"vega-lite\": \"https://cdn.jsdelivr.net/npm//vega-lite@4.17.0?noext\",\n",
              "      \"vega-embed\": \"https://cdn.jsdelivr.net/npm//vega-embed@6?noext\",\n",
              "    };\n",
              "\n",
              "    function maybeLoadScript(lib, version) {\n",
              "      var key = `${lib.replace(\"-\", \"\")}_version`;\n",
              "      return (VEGA_DEBUG[key] == version) ?\n",
              "        Promise.resolve(paths[lib]) :\n",
              "        new Promise(function(resolve, reject) {\n",
              "          var s = document.createElement('script');\n",
              "          document.getElementsByTagName(\"head\")[0].appendChild(s);\n",
              "          s.async = true;\n",
              "          s.onload = () => {\n",
              "            VEGA_DEBUG[key] = version;\n",
              "            return resolve(paths[lib]);\n",
              "          };\n",
              "          s.onerror = () => reject(`Error loading script: ${paths[lib]}`);\n",
              "          s.src = paths[lib];\n",
              "        });\n",
              "    }\n",
              "\n",
              "    function showError(err) {\n",
              "      outputDiv.innerHTML = `<div class=\"error\" style=\"color:red;\">${err}</div>`;\n",
              "      throw err;\n",
              "    }\n",
              "\n",
              "    function displayChart(vegaEmbed) {\n",
              "      vegaEmbed(outputDiv, spec, embedOpt)\n",
              "        .catch(err => showError(`Javascript Error: ${err.message}<br>This usually means there's a typo in your chart specification. See the javascript console for the full traceback.`));\n",
              "    }\n",
              "\n",
              "    if(typeof define === \"function\" && define.amd) {\n",
              "      requirejs.config({paths});\n",
              "      require([\"vega-embed\"], displayChart, err => showError(`Error loading script: ${err.message}`));\n",
              "    } else {\n",
              "      maybeLoadScript(\"vega\", \"5\")\n",
              "        .then(() => maybeLoadScript(\"vega-lite\", \"4.17.0\"))\n",
              "        .then(() => maybeLoadScript(\"vega-embed\", \"6\"))\n",
              "        .catch(showError)\n",
              "        .then(() => displayChart(vegaEmbed));\n",
              "    }\n",
              "  })({\"config\": {\"view\": {\"continuousWidth\": 400, \"continuousHeight\": 300}}, \"layer\": [{\"data\": {\"name\": \"data-ef9ab76ca92194ec7f5811b37911b632\"}, \"mark\": \"bar\", \"encoding\": {\"color\": {\"field\": \"Medication\", \"type\": \"nominal\"}, \"tooltip\": [{\"field\": \"Medication\", \"title\": \"Medication\", \"type\": \"nominal\"}, {\"field\": \"Count\", \"title\": \"Number of uses\", \"type\": \"quantitative\"}], \"x\": {\"field\": \"Medication\", \"title\": \"Medication\", \"type\": \"ordinal\"}, \"y\": {\"axis\": {\"format\": \"d\"}, \"field\": \"Count\", \"title\": \"Number of uses\", \"type\": \"quantitative\"}}, \"height\": 300, \"title\": \"The three most used medications for \\\"Asthma\\\"\", \"width\": 400}, {\"data\": {\"name\": \"data-a79e1badd40dd96774cf915b8f9b156e\"}, \"mark\": {\"type\": \"text\", \"align\": \"center\", \"baseline\": \"bottom\", \"dy\": 170, \"fontSize\": 14}, \"encoding\": {\"text\": {\"field\": \"texto\", \"type\": \"nominal\"}, \"x\": {\"axis\": null, \"field\": \"x\", \"type\": \"ordinal\"}, \"y\": {\"axis\": null, \"field\": \"y\", \"type\": \"ordinal\"}}, \"height\": 300, \"width\": 400}], \"$schema\": \"https://vega.github.io/schema/vega-lite/v4.17.0.json\", \"datasets\": {\"data-ef9ab76ca92194ec7f5811b37911b632\": [{\"Medication\": \"Lipitor\", \"Count\": 863}, {\"Medication\": \"Aspirin\", \"Count\": 836}, {\"Medication\": \"Penicillin\", \"Count\": 775}], \"data-a79e1badd40dd96774cf915b8f9b156e\": [{\"x\": 0, \"y\": 0, \"texto\": \"Patients with \\\"Asthma\\\": 3325\"}]}}, {\"mode\": \"vega-lite\"});\n",
              "</script>"
            ],
            "text/plain": [
              "alt.LayerChart(...)"
            ]
          },
          "metadata": {},
          "execution_count": 31
        }
      ]
    },
    {
      "cell_type": "code",
      "source": [
        "#Calcular el gasto promedio por estancia hospitalaria\n",
        "\n",
        "total_billing_amount = int(df_asthma['Billing Amount'].sum())\n",
        "\n",
        "# Calculamos el promedio de los valores en la columna \"Billing Insurance\" para los registros con \"Asthma\"\n",
        "average_billing_amount = int(df_asthma['Billing Amount'].mean())\n",
        "\n",
        "#Calculamos el tiempo de estancia promedio de un paciente con Asma\n",
        "\n",
        "average_hospitalization_days_asthma = df_asthma['Hospitalization Days'].mean()\n",
        "\n",
        "# Crea la gráfica lineal con Altair\n",
        "\n",
        "# Agrupa por número de días de hospitalización y calcula el costo promedio\n",
        "average_cost_by_days_asthma = df_asthma.groupby('Hospitalization Days')['Billing Amount'].mean().reset_index()\n",
        "\n",
        "# Definir el valor mínimo de costo para mostrar en la gráfica, por ejemplo, $500\n",
        "min_cost = 17200\n",
        "\n",
        "# Filtrar los datos para asegurarse de incluir solo los valores a partir de la cifra deseada\n",
        "filtered_data = average_cost_by_days_asthma[average_cost_by_days_asthma['Billing Amount'] >= min_cost]\n",
        "\n",
        "# Crear la gráfica lineal con Altair con un eje Y que comienza desde el costo mínimo especificado\n",
        "chart = alt.Chart(filtered_data).mark_line(point=True).encode(\n",
        "    x=alt.X('Hospitalization Days', title='Hospitalization Days'),\n",
        "    y=alt.Y('Billing Amount', title='Average cost of hospitalization', scale=alt.Scale(domain=(min_cost, filtered_data['Billing Amount'].max()))),\n",
        "    tooltip=['Hospitalization Days', 'Billing Amount']\n",
        ").properties(\n",
        "    title=f'Average cost of hospitalization for Asthma',\n",
        "    width=600,\n",
        "    height=400\n",
        ")\n",
        "\n",
        "print(f'Average days of hospitalization for patients with Asthma: {average_hospitalization_days_asthma:.2f} days')\n",
        "print(f'Average cost of hospitalization for asthma: {average_billing_amount}')\n",
        "\n",
        "chart\n"
      ],
      "metadata": {
        "colab": {
          "base_uri": "https://localhost:8080/",
          "height": 520
        },
        "id": "vgk8xqawNj8N",
        "outputId": "9c6b8c75-606a-43fd-8d6b-bfd9693c8ffa"
      },
      "execution_count": 32,
      "outputs": [
        {
          "output_type": "stream",
          "name": "stdout",
          "text": [
            "Average days of hospitalization for patients with Asthma: 15.58 days\n",
            "Average cost of hospitalization for asthma: 20541\n"
          ]
        },
        {
          "output_type": "execute_result",
          "data": {
            "text/html": [
              "\n",
              "<div id=\"altair-viz-401d36cb3db74064aa4c2d82b04218b1\"></div>\n",
              "<script type=\"text/javascript\">\n",
              "  var VEGA_DEBUG = (typeof VEGA_DEBUG == \"undefined\") ? {} : VEGA_DEBUG;\n",
              "  (function(spec, embedOpt){\n",
              "    let outputDiv = document.currentScript.previousElementSibling;\n",
              "    if (outputDiv.id !== \"altair-viz-401d36cb3db74064aa4c2d82b04218b1\") {\n",
              "      outputDiv = document.getElementById(\"altair-viz-401d36cb3db74064aa4c2d82b04218b1\");\n",
              "    }\n",
              "    const paths = {\n",
              "      \"vega\": \"https://cdn.jsdelivr.net/npm//vega@5?noext\",\n",
              "      \"vega-lib\": \"https://cdn.jsdelivr.net/npm//vega-lib?noext\",\n",
              "      \"vega-lite\": \"https://cdn.jsdelivr.net/npm//vega-lite@4.17.0?noext\",\n",
              "      \"vega-embed\": \"https://cdn.jsdelivr.net/npm//vega-embed@6?noext\",\n",
              "    };\n",
              "\n",
              "    function maybeLoadScript(lib, version) {\n",
              "      var key = `${lib.replace(\"-\", \"\")}_version`;\n",
              "      return (VEGA_DEBUG[key] == version) ?\n",
              "        Promise.resolve(paths[lib]) :\n",
              "        new Promise(function(resolve, reject) {\n",
              "          var s = document.createElement('script');\n",
              "          document.getElementsByTagName(\"head\")[0].appendChild(s);\n",
              "          s.async = true;\n",
              "          s.onload = () => {\n",
              "            VEGA_DEBUG[key] = version;\n",
              "            return resolve(paths[lib]);\n",
              "          };\n",
              "          s.onerror = () => reject(`Error loading script: ${paths[lib]}`);\n",
              "          s.src = paths[lib];\n",
              "        });\n",
              "    }\n",
              "\n",
              "    function showError(err) {\n",
              "      outputDiv.innerHTML = `<div class=\"error\" style=\"color:red;\">${err}</div>`;\n",
              "      throw err;\n",
              "    }\n",
              "\n",
              "    function displayChart(vegaEmbed) {\n",
              "      vegaEmbed(outputDiv, spec, embedOpt)\n",
              "        .catch(err => showError(`Javascript Error: ${err.message}<br>This usually means there's a typo in your chart specification. See the javascript console for the full traceback.`));\n",
              "    }\n",
              "\n",
              "    if(typeof define === \"function\" && define.amd) {\n",
              "      requirejs.config({paths});\n",
              "      require([\"vega-embed\"], displayChart, err => showError(`Error loading script: ${err.message}`));\n",
              "    } else {\n",
              "      maybeLoadScript(\"vega\", \"5\")\n",
              "        .then(() => maybeLoadScript(\"vega-lite\", \"4.17.0\"))\n",
              "        .then(() => maybeLoadScript(\"vega-embed\", \"6\"))\n",
              "        .catch(showError)\n",
              "        .then(() => displayChart(vegaEmbed));\n",
              "    }\n",
              "  })({\"config\": {\"view\": {\"continuousWidth\": 400, \"continuousHeight\": 300}}, \"data\": {\"name\": \"data-180b2a5a14a496951859cffcab063cdb\"}, \"mark\": {\"type\": \"line\", \"point\": true}, \"encoding\": {\"tooltip\": [{\"field\": \"Hospitalization Days\", \"type\": \"quantitative\"}, {\"field\": \"Billing Amount\", \"type\": \"quantitative\"}], \"x\": {\"field\": \"Hospitalization Days\", \"title\": \"Hospitalization Days\", \"type\": \"quantitative\"}, \"y\": {\"field\": \"Billing Amount\", \"scale\": {\"domain\": [17200, 22667.970436850435]}, \"title\": \"Average cost of hospitalization\", \"type\": \"quantitative\"}}, \"height\": 400, \"title\": \"Average cost of hospitalization for Asthma\", \"width\": 600, \"$schema\": \"https://vega.github.io/schema/vega-lite/v4.17.0.json\", \"datasets\": {\"data-180b2a5a14a496951859cffcab063cdb\": [{\"Hospitalization Days\": 1, \"Billing Amount\": 20809.834721008567}, {\"Hospitalization Days\": 2, \"Billing Amount\": 20433.494549743056}, {\"Hospitalization Days\": 3, \"Billing Amount\": 20682.07646534802}, {\"Hospitalization Days\": 4, \"Billing Amount\": 20177.393478610105}, {\"Hospitalization Days\": 5, \"Billing Amount\": 21669.442613619794}, {\"Hospitalization Days\": 6, \"Billing Amount\": 21388.017807955603}, {\"Hospitalization Days\": 7, \"Billing Amount\": 20298.316715300396}, {\"Hospitalization Days\": 8, \"Billing Amount\": 20426.349558383834}, {\"Hospitalization Days\": 9, \"Billing Amount\": 21141.813344796312}, {\"Hospitalization Days\": 10, \"Billing Amount\": 19478.274615199014}, {\"Hospitalization Days\": 11, \"Billing Amount\": 18310.82315970098}, {\"Hospitalization Days\": 12, \"Billing Amount\": 20806.397034704725}, {\"Hospitalization Days\": 13, \"Billing Amount\": 19624.914061600688}, {\"Hospitalization Days\": 14, \"Billing Amount\": 21208.749987953684}, {\"Hospitalization Days\": 15, \"Billing Amount\": 19387.609817431283}, {\"Hospitalization Days\": 16, \"Billing Amount\": 22359.751955326927}, {\"Hospitalization Days\": 17, \"Billing Amount\": 20741.133678491}, {\"Hospitalization Days\": 18, \"Billing Amount\": 20214.753297845073}, {\"Hospitalization Days\": 19, \"Billing Amount\": 20138.42484706434}, {\"Hospitalization Days\": 20, \"Billing Amount\": 19509.79568466974}, {\"Hospitalization Days\": 21, \"Billing Amount\": 21068.929730744632}, {\"Hospitalization Days\": 22, \"Billing Amount\": 20535.49810814238}, {\"Hospitalization Days\": 23, \"Billing Amount\": 21582.609897280996}, {\"Hospitalization Days\": 24, \"Billing Amount\": 20475.57739296676}, {\"Hospitalization Days\": 25, \"Billing Amount\": 20000.407879702085}, {\"Hospitalization Days\": 26, \"Billing Amount\": 20810.476671790162}, {\"Hospitalization Days\": 27, \"Billing Amount\": 19182.502212166422}, {\"Hospitalization Days\": 28, \"Billing Amount\": 22667.970436850435}, {\"Hospitalization Days\": 29, \"Billing Amount\": 20276.868856414974}, {\"Hospitalization Days\": 30, \"Billing Amount\": 19419.287035458892}]}}, {\"mode\": \"vega-lite\"});\n",
              "</script>"
            ],
            "text/plain": [
              "alt.Chart(...)"
            ]
          },
          "metadata": {},
          "execution_count": 32
        }
      ]
    },
    {
      "cell_type": "markdown",
      "source": [
        "Diabetes: medicamentos más usados, costo total en promedio, diás de estancia en promedio..."
      ],
      "metadata": {
        "id": "Fy8Vo4cokw5O"
      }
    },
    {
      "cell_type": "code",
      "source": [
        "#Los tres medicamentos más utilizados en Diabetes#\n",
        "\n",
        "# Filtrar las filas donde \"Medical Conditions\" es \"Diabetes\"\n",
        "df_diabetes = df_1[df_1['Medical Condition'] == 'Diabetes']\n",
        "\n",
        "# Contar las ocurrencias de cada objeto en \"Medicamentos\"\n",
        "conteos_medicamentos_diabetes = df_diabetes['Medication'].value_counts()\n",
        "\n",
        "total_diabetes  = len(df_diabetes)\n",
        "\n",
        "# Seleccionar los 3 medicamentos más frecuentes\n",
        "top_3_medicamentos_diabetes = conteos_medicamentos_diabetes.head(3).reset_index()\n",
        "top_3_medicamentos_diabetes.columns = ['Medication', 'Count']\n",
        "\n",
        "# Crear una gráfica de barras con Altair\n",
        "grafico_barras = alt.Chart(top_3_medicamentos_diabetes).mark_bar().encode(\n",
        "    x=alt.X('Medication:O', title='Medication'),\n",
        "    y=alt.Y('Count:Q', title='Number of uses', axis=alt.Axis(format='d')),\n",
        "    color='Medication:N',\n",
        "    tooltip=[alt.Tooltip(field='Medication', type='nominal', title='Medication'),\n",
        "             alt.Tooltip(field='Count', type='quantitative', title='Number of uses')]\n",
        ").properties(\n",
        "    title='The three most used medications for \"Diabetes\"',\n",
        "    width=400,  # Ajusta el ancho del gráfico\n",
        "    height=300  # Ajusta la altura del gráfico\n",
        ")\n",
        "\n",
        "# Crear un DataFrame para el texto total\n",
        "df_texto_total_diabetes = pd.DataFrame({\n",
        "    'x': [0],\n",
        "    'y': [0],\n",
        "    'texto': [f'Patients with \"Diabetes\": {total_diabetes}']\n",
        "})\n",
        "\n",
        "# Crear el gráfico de texto\n",
        "texto_total = alt.Chart(df_texto_total_diabetes).mark_text(\n",
        "    align='center',\n",
        "    baseline='bottom',\n",
        "    fontSize=14,\n",
        "    dy=170  # Ajusta la posición vertical del texto\n",
        ").encode(\n",
        "    x=alt.X('x:O', axis=None),\n",
        "    y=alt.Y('y:O', axis=None),\n",
        "    text='texto:N'\n",
        ").properties(\n",
        "    width=400,  # Ancho para el gráfico de texto\n",
        "    height=300  # Altura para el gráfico de texto\n",
        ")\n",
        "\n",
        "#Calcular el gasto promedio por estancia hospitalaria\n",
        "\n",
        "total_billing_amount_d = int(df_diabetes['Billing Amount'].sum())\n",
        "\n",
        "# Calculamos el promedio de los valores en la columna \"Billing Insurance\" para los registros con \"Asthma\"\n",
        "average_billing_amount_d = int(df_diabetes['Billing Amount'].mean())\n",
        "\n",
        "#Calculamos el tiempo de estancia promedio de un paciente con Asma\n",
        "\n",
        "average_hospitalization_days_d = df_diabetes['Hospitalization Days'].mean()\n",
        "\n",
        "# Agrupa por número de días de hospitalización y calcula el costo promedio\n",
        "average_cost_by_days_d = df_diabetes.groupby('Hospitalization Days')['Billing Amount'].mean().reset_index()\n",
        "\n",
        "# Combinar el gráfico de barras y el gráfico de texto\n",
        "grafico_final = grafico_barras + texto_total\n",
        "\n",
        "print(f'Average days of hospitalization for patients with diabetes: {average_hospitalization_days_d:.2f} days')\n",
        "print(f'Average cost of hospitalization for asthma: {average_billing_amount_d}')\n",
        "grafico_final"
      ],
      "metadata": {
        "id": "gxETjENXkvIm",
        "outputId": "3336032f-c0a5-4923-ac43-59a2edca2a39",
        "colab": {
          "base_uri": "https://localhost:8080/",
          "height": 497
        }
      },
      "execution_count": 33,
      "outputs": [
        {
          "output_type": "stream",
          "name": "stdout",
          "text": [
            "Average days of hospitalization for patients with diabetes: 15.21 days\n",
            "Average cost of hospitalization for asthma: 20423\n"
          ]
        },
        {
          "output_type": "stream",
          "name": "stderr",
          "text": [
            "/usr/local/lib/python3.10/dist-packages/altair/utils/core.py:384: FutureWarning: the convert_dtype parameter is deprecated and will be removed in a future version.  Do ``ser.astype(object).apply()`` instead if you want ``convert_dtype=False``.\n",
            "  col = df[col_name].apply(to_list_if_array, convert_dtype=False)\n",
            "/usr/local/lib/python3.10/dist-packages/altair/utils/core.py:384: FutureWarning: the convert_dtype parameter is deprecated and will be removed in a future version.  Do ``ser.astype(object).apply()`` instead if you want ``convert_dtype=False``.\n",
            "  col = df[col_name].apply(to_list_if_array, convert_dtype=False)\n"
          ]
        },
        {
          "output_type": "execute_result",
          "data": {
            "text/html": [
              "\n",
              "<div id=\"altair-viz-336032070f354a6c85fe06118e66f082\"></div>\n",
              "<script type=\"text/javascript\">\n",
              "  var VEGA_DEBUG = (typeof VEGA_DEBUG == \"undefined\") ? {} : VEGA_DEBUG;\n",
              "  (function(spec, embedOpt){\n",
              "    let outputDiv = document.currentScript.previousElementSibling;\n",
              "    if (outputDiv.id !== \"altair-viz-336032070f354a6c85fe06118e66f082\") {\n",
              "      outputDiv = document.getElementById(\"altair-viz-336032070f354a6c85fe06118e66f082\");\n",
              "    }\n",
              "    const paths = {\n",
              "      \"vega\": \"https://cdn.jsdelivr.net/npm//vega@5?noext\",\n",
              "      \"vega-lib\": \"https://cdn.jsdelivr.net/npm//vega-lib?noext\",\n",
              "      \"vega-lite\": \"https://cdn.jsdelivr.net/npm//vega-lite@4.17.0?noext\",\n",
              "      \"vega-embed\": \"https://cdn.jsdelivr.net/npm//vega-embed@6?noext\",\n",
              "    };\n",
              "\n",
              "    function maybeLoadScript(lib, version) {\n",
              "      var key = `${lib.replace(\"-\", \"\")}_version`;\n",
              "      return (VEGA_DEBUG[key] == version) ?\n",
              "        Promise.resolve(paths[lib]) :\n",
              "        new Promise(function(resolve, reject) {\n",
              "          var s = document.createElement('script');\n",
              "          document.getElementsByTagName(\"head\")[0].appendChild(s);\n",
              "          s.async = true;\n",
              "          s.onload = () => {\n",
              "            VEGA_DEBUG[key] = version;\n",
              "            return resolve(paths[lib]);\n",
              "          };\n",
              "          s.onerror = () => reject(`Error loading script: ${paths[lib]}`);\n",
              "          s.src = paths[lib];\n",
              "        });\n",
              "    }\n",
              "\n",
              "    function showError(err) {\n",
              "      outputDiv.innerHTML = `<div class=\"error\" style=\"color:red;\">${err}</div>`;\n",
              "      throw err;\n",
              "    }\n",
              "\n",
              "    function displayChart(vegaEmbed) {\n",
              "      vegaEmbed(outputDiv, spec, embedOpt)\n",
              "        .catch(err => showError(`Javascript Error: ${err.message}<br>This usually means there's a typo in your chart specification. See the javascript console for the full traceback.`));\n",
              "    }\n",
              "\n",
              "    if(typeof define === \"function\" && define.amd) {\n",
              "      requirejs.config({paths});\n",
              "      require([\"vega-embed\"], displayChart, err => showError(`Error loading script: ${err.message}`));\n",
              "    } else {\n",
              "      maybeLoadScript(\"vega\", \"5\")\n",
              "        .then(() => maybeLoadScript(\"vega-lite\", \"4.17.0\"))\n",
              "        .then(() => maybeLoadScript(\"vega-embed\", \"6\"))\n",
              "        .catch(showError)\n",
              "        .then(() => displayChart(vegaEmbed));\n",
              "    }\n",
              "  })({\"config\": {\"view\": {\"continuousWidth\": 400, \"continuousHeight\": 300}}, \"layer\": [{\"data\": {\"name\": \"data-5e1a539d54ba846ed66fe8adb6615429\"}, \"mark\": \"bar\", \"encoding\": {\"color\": {\"field\": \"Medication\", \"type\": \"nominal\"}, \"tooltip\": [{\"field\": \"Medication\", \"title\": \"Medication\", \"type\": \"nominal\"}, {\"field\": \"Count\", \"title\": \"Number of uses\", \"type\": \"quantitative\"}], \"x\": {\"field\": \"Medication\", \"title\": \"Medication\", \"type\": \"ordinal\"}, \"y\": {\"axis\": {\"format\": \"d\"}, \"field\": \"Count\", \"title\": \"Number of uses\", \"type\": \"quantitative\"}}, \"height\": 300, \"title\": \"The three most used medications for \\\"Diabetes\\\"\", \"width\": 400}, {\"data\": {\"name\": \"data-0f5dfe4f98685a32acac840ebf73e4c0\"}, \"mark\": {\"type\": \"text\", \"align\": \"center\", \"baseline\": \"bottom\", \"dy\": 170, \"fontSize\": 14}, \"encoding\": {\"text\": {\"field\": \"texto\", \"type\": \"nominal\"}, \"x\": {\"axis\": null, \"field\": \"x\", \"type\": \"ordinal\"}, \"y\": {\"axis\": null, \"field\": \"y\", \"type\": \"ordinal\"}}, \"height\": 300, \"width\": 400}], \"$schema\": \"https://vega.github.io/schema/vega-lite/v4.17.0.json\", \"datasets\": {\"data-5e1a539d54ba846ed66fe8adb6615429\": [{\"Medication\": \"Lipitor\", \"Count\": 762}, {\"Medication\": \"Penicillin\", \"Count\": 677}, {\"Medication\": \"Aspirin\", \"Count\": 648}], \"data-0f5dfe4f98685a32acac840ebf73e4c0\": [{\"x\": 0, \"y\": 0, \"texto\": \"Patients with \\\"Diabetes\\\": 2858\"}]}}, {\"mode\": \"vega-lite\"});\n",
              "</script>"
            ],
            "text/plain": [
              "alt.LayerChart(...)"
            ]
          },
          "metadata": {},
          "execution_count": 33
        }
      ]
    },
    {
      "cell_type": "markdown",
      "source": [
        "Artritis: medicamentos más usados, costo total en promedio, diás de estancia en promedio..."
      ],
      "metadata": {
        "id": "K9dPsMmKU9eG"
      }
    },
    {
      "cell_type": "code",
      "source": [
        "#Los tres medicamentos más utilizados en Artritis#\n",
        "\n",
        "# Filtrar las filas donde \"Medical Conditions\" es \"Arthritis\"\n",
        "df_arthritis = df_1[df_1['Medical Condition'] == 'Arthritis']\n",
        "\n",
        "# Contar las ocurrencias de cada objeto en \"Medicamentos\"\n",
        "conteos_medicamentos_arthritis = df_arthritis['Medication'].value_counts()\n",
        "\n",
        "total_arthritis  = len(df_arthritis)\n",
        "\n",
        "# Seleccionar los 3 medicamentos más frecuentes\n",
        "top_3_medicamentos_arthritis = conteos_medicamentos_arthritis.head(3).reset_index()\n",
        "top_3_medicamentos_arthritis.columns = ['Medication', 'Count']\n",
        "\n",
        "# Crear una gráfica de barras con Altair\n",
        "grafico_barras = alt.Chart(top_3_medicamentos_arthritis).mark_bar().encode(\n",
        "    x=alt.X('Medication:O', title='Medication'),\n",
        "    y=alt.Y('Count:Q', title='Number of uses', axis=alt.Axis(format='d')),\n",
        "    color='Medication:N',\n",
        "    tooltip=[alt.Tooltip(field='Medication', type='nominal', title='Medication'),\n",
        "             alt.Tooltip(field='Count', type='quantitative', title='Number of uses')]\n",
        ").properties(\n",
        "    title='The three most used medications for \"Arthritis\"',\n",
        "    width=400,  # Ajusta el ancho del gráfico\n",
        "    height=300  # Ajusta la altura del gráfico\n",
        ")\n",
        "\n",
        "# Crear un DataFrame para el texto total\n",
        "df_texto_total_arthritis = pd.DataFrame({\n",
        "    'x': [0],\n",
        "    'y': [0],\n",
        "    'texto': [f'Patients with \"Arthritis\": {total_arthritis}']\n",
        "})\n",
        "\n",
        "# Crear el gráfico de texto\n",
        "texto_total_arthritis = alt.Chart(df_texto_total_arthritis).mark_text(\n",
        "    align='center',\n",
        "    baseline='bottom',\n",
        "    fontSize=14,\n",
        "    dy=170  # Ajusta la posición vertical del texto\n",
        ").encode(\n",
        "    x=alt.X('x:O', axis=None),\n",
        "    y=alt.Y('y:O', axis=None),\n",
        "    text='texto:N'\n",
        ").properties(\n",
        "    width=400,  # Ancho para el gráfico de texto\n",
        "    height=300  # Altura para el gráfico de texto\n",
        ")\n",
        "\n",
        "#Calcular el gasto promedio por estancia hospitalaria\n",
        "\n",
        "total_billing_amount_a = int(df_arthritis['Billing Amount'].sum())\n",
        "\n",
        "# Calculamos el promedio de los valores en la columna \"Billing Amount\" para los registros con \"Arthritis\"\n",
        "average_billing_amount_a = int(df_arthritis['Billing Amount'].mean())\n",
        "\n",
        "#Calculamos el tiempo de estancia promedio de un paciente con Artritis\n",
        "\n",
        "average_hospitalization_days_a = df_arthritis['Hospitalization Days'].mean()\n",
        "\n",
        "# Agrupa por número de días de hospitalización y calcula el costo promedio\n",
        "average_cost_by_days_a = df_arthritis.groupby('Hospitalization Days')['Billing Amount'].mean().reset_index()\n",
        "\n",
        "# Combinar el gráfico de barras y el gráfico de texto\n",
        "grafico_final = grafico_barras + texto_total_arthritis\n",
        "\n",
        "print(f'Average days of hospitalization for patients with arthritis: {average_hospitalization_days_a:.2f} days')\n",
        "print(f'Average cost of hospitalization for arthritis: {average_billing_amount_a}')\n",
        "grafico_final"
      ],
      "metadata": {
        "colab": {
          "base_uri": "https://localhost:8080/",
          "height": 497
        },
        "id": "W72_94RzVFIp",
        "outputId": "e8addf91-d216-44ee-a596-bfbbfd260515"
      },
      "execution_count": 34,
      "outputs": [
        {
          "output_type": "stream",
          "name": "stdout",
          "text": [
            "Average days of hospitalization for patients with arthritis: 15.54 days\n",
            "Average cost of hospitalization for arthritis: 20158\n"
          ]
        },
        {
          "output_type": "stream",
          "name": "stderr",
          "text": [
            "/usr/local/lib/python3.10/dist-packages/altair/utils/core.py:384: FutureWarning: the convert_dtype parameter is deprecated and will be removed in a future version.  Do ``ser.astype(object).apply()`` instead if you want ``convert_dtype=False``.\n",
            "  col = df[col_name].apply(to_list_if_array, convert_dtype=False)\n",
            "/usr/local/lib/python3.10/dist-packages/altair/utils/core.py:384: FutureWarning: the convert_dtype parameter is deprecated and will be removed in a future version.  Do ``ser.astype(object).apply()`` instead if you want ``convert_dtype=False``.\n",
            "  col = df[col_name].apply(to_list_if_array, convert_dtype=False)\n"
          ]
        },
        {
          "output_type": "execute_result",
          "data": {
            "text/html": [
              "\n",
              "<div id=\"altair-viz-137f71aea70744c0aa1f81d22b3c58bc\"></div>\n",
              "<script type=\"text/javascript\">\n",
              "  var VEGA_DEBUG = (typeof VEGA_DEBUG == \"undefined\") ? {} : VEGA_DEBUG;\n",
              "  (function(spec, embedOpt){\n",
              "    let outputDiv = document.currentScript.previousElementSibling;\n",
              "    if (outputDiv.id !== \"altair-viz-137f71aea70744c0aa1f81d22b3c58bc\") {\n",
              "      outputDiv = document.getElementById(\"altair-viz-137f71aea70744c0aa1f81d22b3c58bc\");\n",
              "    }\n",
              "    const paths = {\n",
              "      \"vega\": \"https://cdn.jsdelivr.net/npm//vega@5?noext\",\n",
              "      \"vega-lib\": \"https://cdn.jsdelivr.net/npm//vega-lib?noext\",\n",
              "      \"vega-lite\": \"https://cdn.jsdelivr.net/npm//vega-lite@4.17.0?noext\",\n",
              "      \"vega-embed\": \"https://cdn.jsdelivr.net/npm//vega-embed@6?noext\",\n",
              "    };\n",
              "\n",
              "    function maybeLoadScript(lib, version) {\n",
              "      var key = `${lib.replace(\"-\", \"\")}_version`;\n",
              "      return (VEGA_DEBUG[key] == version) ?\n",
              "        Promise.resolve(paths[lib]) :\n",
              "        new Promise(function(resolve, reject) {\n",
              "          var s = document.createElement('script');\n",
              "          document.getElementsByTagName(\"head\")[0].appendChild(s);\n",
              "          s.async = true;\n",
              "          s.onload = () => {\n",
              "            VEGA_DEBUG[key] = version;\n",
              "            return resolve(paths[lib]);\n",
              "          };\n",
              "          s.onerror = () => reject(`Error loading script: ${paths[lib]}`);\n",
              "          s.src = paths[lib];\n",
              "        });\n",
              "    }\n",
              "\n",
              "    function showError(err) {\n",
              "      outputDiv.innerHTML = `<div class=\"error\" style=\"color:red;\">${err}</div>`;\n",
              "      throw err;\n",
              "    }\n",
              "\n",
              "    function displayChart(vegaEmbed) {\n",
              "      vegaEmbed(outputDiv, spec, embedOpt)\n",
              "        .catch(err => showError(`Javascript Error: ${err.message}<br>This usually means there's a typo in your chart specification. See the javascript console for the full traceback.`));\n",
              "    }\n",
              "\n",
              "    if(typeof define === \"function\" && define.amd) {\n",
              "      requirejs.config({paths});\n",
              "      require([\"vega-embed\"], displayChart, err => showError(`Error loading script: ${err.message}`));\n",
              "    } else {\n",
              "      maybeLoadScript(\"vega\", \"5\")\n",
              "        .then(() => maybeLoadScript(\"vega-lite\", \"4.17.0\"))\n",
              "        .then(() => maybeLoadScript(\"vega-embed\", \"6\"))\n",
              "        .catch(showError)\n",
              "        .then(() => displayChart(vegaEmbed));\n",
              "    }\n",
              "  })({\"config\": {\"view\": {\"continuousWidth\": 400, \"continuousHeight\": 300}}, \"layer\": [{\"data\": {\"name\": \"data-6ccf84fa0c3848c240a009c07af48b76\"}, \"mark\": \"bar\", \"encoding\": {\"color\": {\"field\": \"Medication\", \"type\": \"nominal\"}, \"tooltip\": [{\"field\": \"Medication\", \"title\": \"Medication\", \"type\": \"nominal\"}, {\"field\": \"Count\", \"title\": \"Number of uses\", \"type\": \"quantitative\"}], \"x\": {\"field\": \"Medication\", \"title\": \"Medication\", \"type\": \"ordinal\"}, \"y\": {\"axis\": {\"format\": \"d\"}, \"field\": \"Count\", \"title\": \"Number of uses\", \"type\": \"quantitative\"}}, \"height\": 300, \"title\": \"The three most used medications for \\\"Arthritis\\\"\", \"width\": 400}, {\"data\": {\"name\": \"data-2313b54a6fe96b4c4e60379cf9bc40b4\"}, \"mark\": {\"type\": \"text\", \"align\": \"center\", \"baseline\": \"bottom\", \"dy\": 170, \"fontSize\": 14}, \"encoding\": {\"text\": {\"field\": \"texto\", \"type\": \"nominal\"}, \"x\": {\"axis\": null, \"field\": \"x\", \"type\": \"ordinal\"}, \"y\": {\"axis\": null, \"field\": \"y\", \"type\": \"ordinal\"}}, \"height\": 300, \"width\": 400}], \"$schema\": \"https://vega.github.io/schema/vega-lite/v4.17.0.json\", \"datasets\": {\"data-6ccf84fa0c3848c240a009c07af48b76\": [{\"Medication\": \"Lipitor\", \"Count\": 873}, {\"Medication\": \"Aspirin\", \"Count\": 861}, {\"Medication\": \"Penicillin\", \"Count\": 791}], \"data-2313b54a6fe96b4c4e60379cf9bc40b4\": [{\"x\": 0, \"y\": 0, \"texto\": \"Patients with \\\"Arthritis\\\": 3410\"}]}}, {\"mode\": \"vega-lite\"});\n",
              "</script>"
            ],
            "text/plain": [
              "alt.LayerChart(...)"
            ]
          },
          "metadata": {},
          "execution_count": 34
        }
      ]
    },
    {
      "cell_type": "markdown",
      "source": [
        "Muy bien. Ya obtuvimos los datos respecto a las tres enfermedades más comunes dentro de nuestro Dataframe, así como los tres medicamentos más usados dentro de cada una de ellas, sus días promedio de estancia intrahospitalaria y el costo promedio  por hospitatilzación.\n",
        "\n",
        "A continuación determinaremos el porcentaje que cada aseguradora tiene con base a los pacientes cuyos gastos médicos cubrieron."
      ],
      "metadata": {
        "id": "GWcLq1lEduPK"
      }
    },
    {
      "cell_type": "code",
      "source": [
        "# Contar el número total de pacientes\n",
        "total_pacientes = len(df_1)\n",
        "\n",
        "# Contar el número de pacientes por cada aseguradora\n",
        "conteo_aseguradoras = df_1['Insurance Provider'].value_counts()\n",
        "\n",
        "# Calcular el porcentaje de pacientes por cada aseguradora\n",
        "porcentaje_aseguradoras = (conteo_aseguradoras / total_pacientes) * 100\n",
        "\n",
        "# Convertir el resultado a un DataFrame para una presentación más clara\n",
        "resultado = pd.DataFrame({\n",
        "    'Insurance Provider': porcentaje_aseguradoras.index,\n",
        "    'Percentage': porcentaje_aseguradoras.values\n",
        "})\n",
        "\n",
        "# Ordenar el resultado por porcentaje en orden descendente\n",
        "resultado = resultado.sort_values(by='Percentage', ascending=False)\n",
        "\n",
        "# Mostrar el resultado\n",
        "print(resultado)"
      ],
      "metadata": {
        "id": "_nAojiBZnscC",
        "colab": {
          "base_uri": "https://localhost:8080/"
        },
        "outputId": "35d0d2fd-a632-430d-ba6f-240072d3c283"
      },
      "execution_count": 35,
      "outputs": [
        {
          "output_type": "stream",
          "name": "stdout",
          "text": [
            "  Insurance Provider  Percentage\n",
            "0   UnitedHealthcare   23.637173\n",
            "1              Aetna   21.709815\n",
            "2           Medicare   19.846066\n",
            "3              Cigna   18.688379\n",
            "4         Blue Cross   16.118568\n"
          ]
        }
      ]
    },
    {
      "cell_type": "markdown",
      "source": [
        "Ahora veamos cuáles son las condicionas más manejadas por nuestra principal aseguradora."
      ],
      "metadata": {
        "id": "k6zgJ3rKku3j"
      }
    },
    {
      "cell_type": "code",
      "source": [
        "# Filtra los datos para la aseguradora específica\n",
        "aseguradora = 'UnitedHealthcare'\n",
        "df_aseguradora = df_1[df_1['Insurance Provider'] == aseguradora]\n",
        "\n",
        "# Contar el número de pacientes por condición médica para la aseguradora\n",
        "conteo_condiciones = df_aseguradora['Medical Condition'].value_counts().reset_index()\n",
        "conteo_condiciones.columns = ['Medical Condition', 'Count']\n",
        "\n",
        "# Calcular el total de pacientes asegurados por la aseguradora\n",
        "total_pacientes_aseguradora = len(df_aseguradora)\n",
        "\n",
        "# Calcular el porcentaje para cada condición médica\n",
        "conteo_condiciones['Percentage'] = (conteo_condiciones['Count'] / total_pacientes_aseguradora) * 100\n",
        "\n",
        "# Crear el gráfico de pastel con Altair\n",
        "chart = alt.Chart(conteo_condiciones).mark_arc(innerRadius=50).encode(\n",
        "    theta=alt.Theta(field='Percentage', type='quantitative'),\n",
        "    color=alt.Color(field='Medical Condition', type='nominal'),\n",
        "    tooltip=['Medical Condition', 'Count', 'Percentage:Q']\n",
        ").properties(\n",
        "    title=f'Distribución de Condiciones Médicas Cubiertas por {aseguradora}'\n",
        ")\n",
        "\n",
        "# Crear un texto informativo con Altair\n",
        "text = alt.Chart(pd.DataFrame({\n",
        "    'text': [f'Total de pacientes asegurados: {total_pacientes_aseguradora}']\n",
        "})).mark_text(\n",
        "    align='center',\n",
        "    baseline='middle',\n",
        "    fontSize=12,\n",
        "    dy=180\n",
        ").encode(\n",
        "    text='text:N'\n",
        ")\n",
        "\n",
        "# Combinar el gráfico y el texto en una sola visualización usando alt.layer\n",
        "final_chart = alt.layer(chart, text).properties(\n",
        "    height=350  # Ajusta la altura total de la visualización si es necesario\n",
        ")\n",
        "\n",
        "final_chart"
      ],
      "metadata": {
        "id": "tNyZae5ilsYj",
        "outputId": "1b33caba-7b41-4157-a10e-4b9da2651d4d",
        "colab": {
          "base_uri": "https://localhost:8080/",
          "height": 499
        }
      },
      "execution_count": 36,
      "outputs": [
        {
          "output_type": "stream",
          "name": "stderr",
          "text": [
            "/usr/local/lib/python3.10/dist-packages/altair/utils/core.py:384: FutureWarning: the convert_dtype parameter is deprecated and will be removed in a future version.  Do ``ser.astype(object).apply()`` instead if you want ``convert_dtype=False``.\n",
            "  col = df[col_name].apply(to_list_if_array, convert_dtype=False)\n",
            "/usr/local/lib/python3.10/dist-packages/altair/utils/core.py:384: FutureWarning: the convert_dtype parameter is deprecated and will be removed in a future version.  Do ``ser.astype(object).apply()`` instead if you want ``convert_dtype=False``.\n",
            "  col = df[col_name].apply(to_list_if_array, convert_dtype=False)\n"
          ]
        },
        {
          "output_type": "execute_result",
          "data": {
            "text/html": [
              "\n",
              "<div id=\"altair-viz-90cb3190667347669929243d546f7389\"></div>\n",
              "<script type=\"text/javascript\">\n",
              "  var VEGA_DEBUG = (typeof VEGA_DEBUG == \"undefined\") ? {} : VEGA_DEBUG;\n",
              "  (function(spec, embedOpt){\n",
              "    let outputDiv = document.currentScript.previousElementSibling;\n",
              "    if (outputDiv.id !== \"altair-viz-90cb3190667347669929243d546f7389\") {\n",
              "      outputDiv = document.getElementById(\"altair-viz-90cb3190667347669929243d546f7389\");\n",
              "    }\n",
              "    const paths = {\n",
              "      \"vega\": \"https://cdn.jsdelivr.net/npm//vega@5?noext\",\n",
              "      \"vega-lib\": \"https://cdn.jsdelivr.net/npm//vega-lib?noext\",\n",
              "      \"vega-lite\": \"https://cdn.jsdelivr.net/npm//vega-lite@4.17.0?noext\",\n",
              "      \"vega-embed\": \"https://cdn.jsdelivr.net/npm//vega-embed@6?noext\",\n",
              "    };\n",
              "\n",
              "    function maybeLoadScript(lib, version) {\n",
              "      var key = `${lib.replace(\"-\", \"\")}_version`;\n",
              "      return (VEGA_DEBUG[key] == version) ?\n",
              "        Promise.resolve(paths[lib]) :\n",
              "        new Promise(function(resolve, reject) {\n",
              "          var s = document.createElement('script');\n",
              "          document.getElementsByTagName(\"head\")[0].appendChild(s);\n",
              "          s.async = true;\n",
              "          s.onload = () => {\n",
              "            VEGA_DEBUG[key] = version;\n",
              "            return resolve(paths[lib]);\n",
              "          };\n",
              "          s.onerror = () => reject(`Error loading script: ${paths[lib]}`);\n",
              "          s.src = paths[lib];\n",
              "        });\n",
              "    }\n",
              "\n",
              "    function showError(err) {\n",
              "      outputDiv.innerHTML = `<div class=\"error\" style=\"color:red;\">${err}</div>`;\n",
              "      throw err;\n",
              "    }\n",
              "\n",
              "    function displayChart(vegaEmbed) {\n",
              "      vegaEmbed(outputDiv, spec, embedOpt)\n",
              "        .catch(err => showError(`Javascript Error: ${err.message}<br>This usually means there's a typo in your chart specification. See the javascript console for the full traceback.`));\n",
              "    }\n",
              "\n",
              "    if(typeof define === \"function\" && define.amd) {\n",
              "      requirejs.config({paths});\n",
              "      require([\"vega-embed\"], displayChart, err => showError(`Error loading script: ${err.message}`));\n",
              "    } else {\n",
              "      maybeLoadScript(\"vega\", \"5\")\n",
              "        .then(() => maybeLoadScript(\"vega-lite\", \"4.17.0\"))\n",
              "        .then(() => maybeLoadScript(\"vega-embed\", \"6\"))\n",
              "        .catch(showError)\n",
              "        .then(() => displayChart(vegaEmbed));\n",
              "    }\n",
              "  })({\"config\": {\"view\": {\"continuousWidth\": 400, \"continuousHeight\": 300}}, \"layer\": [{\"data\": {\"name\": \"data-d3dc462da61c4bc855dbbf07defcb49a\"}, \"mark\": {\"type\": \"arc\", \"innerRadius\": 50}, \"encoding\": {\"color\": {\"field\": \"Medical Condition\", \"type\": \"nominal\"}, \"theta\": {\"field\": \"Percentage\", \"type\": \"quantitative\"}, \"tooltip\": [{\"field\": \"Medical Condition\", \"type\": \"nominal\"}, {\"field\": \"Count\", \"type\": \"quantitative\"}, {\"field\": \"Percentage\", \"type\": \"quantitative\"}]}, \"title\": \"Distribuci\\u00f3n de Condiciones M\\u00e9dicas Cubiertas por UnitedHealthcare\"}, {\"data\": {\"name\": \"data-22dc68d9289efe91df71de28e672f039\"}, \"mark\": {\"type\": \"text\", \"align\": \"center\", \"baseline\": \"middle\", \"dy\": 180, \"fontSize\": 12}, \"encoding\": {\"text\": {\"field\": \"text\", \"type\": \"nominal\"}}}], \"height\": 350, \"$schema\": \"https://vega.github.io/schema/vega-lite/v4.17.0.json\", \"datasets\": {\"data-d3dc462da61c4bc855dbbf07defcb49a\": [{\"Medical Condition\": \"Asthma\", \"Count\": 796, \"Percentage\": 21.420882669537136}, {\"Medical Condition\": \"Arthritis\", \"Count\": 796, \"Percentage\": 21.420882669537136}, {\"Medical Condition\": \"Diabetes\", \"Count\": 679, \"Percentage\": 18.27233584499462}, {\"Medical Condition\": \"Obesity\", \"Count\": 635, \"Percentage\": 17.08826695371367}, {\"Medical Condition\": \"Hypertension\", \"Count\": 587, \"Percentage\": 15.796555435952635}, {\"Medical Condition\": \"Cancer\", \"Count\": 223, \"Percentage\": 6.001076426264801}], \"data-22dc68d9289efe91df71de28e672f039\": [{\"text\": \"Total de pacientes asegurados: 3716\"}]}}, {\"mode\": \"vega-lite\"});\n",
              "</script>"
            ],
            "text/plain": [
              "alt.LayerChart(...)"
            ]
          },
          "metadata": {},
          "execution_count": 36
        }
      ]
    },
    {
      "cell_type": "markdown",
      "source": [
        "Ahora determinaremos cuánto suele costar en promedio cada enfermedad según su estancia intrahospitalaria."
      ],
      "metadata": {
        "id": "ReaX623UtRDf"
      }
    },
    {
      "cell_type": "code",
      "source": [
        "# Agrupar los datos por la columna 'Medical Condition' y calcular el promedio del 'Billing Amount'\n",
        "promedio_gasto = df_1.groupby('Medical Condition')['Billing Amount'].mean().reset_index()\n",
        "\n",
        "promedio_gasto_ordenado = promedio_gasto.sort_values(by='Billing Amount', ascending=False)\n",
        "\n",
        "# Renombrar las columnas para mayor claridad\n",
        "promedio_gasto_ordenado.columns = ['Medical Condition', 'Average Billing Amount']\n",
        "\n",
        "# Mostrar el DataFrame resultante\n",
        "print(promedio_gasto_ordenado)"
      ],
      "metadata": {
        "id": "c7G7d1n_tPEb",
        "outputId": "618d6322-39ce-42f6-e5b1-2e2db6e57b1d",
        "colab": {
          "base_uri": "https://localhost:8080/"
        }
      },
      "execution_count": 37,
      "outputs": [
        {
          "output_type": "stream",
          "name": "stdout",
          "text": [
            "  Medical Condition  Average Billing Amount\n",
            "4      Hypertension            20638.596370\n",
            "1            Asthma            20541.119941\n",
            "3          Diabetes            20423.884394\n",
            "5           Obesity            20395.792019\n",
            "0         Arthritis            20158.716550\n",
            "2            Cancer            20065.835442\n"
          ]
        }
      ]
    },
    {
      "cell_type": "code",
      "source": [
        "#Ahora solo por diversión dividiremos a las enfermedades más fracuentes según su edad.\n",
        "\n",
        "# 1. Dividir las edades en rangos de 5 años\n",
        "bins = range(0, df['Age'].max() + 5, 5)\n",
        "df_1['Age Group'] = pd.cut(df['Age'], bins=bins)\n",
        "\n",
        "# 2. Contar la frecuencia de las condiciones médicas en cada grupo de edad\n",
        "age_condition_counts = df_1.groupby(['Age Group', 'Medical Condition']).size().reset_index(name='Counts')\n",
        "\n",
        "# 3. Identificar la condición médica más común en cada rango de edad\n",
        "most_common_conditions = age_condition_counts.loc[age_condition_counts.groupby('Age Group')['Counts'].idxmax()]\n",
        "\n",
        "# 4. Crear el gráfico con Altair\n",
        "# Convertir Age Group a string para evitar problemas con los ejes de Altair\n",
        "most_common_conditions['Age Group'] = most_common_conditions['Age Group'].astype(str)\n",
        "\n",
        "# Crear el gráfico de barras\n",
        "chart = alt.Chart(most_common_conditions).mark_bar().encode(\n",
        "    x=alt.X('Age Group', title='Grupos de Edad (en años)', sort=None),\n",
        "    y=alt.Y('Counts', title='Cantidad de Pacientes'),\n",
        "    color=alt.Color('Medical Condition', title='Condición Médica'),\n",
        "    tooltip=['Age Group', 'Medical Condition', 'Counts']\n",
        ").properties(\n",
        "    title='Condiciones Médicas Más Comunes por Rango de Edad',\n",
        "    width=600,\n",
        "    height=400\n",
        ").configure_axis(\n",
        "    labelAngle=0\n",
        ")\n",
        "\n",
        "# Mostrar el gráfico\n",
        "chart.show()"
      ],
      "metadata": {
        "id": "3UUNqmqHwntd",
        "outputId": "5bcc4624-d387-42e8-99a9-e80fc73d531b",
        "colab": {
          "base_uri": "https://localhost:8080/"
        }
      },
      "execution_count": null,
      "outputs": [
        {
          "output_type": "stream",
          "name": "stderr",
          "text": [
            "<ipython-input-38-59e54c81eac5>:8: FutureWarning: The default of observed=False is deprecated and will be changed to True in a future version of pandas. Pass observed=False to retain current behavior or observed=True to adopt the future default and silence this warning.\n",
            "  age_condition_counts = df_1.groupby(['Age Group', 'Medical Condition']).size().reset_index(name='Counts')\n",
            "<ipython-input-38-59e54c81eac5>:11: FutureWarning: The default of observed=False is deprecated and will be changed to True in a future version of pandas. Pass observed=False to retain current behavior or observed=True to adopt the future default and silence this warning.\n",
            "  most_common_conditions = age_condition_counts.loc[age_condition_counts.groupby('Age Group')['Counts'].idxmax()]\n",
            "/usr/local/lib/python3.10/dist-packages/altair/utils/core.py:384: FutureWarning: the convert_dtype parameter is deprecated and will be removed in a future version.  Do ``ser.astype(object).apply()`` instead if you want ``convert_dtype=False``.\n",
            "  col = df[col_name].apply(to_list_if_array, convert_dtype=False)\n"
          ]
        },
        {
          "output_type": "stream",
          "name": "stdout",
          "text": [
            "Displaying chart at http://localhost:35009/\n"
          ]
        }
      ]
    }
  ]
}