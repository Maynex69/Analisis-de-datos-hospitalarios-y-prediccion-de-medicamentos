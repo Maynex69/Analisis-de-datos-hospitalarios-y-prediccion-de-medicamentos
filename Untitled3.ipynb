{
  "nbformat": 4,
  "nbformat_minor": 0,
  "metadata": {
    "colab": {
      "provenance": [],
      "authorship_tag": "ABX9TyNWzBXZSday2nQ2jOB6xvIZ",
      "include_colab_link": true
    },
    "kernelspec": {
      "name": "python3",
      "display_name": "Python 3"
    },
    "language_info": {
      "name": "python"
    }
  },
  "cells": [
    {
      "cell_type": "markdown",
      "metadata": {
        "id": "view-in-github",
        "colab_type": "text"
      },
      "source": [
        "<a href=\"https://colab.research.google.com/github/Maynex69/Gestion-de-ingresos-hospitalarios/blob/main/Untitled3.ipynb\" target=\"_parent\"><img src=\"https://colab.research.google.com/assets/colab-badge.svg\" alt=\"Open In Colab\"/></a>"
      ]
    },
    {
      "cell_type": "code",
      "execution_count": 72,
      "metadata": {
        "colab": {
          "base_uri": "https://localhost:8080/"
        },
        "id": "S3MIvJa38KPh",
        "outputId": "84b5869b-8bb4-4b13-fd12-6659e322b603"
      },
      "outputs": [
        {
          "output_type": "stream",
          "name": "stdout",
          "text": [
            "       Age  Gender Blood Type Medical Condition Date of Admission  \\\n",
            "7188    38  Female        AB-          Diabetes        2024-05-07   \n",
            "45921   78  Female         B-         Arthritis        2024-05-07   \n",
            "9647    37  Female         O+           Obesity        2024-05-07   \n",
            "10572   54  Female         A-         Arthritis        2024-05-07   \n",
            "28226   41    Male         A-         Arthritis        2024-05-07   \n",
            "...    ...     ...        ...               ...               ...   \n",
            "40282   49    Male         O+            Cancer        2019-05-08   \n",
            "50540   38  Female        AB+           Obesity        2019-05-08   \n",
            "32249   47  Female         O-            Cancer        2019-05-08   \n",
            "10121   71  Female         B-      Hypertension        2019-05-08   \n",
            "34911   25    Male        AB-          Diabetes        2019-05-08   \n",
            "\n",
            "      Insurance Provider  Billing Amount Admission Type Discharge Date  \\\n",
            "7188    UnitedHealthcare    47522.849353       Elective     2024-06-02   \n",
            "45921              Aetna    21905.036670       Elective     2024-06-04   \n",
            "9647               Cigna    12653.158803       Elective     2024-05-20   \n",
            "10572              Cigna    25163.637862         Urgent     2024-05-14   \n",
            "28226           Medicare    43161.535378      Emergency     2024-05-11   \n",
            "...                  ...             ...            ...            ...   \n",
            "40282   UnitedHealthcare     4360.795861         Urgent     2019-05-10   \n",
            "50540              Cigna    23249.431964       Elective     2019-05-28   \n",
            "32249              Cigna    33454.084855      Emergency     2019-05-20   \n",
            "10121         Blue Cross    33787.034497      Emergency     2019-05-14   \n",
            "34911              Aetna    48782.999408      Emergency     2019-05-20   \n",
            "\n",
            "        Medication  \n",
            "7188       Lipitor  \n",
            "45921    Ibuprofen  \n",
            "9647   Paracetamol  \n",
            "10572      Aspirin  \n",
            "28226  Paracetamol  \n",
            "...            ...  \n",
            "40282      Lipitor  \n",
            "50540   Penicillin  \n",
            "32249      Lipitor  \n",
            "10121   Penicillin  \n",
            "34911    Ibuprofen  \n",
            "\n",
            "[55500 rows x 10 columns]\n"
          ]
        }
      ],
      "source": [
        "import pandas as pd\n",
        "\n",
        "# Carga el archivo CSV usando Polars\n",
        "df = pd.read_csv('/content/dataset.csv')\n",
        "\n",
        "#Transformación de datos\n",
        "df['Date of Admission'] = pd.to_datetime(df['Date of Admission'])\n",
        "df['Discharge Date'] = pd.to_datetime(df['Discharge Date'])\n",
        "\n",
        "# Elimina las columnas no necesarias\n",
        "df_dropped = df.drop(columns=['Doctor', 'Hospital', 'Room Number', 'Name', 'Test Results' ])\n",
        "\n",
        "fecha_admision = df['Date of Admission']\n",
        "fecha_alta = df['Discharge Date']\n",
        "\n",
        "df_ordenado_desc = df_dropped.sort_values(by='Date of Admission', ascending=False)\n",
        "\n",
        "print(df_ordenado_desc)\n",
        "\n",
        "\n",
        "\n",
        "\n",
        "\n",
        "\n",
        "\n",
        "\n",
        "\n"
      ]
    }
  ]
}