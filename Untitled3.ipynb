{
  "nbformat": 4,
  "nbformat_minor": 0,
  "metadata": {
    "colab": {
      "provenance": [],
      "authorship_tag": "ABX9TyO5+JEs/VSbdN6jL0lXISUs",
      "include_colab_link": true
    },
    "kernelspec": {
      "name": "python3",
      "display_name": "Python 3"
    },
    "language_info": {
      "name": "python"
    }
  },
  "cells": [
    {
      "cell_type": "markdown",
      "metadata": {
        "id": "view-in-github",
        "colab_type": "text"
      },
      "source": [
        "<a href=\"https://colab.research.google.com/github/Maynex69/Gestion-de-ingresos-hospitalarios/blob/main/Untitled3.ipynb\" target=\"_parent\"><img src=\"https://colab.research.google.com/assets/colab-badge.svg\" alt=\"Open In Colab\"/></a>"
      ]
    },
    {
      "cell_type": "code",
      "source": [
        "import pandas as pd\n",
        "import altair as alt\n",
        "!pip install altair_viewer\n",
        "\n",
        "# Carga el archivo CSV usando Polars\n",
        "df = pd.read_csv('/content/dataset.csv')"
      ],
      "metadata": {
        "colab": {
          "base_uri": "https://localhost:8080/"
        },
        "id": "KMWAZHbPiaQU",
        "outputId": "a2371666-4dd8-4234-fc22-0427a4dce1a8"
      },
      "execution_count": 136,
      "outputs": [
        {
          "output_type": "stream",
          "name": "stdout",
          "text": [
            "Requirement already satisfied: altair_viewer in /usr/local/lib/python3.10/dist-packages (0.4.0)\n",
            "Requirement already satisfied: altair in /usr/local/lib/python3.10/dist-packages (from altair_viewer) (4.2.2)\n",
            "Requirement already satisfied: altair-data-server>=0.4.0 in /usr/local/lib/python3.10/dist-packages (from altair_viewer) (0.4.1)\n",
            "Requirement already satisfied: portpicker in /usr/local/lib/python3.10/dist-packages (from altair-data-server>=0.4.0->altair_viewer) (1.5.2)\n",
            "Requirement already satisfied: tornado in /usr/local/lib/python3.10/dist-packages (from altair-data-server>=0.4.0->altair_viewer) (6.3.3)\n",
            "Requirement already satisfied: entrypoints in /usr/local/lib/python3.10/dist-packages (from altair->altair_viewer) (0.4)\n",
            "Requirement already satisfied: jinja2 in /usr/local/lib/python3.10/dist-packages (from altair->altair_viewer) (3.1.4)\n",
            "Requirement already satisfied: jsonschema>=3.0 in /usr/local/lib/python3.10/dist-packages (from altair->altair_viewer) (4.23.0)\n",
            "Requirement already satisfied: numpy in /usr/local/lib/python3.10/dist-packages (from altair->altair_viewer) (1.26.4)\n",
            "Requirement already satisfied: pandas>=0.18 in /usr/local/lib/python3.10/dist-packages (from altair->altair_viewer) (2.1.4)\n",
            "Requirement already satisfied: toolz in /usr/local/lib/python3.10/dist-packages (from altair->altair_viewer) (0.12.1)\n",
            "Requirement already satisfied: attrs>=22.2.0 in /usr/local/lib/python3.10/dist-packages (from jsonschema>=3.0->altair->altair_viewer) (24.2.0)\n",
            "Requirement already satisfied: jsonschema-specifications>=2023.03.6 in /usr/local/lib/python3.10/dist-packages (from jsonschema>=3.0->altair->altair_viewer) (2023.12.1)\n",
            "Requirement already satisfied: referencing>=0.28.4 in /usr/local/lib/python3.10/dist-packages (from jsonschema>=3.0->altair->altair_viewer) (0.35.1)\n",
            "Requirement already satisfied: rpds-py>=0.7.1 in /usr/local/lib/python3.10/dist-packages (from jsonschema>=3.0->altair->altair_viewer) (0.20.0)\n",
            "Requirement already satisfied: python-dateutil>=2.8.2 in /usr/local/lib/python3.10/dist-packages (from pandas>=0.18->altair->altair_viewer) (2.8.2)\n",
            "Requirement already satisfied: pytz>=2020.1 in /usr/local/lib/python3.10/dist-packages (from pandas>=0.18->altair->altair_viewer) (2024.1)\n",
            "Requirement already satisfied: tzdata>=2022.1 in /usr/local/lib/python3.10/dist-packages (from pandas>=0.18->altair->altair_viewer) (2024.1)\n",
            "Requirement already satisfied: MarkupSafe>=2.0 in /usr/local/lib/python3.10/dist-packages (from jinja2->altair->altair_viewer) (2.1.5)\n",
            "Requirement already satisfied: psutil in /usr/local/lib/python3.10/dist-packages (from portpicker->altair-data-server>=0.4.0->altair_viewer) (5.9.5)\n",
            "Requirement already satisfied: six>=1.5 in /usr/local/lib/python3.10/dist-packages (from python-dateutil>=2.8.2->pandas>=0.18->altair->altair_viewer) (1.16.0)\n"
          ]
        }
      ]
    },
    {
      "cell_type": "code",
      "execution_count": null,
      "metadata": {
        "id": "S3MIvJa38KPh"
      },
      "outputs": [],
      "source": [
        "\n",
        "#Transformación de datos\n",
        "df['Date of Admission'] = pd.to_datetime(df['Date of Admission'])\n",
        "df['Discharge Date'] = pd.to_datetime(df['Discharge Date'])\n",
        "\n",
        "# Elimina las columnas no necesarias\n",
        "df_dropped = df.drop(columns=['Doctor', 'Hospital', 'Room Number', 'Name', 'Test Results' ])\n",
        "\n",
        "#En este punto me di cuenta de que el Dataset tenía prácticamente la misma\n",
        "#cantidad de pacientes por cada enfermedad, así que decidí borrar una cantidad\n",
        "#al azar para que fuera un escenario más diverso.\n",
        "\n",
        "porcentajes = {\n",
        "    'Female': 0.12,\n",
        "    'Male': 0.36\n",
        "}\n",
        "\n",
        "indices_a_eliminar = []\n",
        "\n",
        "for valor, porcentaje in porcentajes.items():\n",
        "  filas_objeto = df_dropped[df_dropped['Gender'] == valor]\n",
        "  num_filas_a_eliminar = int(len(filas_objeto) * porcentaje)\n",
        "  filas_a_eliminar_aleatorias = filas_objeto.sample(n=num_filas_a_eliminar, random_state=1)\n",
        "  indices_a_eliminar.extend(filas_a_eliminar_aleatorias.index)\n",
        "\n",
        "df_modificado = df_dropped.drop(index=indices_a_eliminar)\n",
        "\n",
        "#Ahora tenemos un nuevo dataframe con datos más aleatorizados para el desarrollo del modelo\n",
        "#Lamentablemente el resto de las columnas sigue teniendo valores muy similares\n",
        "\n"
      ]
    },
    {
      "cell_type": "code",
      "source": [
        "#Reducción del número de aseguradoras\n",
        "\n",
        "porcentajes_insurance = {\n",
        "    'Cigna': 0.42,\n",
        "    'Medicare': 0.26,\n",
        "    'Aetna' : 0.18,\n",
        "    'UnitedHealthcare': 0.12,\n",
        "    'Blue Cross': 0.44\n",
        "}\n",
        "\n",
        "indices_a_eliminar = []\n",
        "\n",
        "for valor, porcentaje in porcentajes_insurance.items():\n",
        "  filas_objeto1 = df_modificado[df_modificado['Insurance Provider'] == valor]\n",
        "  num_filas_a_eliminar1 = int(len(filas_objeto1) * porcentaje)\n",
        "  filas_a_eliminar_aleatorias1 = filas_objeto1.sample(n=num_filas_a_eliminar1, random_state=1)\n",
        "  indices_a_eliminar.extend(filas_a_eliminar_aleatorias1.index)\n",
        "\n",
        "  df_modificado1 = df_modificado.drop(index=indices_a_eliminar)\n"
      ],
      "metadata": {
        "id": "SBoguM0CZZ_C"
      },
      "execution_count": null,
      "outputs": []
    },
    {
      "cell_type": "code",
      "source": [
        "#Reducción del porcentaje de condiciones médicas\n",
        "\n",
        "porcentajes_p = {\n",
        "    'Diabetes':0.16,\n",
        "    'Obesity':0.22,\n",
        "    'Cancer':0.7,\n",
        "    'Hypertension':0.3\n",
        "}\n",
        "\n",
        "indices_a_eliminar = []\n",
        "\n",
        "for valor, porcentaje in porcentajes_p.items():\n",
        "  filas_objeto2 = df_modificado1[df_modificado1['Medical Condition'] == valor]\n",
        "  num_filas_a_eliminar2 = int(len(filas_objeto2) * porcentaje)\n",
        "  filas_a_eliminar_aleatorias2 = filas_objeto2.sample(n=num_filas_a_eliminar2, random_state=1)\n",
        "  indices_a_eliminar.extend(filas_a_eliminar_aleatorias2.index)\n",
        "\n",
        "  df_modificado2 = df_modificado1.drop(index=indices_a_eliminar)\n",
        "\n"
      ],
      "metadata": {
        "id": "CNFQaBznf_hy"
      },
      "execution_count": null,
      "outputs": []
    },
    {
      "cell_type": "code",
      "source": [
        "#Reducción del número de medicamentos\n",
        "\n",
        "porcentajes_m = {\n",
        "    'Penicillin':0.36,\n",
        "    'Ibuprofen':0.42,\n",
        "    'Aspirin':0.27,\n",
        "    'Paracetamol':0.08\n",
        "}\n",
        "\n",
        "indices_a_eliminar = []\n",
        "\n",
        "for valor, porcentaje in porcentajes_m.items():\n",
        "  filas_objeto3 = df_modificado2[df_modificado2['Medication'] == valor]\n",
        "  num_filas_a_eliminar3 = int(len(filas_objeto3) * porcentaje)\n",
        "  filas_a_eliminar_aleatorias3 = filas_objeto3.sample(n=num_filas_a_eliminar3, random_state=1)\n",
        "  indices_a_eliminar.extend(filas_a_eliminar_aleatorias3.index)\n",
        "\n",
        "  df_1 = df_modificado2.drop(index=indices_a_eliminar)\n",
        "\n",
        "#Así ya tenemos preparado nuestro Dataframe\n",
        "\n"
      ],
      "metadata": {
        "id": "CwXJJEBjeOb_"
      },
      "execution_count": null,
      "outputs": []
    },
    {
      "cell_type": "code",
      "source": [
        "#Visualización de las condiciones más frecuentes en los últimos 5 años\n",
        "\n",
        "# Contar las ocurrencias de cada valor en la columna\n",
        "conteos = df_1['Medical Condition'].value_counts()\n",
        "\n",
        "# Calcular el porcentaje de cada valor\n",
        "porcentajes1 = (conteos / len(df_1)) * 100\n",
        "\n",
        "# Crear un DataFrame con los porcentajes para Altair\n",
        "df_porcentaje = porcentajes1.reset_index()\n",
        "df_porcentaje.columns = ['Condition', 'Percentage']\n",
        "\n",
        "# Total de filas\n",
        "total_filas = len(df_1)\n",
        "\n",
        "# Crear una gráfica de pastel con Altair\n",
        "grafico = alt.Chart(df_porcentaje).mark_arc(innerRadius=50).encode(\n",
        "    theta=alt.Theta(field='Percentage', type='quantitative', title='Percentage'),\n",
        "    color=alt.Color(field='Condition', type='nominal', title='Condition'),\n",
        "    tooltip=[alt.Tooltip(field='Condition', type='nominal', title='Condition'),\n",
        "             alt.Tooltip(field='Percentage', type='quantitative', title='Percentage')]\n",
        ").properties(\n",
        "    title='Income causes',\n",
        "    width=400,  # Ajusta el ancho del gráfico\n",
        "    height=400  # Ajusta la altura del gráfico\n",
        ")\n",
        "\n",
        "# Crear un DataFrame para el texto total\n",
        "df_texto_total = pd.DataFrame({\n",
        "    'x': [0],\n",
        "    'y': [0],\n",
        "    'texto': [f'Number of patients: {total_filas}']\n",
        "})\n",
        "\n",
        "# Crear el gráfico de texto\n",
        "texto_total = alt.Chart(df_texto_total).mark_text(\n",
        "    align='center',\n",
        "    baseline='middle',\n",
        "    fontSize=14,\n",
        "    dy=210  # Ajusta la posición vertical del texto\n",
        ").encode(\n",
        "    x=alt.X('x:O', axis=None),\n",
        "    y=alt.Y('y:O', axis=None),\n",
        "    text='texto:N'\n",
        ").properties(\n",
        "    width=400,  # Ancho para el gráfico de texto\n",
        "    height=400  # Altura para el gráfico de texto\n",
        ")\n",
        "\n",
        "# Combinar el gráfico de pastel y el gráfico de texto\n",
        "grafico_final = grafico + texto_total\n",
        "\n",
        "# Mostrar el gráfico en Google Colab\n",
        "grafico_final"
      ],
      "metadata": {
        "colab": {
          "base_uri": "https://localhost:8080/",
          "height": 555
        },
        "id": "uKBS8WvUinLZ",
        "outputId": "7b2bdfec-79d9-4b8e-d4ac-539d6ec6bfaf"
      },
      "execution_count": 114,
      "outputs": [
        {
          "output_type": "stream",
          "name": "stderr",
          "text": [
            "/usr/local/lib/python3.10/dist-packages/altair/utils/core.py:384: FutureWarning: the convert_dtype parameter is deprecated and will be removed in a future version.  Do ``ser.astype(object).apply()`` instead if you want ``convert_dtype=False``.\n",
            "  col = df[col_name].apply(to_list_if_array, convert_dtype=False)\n",
            "/usr/local/lib/python3.10/dist-packages/altair/utils/core.py:384: FutureWarning: the convert_dtype parameter is deprecated and will be removed in a future version.  Do ``ser.astype(object).apply()`` instead if you want ``convert_dtype=False``.\n",
            "  col = df[col_name].apply(to_list_if_array, convert_dtype=False)\n"
          ]
        },
        {
          "output_type": "execute_result",
          "data": {
            "text/html": [
              "\n",
              "<div id=\"altair-viz-680ec0fff349465e9a48b5d1f0c6eaa1\"></div>\n",
              "<script type=\"text/javascript\">\n",
              "  var VEGA_DEBUG = (typeof VEGA_DEBUG == \"undefined\") ? {} : VEGA_DEBUG;\n",
              "  (function(spec, embedOpt){\n",
              "    let outputDiv = document.currentScript.previousElementSibling;\n",
              "    if (outputDiv.id !== \"altair-viz-680ec0fff349465e9a48b5d1f0c6eaa1\") {\n",
              "      outputDiv = document.getElementById(\"altair-viz-680ec0fff349465e9a48b5d1f0c6eaa1\");\n",
              "    }\n",
              "    const paths = {\n",
              "      \"vega\": \"https://cdn.jsdelivr.net/npm//vega@5?noext\",\n",
              "      \"vega-lib\": \"https://cdn.jsdelivr.net/npm//vega-lib?noext\",\n",
              "      \"vega-lite\": \"https://cdn.jsdelivr.net/npm//vega-lite@4.17.0?noext\",\n",
              "      \"vega-embed\": \"https://cdn.jsdelivr.net/npm//vega-embed@6?noext\",\n",
              "    };\n",
              "\n",
              "    function maybeLoadScript(lib, version) {\n",
              "      var key = `${lib.replace(\"-\", \"\")}_version`;\n",
              "      return (VEGA_DEBUG[key] == version) ?\n",
              "        Promise.resolve(paths[lib]) :\n",
              "        new Promise(function(resolve, reject) {\n",
              "          var s = document.createElement('script');\n",
              "          document.getElementsByTagName(\"head\")[0].appendChild(s);\n",
              "          s.async = true;\n",
              "          s.onload = () => {\n",
              "            VEGA_DEBUG[key] = version;\n",
              "            return resolve(paths[lib]);\n",
              "          };\n",
              "          s.onerror = () => reject(`Error loading script: ${paths[lib]}`);\n",
              "          s.src = paths[lib];\n",
              "        });\n",
              "    }\n",
              "\n",
              "    function showError(err) {\n",
              "      outputDiv.innerHTML = `<div class=\"error\" style=\"color:red;\">${err}</div>`;\n",
              "      throw err;\n",
              "    }\n",
              "\n",
              "    function displayChart(vegaEmbed) {\n",
              "      vegaEmbed(outputDiv, spec, embedOpt)\n",
              "        .catch(err => showError(`Javascript Error: ${err.message}<br>This usually means there's a typo in your chart specification. See the javascript console for the full traceback.`));\n",
              "    }\n",
              "\n",
              "    if(typeof define === \"function\" && define.amd) {\n",
              "      requirejs.config({paths});\n",
              "      require([\"vega-embed\"], displayChart, err => showError(`Error loading script: ${err.message}`));\n",
              "    } else {\n",
              "      maybeLoadScript(\"vega\", \"5\")\n",
              "        .then(() => maybeLoadScript(\"vega-lite\", \"4.17.0\"))\n",
              "        .then(() => maybeLoadScript(\"vega-embed\", \"6\"))\n",
              "        .catch(showError)\n",
              "        .then(() => displayChart(vegaEmbed));\n",
              "    }\n",
              "  })({\"config\": {\"view\": {\"continuousWidth\": 400, \"continuousHeight\": 300}}, \"layer\": [{\"data\": {\"name\": \"data-b7484d9ac13bde3409529dcfcd17f4f2\"}, \"mark\": {\"type\": \"arc\", \"innerRadius\": 50}, \"encoding\": {\"color\": {\"field\": \"Condition\", \"title\": \"Condition\", \"type\": \"nominal\"}, \"theta\": {\"field\": \"Percentage\", \"title\": \"Percentage\", \"type\": \"quantitative\"}, \"tooltip\": [{\"field\": \"Condition\", \"title\": \"Condition\", \"type\": \"nominal\"}, {\"field\": \"Percentage\", \"title\": \"Percentage\", \"type\": \"quantitative\"}]}, \"height\": 400, \"title\": \"Income causes\", \"width\": 400}, {\"data\": {\"name\": \"data-fed7c1537e80605515192e780e00290a\"}, \"mark\": {\"type\": \"text\", \"align\": \"center\", \"baseline\": \"middle\", \"dy\": 210, \"fontSize\": 14}, \"encoding\": {\"text\": {\"field\": \"texto\", \"type\": \"nominal\"}, \"x\": {\"axis\": null, \"field\": \"x\", \"type\": \"ordinal\"}, \"y\": {\"axis\": null, \"field\": \"y\", \"type\": \"ordinal\"}}, \"height\": 400, \"width\": 400}], \"$schema\": \"https://vega.github.io/schema/vega-lite/v4.17.0.json\", \"datasets\": {\"data-b7484d9ac13bde3409529dcfcd17f4f2\": [{\"Condition\": \"Arthritis\", \"Percentage\": 21.68645939010563}, {\"Condition\": \"Asthma\", \"Percentage\": 21.411947245927077}, {\"Condition\": \"Diabetes\", \"Percentage\": 18.11183386047622}, {\"Condition\": \"Obesity\", \"Percentage\": 16.930238109446798}, {\"Condition\": \"Hypertension\", \"Percentage\": 15.289132899683713}, {\"Condition\": \"Cancer\", \"Percentage\": 6.570388494360565}], \"data-fed7c1537e80605515192e780e00290a\": [{\"x\": 0, \"y\": 0, \"texto\": \"Number of patients: 16757\"}]}}, {\"mode\": \"vega-lite\"});\n",
              "</script>"
            ],
            "text/plain": [
              "alt.LayerChart(...)"
            ]
          },
          "metadata": {},
          "execution_count": 114
        }
      ]
    },
    {
      "cell_type": "markdown",
      "source": [
        "Asma: medicamentos más usados, costo total en promedio, diás de estancia en promedio..."
      ],
      "metadata": {
        "id": "mlQthgA1EIB3"
      }
    },
    {
      "cell_type": "code",
      "source": [
        "#Los tres medicamentos más utilizados en Asthma#\n",
        "\n",
        "# Filtrar las filas donde \"Medical Conditions\" es \"Asthma\"\n",
        "df_asthma = df_1[df_1['Medical Condition'] == 'Asthma']\n",
        "\n",
        "# Contar las ocurrencias de cada objeto en \"Medicamentos\"\n",
        "conteos_medicamentos = df_asthma['Medication'].value_counts()\n",
        "\n",
        "total_asthma  = len(df_asthma)\n",
        "\n",
        "# Seleccionar los 3 medicamentos más frecuentes\n",
        "top_3_medicamentos = conteos_medicamentos.head(3).reset_index()\n",
        "top_3_medicamentos.columns = ['Medication', 'Count']\n",
        "\n",
        "# Crear una gráfica de barras con Altair\n",
        "grafico_barras = alt.Chart(top_3_medicamentos).mark_bar().encode(\n",
        "    x=alt.X('Medication:O', title='Medication'),\n",
        "    y=alt.Y('Count:Q', title='Number of uses', axis=alt.Axis(format='d')),\n",
        "    color='Medication:N',\n",
        "    tooltip=[alt.Tooltip(field='Medication', type='nominal', title='Medication'),\n",
        "             alt.Tooltip(field='Count', type='quantitative', title='Number of uses')]\n",
        ").properties(\n",
        "    title='The three most used medications for \"Asthma\"',\n",
        "    width=400,  # Ajusta el ancho del gráfico\n",
        "    height=300  # Ajusta la altura del gráfico\n",
        ")\n",
        "\n",
        "# Crear un DataFrame para el texto total\n",
        "df_texto_total = pd.DataFrame({\n",
        "    'x': [0],\n",
        "    'y': [0],\n",
        "    'texto': [f'Patients with \"Asthma\": {total_asthma}']\n",
        "})\n",
        "\n",
        "# Crear el gráfico de texto\n",
        "texto_total = alt.Chart(df_texto_total).mark_text(\n",
        "    align='center',\n",
        "    baseline='bottom',\n",
        "    fontSize=14,\n",
        "    dy=170  # Ajusta la posición vertical del texto\n",
        ").encode(\n",
        "    x=alt.X('x:O', axis=None),\n",
        "    y=alt.Y('y:O', axis=None),\n",
        "    text='texto:N'\n",
        ").properties(\n",
        "    width=400,  # Ancho para el gráfico de texto\n",
        "    height=300  # Altura para el gráfico de texto\n",
        ")\n",
        "\n",
        "# Combinar el gráfico de barras y el gráfico de texto\n",
        "grafico_final = grafico_barras + texto_total\n",
        "\n",
        "grafico_final\n"
      ],
      "metadata": {
        "colab": {
          "base_uri": "https://localhost:8080/",
          "height": 463
        },
        "id": "7IqOglGKuML8",
        "outputId": "d4d6c1c5-40d6-4b36-f646-c171335bb476"
      },
      "execution_count": 132,
      "outputs": [
        {
          "output_type": "stream",
          "name": "stderr",
          "text": [
            "/usr/local/lib/python3.10/dist-packages/altair/utils/core.py:384: FutureWarning: the convert_dtype parameter is deprecated and will be removed in a future version.  Do ``ser.astype(object).apply()`` instead if you want ``convert_dtype=False``.\n",
            "  col = df[col_name].apply(to_list_if_array, convert_dtype=False)\n",
            "/usr/local/lib/python3.10/dist-packages/altair/utils/core.py:384: FutureWarning: the convert_dtype parameter is deprecated and will be removed in a future version.  Do ``ser.astype(object).apply()`` instead if you want ``convert_dtype=False``.\n",
            "  col = df[col_name].apply(to_list_if_array, convert_dtype=False)\n"
          ]
        },
        {
          "output_type": "execute_result",
          "data": {
            "text/html": [
              "\n",
              "<div id=\"altair-viz-044a81fbca9e4066b17fc3d6cb8dee2e\"></div>\n",
              "<script type=\"text/javascript\">\n",
              "  var VEGA_DEBUG = (typeof VEGA_DEBUG == \"undefined\") ? {} : VEGA_DEBUG;\n",
              "  (function(spec, embedOpt){\n",
              "    let outputDiv = document.currentScript.previousElementSibling;\n",
              "    if (outputDiv.id !== \"altair-viz-044a81fbca9e4066b17fc3d6cb8dee2e\") {\n",
              "      outputDiv = document.getElementById(\"altair-viz-044a81fbca9e4066b17fc3d6cb8dee2e\");\n",
              "    }\n",
              "    const paths = {\n",
              "      \"vega\": \"https://cdn.jsdelivr.net/npm//vega@5?noext\",\n",
              "      \"vega-lib\": \"https://cdn.jsdelivr.net/npm//vega-lib?noext\",\n",
              "      \"vega-lite\": \"https://cdn.jsdelivr.net/npm//vega-lite@4.17.0?noext\",\n",
              "      \"vega-embed\": \"https://cdn.jsdelivr.net/npm//vega-embed@6?noext\",\n",
              "    };\n",
              "\n",
              "    function maybeLoadScript(lib, version) {\n",
              "      var key = `${lib.replace(\"-\", \"\")}_version`;\n",
              "      return (VEGA_DEBUG[key] == version) ?\n",
              "        Promise.resolve(paths[lib]) :\n",
              "        new Promise(function(resolve, reject) {\n",
              "          var s = document.createElement('script');\n",
              "          document.getElementsByTagName(\"head\")[0].appendChild(s);\n",
              "          s.async = true;\n",
              "          s.onload = () => {\n",
              "            VEGA_DEBUG[key] = version;\n",
              "            return resolve(paths[lib]);\n",
              "          };\n",
              "          s.onerror = () => reject(`Error loading script: ${paths[lib]}`);\n",
              "          s.src = paths[lib];\n",
              "        });\n",
              "    }\n",
              "\n",
              "    function showError(err) {\n",
              "      outputDiv.innerHTML = `<div class=\"error\" style=\"color:red;\">${err}</div>`;\n",
              "      throw err;\n",
              "    }\n",
              "\n",
              "    function displayChart(vegaEmbed) {\n",
              "      vegaEmbed(outputDiv, spec, embedOpt)\n",
              "        .catch(err => showError(`Javascript Error: ${err.message}<br>This usually means there's a typo in your chart specification. See the javascript console for the full traceback.`));\n",
              "    }\n",
              "\n",
              "    if(typeof define === \"function\" && define.amd) {\n",
              "      requirejs.config({paths});\n",
              "      require([\"vega-embed\"], displayChart, err => showError(`Error loading script: ${err.message}`));\n",
              "    } else {\n",
              "      maybeLoadScript(\"vega\", \"5\")\n",
              "        .then(() => maybeLoadScript(\"vega-lite\", \"4.17.0\"))\n",
              "        .then(() => maybeLoadScript(\"vega-embed\", \"6\"))\n",
              "        .catch(showError)\n",
              "        .then(() => displayChart(vegaEmbed));\n",
              "    }\n",
              "  })({\"config\": {\"view\": {\"continuousWidth\": 400, \"continuousHeight\": 300}}, \"layer\": [{\"data\": {\"name\": \"data-2049b66ae64fcf9cf82023fc850a3722\"}, \"mark\": \"bar\", \"encoding\": {\"color\": {\"field\": \"Medication\", \"type\": \"nominal\"}, \"tooltip\": [{\"field\": \"Medication\", \"title\": \"Medication\", \"type\": \"nominal\"}, {\"field\": \"Count\", \"title\": \"Number of uses\", \"type\": \"quantitative\"}], \"x\": {\"field\": \"Medication\", \"title\": \"Medication\", \"type\": \"ordinal\"}, \"y\": {\"axis\": {\"format\": \"d\"}, \"field\": \"Count\", \"title\": \"Number of uses\", \"type\": \"quantitative\"}}, \"height\": 300, \"title\": \"The three most used medications for \\\"Asthma\\\"\", \"width\": 400}, {\"data\": {\"name\": \"data-3a3b817b17438c037700216f500f6e8c\"}, \"mark\": {\"type\": \"text\", \"align\": \"center\", \"baseline\": \"bottom\", \"dy\": 170, \"fontSize\": 14}, \"encoding\": {\"text\": {\"field\": \"texto\", \"type\": \"nominal\"}, \"x\": {\"axis\": null, \"field\": \"x\", \"type\": \"ordinal\"}, \"y\": {\"axis\": null, \"field\": \"y\", \"type\": \"ordinal\"}}, \"height\": 300, \"width\": 400}], \"$schema\": \"https://vega.github.io/schema/vega-lite/v4.17.0.json\", \"datasets\": {\"data-2049b66ae64fcf9cf82023fc850a3722\": [{\"Medication\": \"Lipitor\", \"Count\": 913}, {\"Medication\": \"Paracetamol\", \"Count\": 849}, {\"Medication\": \"Aspirin\", \"Count\": 682}], \"data-3a3b817b17438c037700216f500f6e8c\": [{\"x\": 0, \"y\": 0, \"texto\": \"Patients with \\\"Asthma\\\": 3588\"}]}}, {\"mode\": \"vega-lite\"});\n",
              "</script>"
            ],
            "text/plain": [
              "alt.LayerChart(...)"
            ]
          },
          "metadata": {},
          "execution_count": 132
        }
      ]
    },
    {
      "cell_type": "code",
      "source": [
        "#Calcular el gasto promedio por estacia hospitalaria\n",
        "\n",
        "total_billing_amount = int(df_asthma['Billing Amount'].sum())\n",
        "\n",
        "# Calculamos el promedio de los valores en la columna \"Billing Insurance\" para los registros con \"Asthma\"\n",
        "average_billing_amount = int(df_asthma['Billing Amount'].mean())\n",
        "\n",
        "#Calculamos el tiempo de estancia promedio de un paciente con Asma\n",
        "\n",
        "df_1['Date of Admission'] = pd.to_datetime(df_1['Date of Admission'])\n",
        "\n",
        "df_1['Discharge Date'] = pd.to_datetime(df_1['Discharge Date'])\n",
        "\n",
        "df_1['Hospitalization Days'] = (df_1['Discharge Date'] - df_1['Date of Admission']).dt.days\n",
        "\n",
        "asthma_df = df_1[df_1['Medical Condition'] == 'Asthma']\n",
        "\n",
        "average_hospitalization_days = asthma_df['Hospitalization Days'].mean()\n",
        "\n",
        "# Crea la gráfica lineal con Altair\n",
        "\n",
        "# Agrupa por número de días de hospitalización y calcula el costo promedio\n",
        "average_cost_by_days = asthma_df.groupby('Hospitalization Days')['Billing Amount'].mean().reset_index()\n",
        "\n",
        "# Definir el valor mínimo de costo para mostrar en la gráfica, por ejemplo, $500\n",
        "min_cost = 23500\n",
        "\n",
        "# Filtrar los datos para asegurarse de incluir solo los valores a partir de la cifra deseada\n",
        "filtered_data = average_cost_by_days[average_cost_by_days['Billing Amount'] >= min_cost]\n",
        "\n",
        "# Crear la gráfica lineal con Altair con un eje Y que comienza desde el costo mínimo especificado\n",
        "chart = alt.Chart(filtered_data).mark_line(point=True).encode(\n",
        "    x=alt.X('Hospitalization Days', title='Hospitalization Days'),\n",
        "    y=alt.Y('Billing Amount', title='Avergae cost of hospitalization', scale=alt.Scale(domain=(min_cost, filtered_data['Billing Amount'].max()))),\n",
        "    tooltip=['Hospitalization Days', 'Billing Amount']\n",
        ").properties(\n",
        "    title=f'Average cost of hospitalization for Asthma',\n",
        "    width=600,\n",
        "    height=400\n",
        ")\n",
        "\n",
        "chart\n"
      ],
      "metadata": {
        "colab": {
          "base_uri": "https://localhost:8080/",
          "height": 485
        },
        "id": "vgk8xqawNj8N",
        "outputId": "5b58b7dc-8166-448e-ad05-b66182245b47"
      },
      "execution_count": 164,
      "outputs": [
        {
          "output_type": "execute_result",
          "data": {
            "text/html": [
              "\n",
              "<div id=\"altair-viz-a27aec17f0b84ef383196cf0d8310bc9\"></div>\n",
              "<script type=\"text/javascript\">\n",
              "  var VEGA_DEBUG = (typeof VEGA_DEBUG == \"undefined\") ? {} : VEGA_DEBUG;\n",
              "  (function(spec, embedOpt){\n",
              "    let outputDiv = document.currentScript.previousElementSibling;\n",
              "    if (outputDiv.id !== \"altair-viz-a27aec17f0b84ef383196cf0d8310bc9\") {\n",
              "      outputDiv = document.getElementById(\"altair-viz-a27aec17f0b84ef383196cf0d8310bc9\");\n",
              "    }\n",
              "    const paths = {\n",
              "      \"vega\": \"https://cdn.jsdelivr.net/npm//vega@5?noext\",\n",
              "      \"vega-lib\": \"https://cdn.jsdelivr.net/npm//vega-lib?noext\",\n",
              "      \"vega-lite\": \"https://cdn.jsdelivr.net/npm//vega-lite@4.17.0?noext\",\n",
              "      \"vega-embed\": \"https://cdn.jsdelivr.net/npm//vega-embed@6?noext\",\n",
              "    };\n",
              "\n",
              "    function maybeLoadScript(lib, version) {\n",
              "      var key = `${lib.replace(\"-\", \"\")}_version`;\n",
              "      return (VEGA_DEBUG[key] == version) ?\n",
              "        Promise.resolve(paths[lib]) :\n",
              "        new Promise(function(resolve, reject) {\n",
              "          var s = document.createElement('script');\n",
              "          document.getElementsByTagName(\"head\")[0].appendChild(s);\n",
              "          s.async = true;\n",
              "          s.onload = () => {\n",
              "            VEGA_DEBUG[key] = version;\n",
              "            return resolve(paths[lib]);\n",
              "          };\n",
              "          s.onerror = () => reject(`Error loading script: ${paths[lib]}`);\n",
              "          s.src = paths[lib];\n",
              "        });\n",
              "    }\n",
              "\n",
              "    function showError(err) {\n",
              "      outputDiv.innerHTML = `<div class=\"error\" style=\"color:red;\">${err}</div>`;\n",
              "      throw err;\n",
              "    }\n",
              "\n",
              "    function displayChart(vegaEmbed) {\n",
              "      vegaEmbed(outputDiv, spec, embedOpt)\n",
              "        .catch(err => showError(`Javascript Error: ${err.message}<br>This usually means there's a typo in your chart specification. See the javascript console for the full traceback.`));\n",
              "    }\n",
              "\n",
              "    if(typeof define === \"function\" && define.amd) {\n",
              "      requirejs.config({paths});\n",
              "      require([\"vega-embed\"], displayChart, err => showError(`Error loading script: ${err.message}`));\n",
              "    } else {\n",
              "      maybeLoadScript(\"vega\", \"5\")\n",
              "        .then(() => maybeLoadScript(\"vega-lite\", \"4.17.0\"))\n",
              "        .then(() => maybeLoadScript(\"vega-embed\", \"6\"))\n",
              "        .catch(showError)\n",
              "        .then(() => displayChart(vegaEmbed));\n",
              "    }\n",
              "  })({\"config\": {\"view\": {\"continuousWidth\": 400, \"continuousHeight\": 300}}, \"data\": {\"name\": \"data-2a38b23411c94be634251bada9d5e38c\"}, \"mark\": {\"type\": \"line\", \"point\": true}, \"encoding\": {\"tooltip\": [{\"field\": \"Hospitalization Days\", \"type\": \"quantitative\"}, {\"field\": \"Billing Amount\", \"type\": \"quantitative\"}], \"x\": {\"field\": \"Hospitalization Days\", \"title\": \"Hospitalization Days\", \"type\": \"quantitative\"}, \"y\": {\"field\": \"Billing Amount\", \"scale\": {\"domain\": [23500, 28624.22597579229]}, \"title\": \"Avergae cost of hospitalization\", \"type\": \"quantitative\"}}, \"height\": 400, \"title\": \"Average cost of hospitalization for Asthma\", \"width\": 600, \"$schema\": \"https://vega.github.io/schema/vega-lite/v4.17.0.json\", \"datasets\": {\"data-2a38b23411c94be634251bada9d5e38c\": [{\"Hospitalization Days\": 1, \"Billing Amount\": 25090.987179366275}, {\"Hospitalization Days\": 2, \"Billing Amount\": 26626.00707689515}, {\"Hospitalization Days\": 3, \"Billing Amount\": 26817.30498351772}, {\"Hospitalization Days\": 4, \"Billing Amount\": 24937.60765665683}, {\"Hospitalization Days\": 5, \"Billing Amount\": 24302.406628484743}, {\"Hospitalization Days\": 6, \"Billing Amount\": 25005.923522540987}, {\"Hospitalization Days\": 7, \"Billing Amount\": 24489.626265560466}, {\"Hospitalization Days\": 8, \"Billing Amount\": 28624.22597579229}, {\"Hospitalization Days\": 9, \"Billing Amount\": 26664.899684038253}, {\"Hospitalization Days\": 10, \"Billing Amount\": 24909.907278564144}, {\"Hospitalization Days\": 11, \"Billing Amount\": 26264.356978803182}, {\"Hospitalization Days\": 12, \"Billing Amount\": 25290.509720566184}, {\"Hospitalization Days\": 13, \"Billing Amount\": 24597.815079056647}, {\"Hospitalization Days\": 14, \"Billing Amount\": 24903.203269288082}, {\"Hospitalization Days\": 15, \"Billing Amount\": 26125.845317815027}, {\"Hospitalization Days\": 16, \"Billing Amount\": 24193.86154006052}, {\"Hospitalization Days\": 17, \"Billing Amount\": 26058.223471283334}, {\"Hospitalization Days\": 18, \"Billing Amount\": 24303.82843020746}, {\"Hospitalization Days\": 19, \"Billing Amount\": 25186.141304511188}, {\"Hospitalization Days\": 20, \"Billing Amount\": 24590.489854951997}, {\"Hospitalization Days\": 21, \"Billing Amount\": 24068.717867472395}, {\"Hospitalization Days\": 22, \"Billing Amount\": 24180.51553129113}, {\"Hospitalization Days\": 23, \"Billing Amount\": 26714.91576390635}, {\"Hospitalization Days\": 24, \"Billing Amount\": 27383.41510627255}, {\"Hospitalization Days\": 25, \"Billing Amount\": 25302.72222783001}, {\"Hospitalization Days\": 26, \"Billing Amount\": 26736.093210125746}, {\"Hospitalization Days\": 27, \"Billing Amount\": 27959.569023346136}, {\"Hospitalization Days\": 28, \"Billing Amount\": 28209.04408983685}, {\"Hospitalization Days\": 30, \"Billing Amount\": 24568.870168004913}]}}, {\"mode\": \"vega-lite\"});\n",
              "</script>"
            ],
            "text/plain": [
              "alt.Chart(...)"
            ]
          },
          "metadata": {},
          "execution_count": 164
        }
      ]
    },
    {
      "cell_type": "code",
      "source": [
        "print(f'Average days of hospitalization for patients with Asthma: {average_hospitalization_days:.2f} days')\n",
        "print(f'Average cost of hospitalization for asthma: {average_billing_amount}')"
      ],
      "metadata": {
        "colab": {
          "base_uri": "https://localhost:8080/"
        },
        "id": "JdelXA4aVdNA",
        "outputId": "718032e0-ba75-46a2-f289-adb82840b89b"
      },
      "execution_count": 161,
      "outputs": [
        {
          "output_type": "stream",
          "name": "stdout",
          "text": [
            "Average days of hospitalization for patients with Asthma: 15.65 days\n",
            "Average cost of hospitalization for asthma: 25581\n"
          ]
        }
      ]
    }
  ]
}