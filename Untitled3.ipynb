{
  "nbformat": 4,
  "nbformat_minor": 0,
  "metadata": {
    "colab": {
      "provenance": [],
      "authorship_tag": "ABX9TyN38Yp+YvebP8ix5o+1yWDX",
      "include_colab_link": true
    },
    "kernelspec": {
      "name": "python3",
      "display_name": "Python 3"
    },
    "language_info": {
      "name": "python"
    }
  },
  "cells": [
    {
      "cell_type": "markdown",
      "metadata": {
        "id": "view-in-github",
        "colab_type": "text"
      },
      "source": [
        "<a href=\"https://colab.research.google.com/github/Maynex69/Gestion-de-ingresos-hospitalarios/blob/main/Untitled3.ipynb\" target=\"_parent\"><img src=\"https://colab.research.google.com/assets/colab-badge.svg\" alt=\"Open In Colab\"/></a>"
      ]
    },
    {
      "cell_type": "code",
      "execution_count": 9,
      "metadata": {
        "id": "S3MIvJa38KPh"
      },
      "outputs": [],
      "source": [
        "import pandas as pd\n",
        "\n",
        "# Carga el archivo CSV usando Polars\n",
        "df = pd.read_csv('/content/dataset.csv')\n",
        "\n",
        "#Transformación de datos\n",
        "df['Date of Admission'] = pd.to_datetime(df['Date of Admission'])\n",
        "df['Discharge Date'] = pd.to_datetime(df['Discharge Date'])\n",
        "\n",
        "# Elimina las columnas no necesarias\n",
        "df_dropped = df.drop(columns=['Doctor', 'Hospital', 'Room Number', 'Name', 'Test Results' ])\n",
        "\n",
        "#En este punto me di cuenta de que el Dataset tenía prácticamente la misma\n",
        "#cantidad de pacientes por cada enfermedad, así que decidí borrar una cantidad\n",
        "#al azar para que fuera un escenario más diverso.\n",
        "\n",
        "porcentajes = {\n",
        "    'Female': 0.12,\n",
        "    'Male': 0.36\n",
        "}\n",
        "\n",
        "indices_a_eliminar = []\n",
        "\n",
        "for valor, porcentaje in porcentajes.items():\n",
        "  filas_objeto = df_dropped[df_dropped['Gender'] == valor]\n",
        "  num_filas_a_eliminar = int(len(filas_objeto) * porcentaje)\n",
        "  filas_a_eliminar_aleatorias = filas_objeto.sample(n=num_filas_a_eliminar, random_state=1)\n",
        "  indices_a_eliminar.extend(filas_a_eliminar_aleatorias.index)\n",
        "\n",
        "df_modificado = df_dropped.drop(index=indices_a_eliminar)\n",
        "\n",
        "#Ahora tenemos un nuevo dataframe con datos más aleatorizados para el desarrollo del modelo\n",
        "#Lamentablemente el resto de las columnas sigue teniendo valores muy similares\n",
        "\n"
      ]
    },
    {
      "cell_type": "code",
      "source": [
        "#Reducción del número de aseguradoras\n",
        "\n",
        "porcentajes_insurance = {\n",
        "    'Cigna': 0.42,\n",
        "    'Medicare': 0.26,\n",
        "    'Aetna' : 0.18,\n",
        "    'UnitedHealthcare': 0.12,\n",
        "    'Blue Cross': 0.44\n",
        "}\n",
        "\n",
        "indices_a_eliminar = []\n",
        "\n",
        "for valor, porcentaje in porcentajes_insurance.items():\n",
        "  filas_objeto1 = df_modificado[df_modificado['Insurance Provider'] == valor]\n",
        "  num_filas_a_eliminar1 = int(len(filas_objeto1) * porcentaje)\n",
        "  filas_a_eliminar_aleatorias1 = filas_objeto1.sample(n=num_filas_a_eliminar1, random_state=1)\n",
        "  indices_a_eliminar.extend(filas_a_eliminar_aleatorias1.index)\n",
        "\n",
        "  df_modificado1 = df_modificado.drop(index=indices_a_eliminar)\n"
      ],
      "metadata": {
        "id": "SBoguM0CZZ_C"
      },
      "execution_count": 24,
      "outputs": []
    },
    {
      "cell_type": "code",
      "source": [
        "#Reducción del porcentaje de condiciones médicas\n",
        "\n",
        "porcentajes_p = {\n",
        "    'Diabetes':0.16,\n",
        "    'Obesity':0.22,\n",
        "    'Cancer':0.7,\n",
        "    'Hypertension':0.3\n",
        "}\n",
        "\n",
        "indices_a_eliminar = []\n",
        "\n",
        "for valor, porcentaje in porcentajes_p.items():\n",
        "  filas_objeto2 = df_modificado1[df_modificado1['Medical Condition'] == valor]\n",
        "  num_filas_a_eliminar2 = int(len(filas_objeto2) * porcentaje)\n",
        "  filas_a_eliminar_aleatorias2 = filas_objeto2.sample(n=num_filas_a_eliminar2, random_state=1)\n",
        "  indices_a_eliminar.extend(filas_a_eliminar_aleatorias2.index)\n",
        "\n",
        "  df_modificado2 = df_modificado1.drop(index=indices_a_eliminar)\n",
        "\n"
      ],
      "metadata": {
        "id": "CNFQaBznf_hy",
        "colab": {
          "base_uri": "https://localhost:8080/"
        },
        "outputId": "350e22a6-0c19-43e7-bfbc-a9989317d8be"
      },
      "execution_count": 38,
      "outputs": [
        {
          "output_type": "stream",
          "name": "stdout",
          "text": [
            "Medication\n",
            "Penicillin     4412\n",
            "Ibuprofen      4365\n",
            "Aspirin        4324\n",
            "Paracetamol    4310\n",
            "Lipitor        4278\n",
            "Name: count, dtype: int64\n"
          ]
        }
      ]
    },
    {
      "cell_type": "code",
      "source": [
        "#Reducción del número de medicamentos\n",
        "\n",
        "porcentajes_m = {\n",
        "    'Penicillin':0.36,\n",
        "    'Ibuprofen':0.42,\n",
        "    'Aspirin':0.27,\n",
        "    'Paracetamol':0.08\n",
        "}\n",
        "\n",
        "indices_a_eliminar = []\n",
        "\n",
        "for valor, porcentaje in porcentajes_m.items():\n",
        "  filas_objeto3 = df_modificado2[df_modificado2['Medication'] == valor]\n",
        "  num_filas_a_eliminar3 = int(len(filas_objeto3) * porcentaje)\n",
        "  filas_a_eliminar_aleatorias3 = filas_objeto3.sample(n=num_filas_a_eliminar3, random_state=1)\n",
        "  indices_a_eliminar.extend(filas_a_eliminar_aleatorias3.index)\n",
        "\n",
        "  df_1 = df_modificado2.drop(index=indices_a_eliminar)\n",
        "\n",
        "  conteos = df_1['Medical Condition'].value_counts()\n",
        "\n",
        "#Así ya tenemos preparado nuestro Dataframe\n",
        "\n"
      ],
      "metadata": {
        "colab": {
          "base_uri": "https://localhost:8080/"
        },
        "id": "CwXJJEBjeOb_",
        "outputId": "f38a3ce2-0384-4bb9-a57b-0ba5009c0be5"
      },
      "execution_count": 52,
      "outputs": [
        {
          "output_type": "stream",
          "name": "stdout",
          "text": [
            "       Age  Gender Blood Type Medical Condition Date of Admission  \\\n",
            "1       62    Male         A+           Obesity        2019-08-20   \n",
            "6       21  Female        AB-          Diabetes        2020-11-03   \n",
            "8       82    Male        AB+            Asthma        2020-07-01   \n",
            "11      38  Female         A-      Hypertension        2023-08-13   \n",
            "12      75  Female         A+          Diabetes        2019-12-12   \n",
            "...    ...     ...        ...               ...               ...   \n",
            "55488   43  Female         B-           Obesity        2024-02-02   \n",
            "55491   47  Female         O+           Obesity        2020-06-21   \n",
            "55492   51    Male         O+         Arthritis        2020-12-06   \n",
            "55493   57  Female         B-         Arthritis        2022-07-23   \n",
            "55494   67    Male         O+         Arthritis        2023-12-11   \n",
            "\n",
            "      Insurance Provider  Billing Amount Admission Type Discharge Date  \\\n",
            "1               Medicare    33643.327287      Emergency     2019-08-26   \n",
            "6               Medicare    19580.872345      Emergency     2020-11-15   \n",
            "8                  Cigna    50119.222792       Elective     2020-07-14   \n",
            "11              Medicare     7999.586880         Urgent     2023-09-05   \n",
            "12                 Cigna    43282.283358      Emergency     2019-12-28   \n",
            "...                  ...             ...            ...            ...   \n",
            "55488         Blue Cross     8128.932064      Emergency     2024-02-04   \n",
            "55491              Aetna    15715.551079      Emergency     2020-06-25   \n",
            "55492              Cigna     2588.150832      Emergency     2020-12-12   \n",
            "55493           Medicare     3954.853764      Emergency     2022-08-18   \n",
            "55494           Medicare    42535.301234      Emergency     2024-01-04   \n",
            "\n",
            "        Medication  \n",
            "1        Ibuprofen  \n",
            "6      Paracetamol  \n",
            "8          Aspirin  \n",
            "11         Lipitor  \n",
            "12      Penicillin  \n",
            "...            ...  \n",
            "55488      Aspirin  \n",
            "55491      Lipitor  \n",
            "55492  Paracetamol  \n",
            "55493      Aspirin  \n",
            "55494    Ibuprofen  \n",
            "\n",
            "[16757 rows x 10 columns]\n"
          ]
        }
      ]
    }
  ]
}