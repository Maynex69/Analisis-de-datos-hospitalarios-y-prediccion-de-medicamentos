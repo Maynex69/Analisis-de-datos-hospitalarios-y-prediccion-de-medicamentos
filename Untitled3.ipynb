{
  "nbformat": 4,
  "nbformat_minor": 0,
  "metadata": {
    "colab": {
      "provenance": [],
      "authorship_tag": "ABX9TyOEu9ANnPVrhtKNfto862b4",
      "include_colab_link": true
    },
    "kernelspec": {
      "name": "python3",
      "display_name": "Python 3"
    },
    "language_info": {
      "name": "python"
    }
  },
  "cells": [
    {
      "cell_type": "markdown",
      "metadata": {
        "id": "view-in-github",
        "colab_type": "text"
      },
      "source": [
        "<a href=\"https://colab.research.google.com/github/Maynex69/Gestion-de-ingresos-hospitalarios/blob/main/Untitled3.ipynb\" target=\"_parent\"><img src=\"https://colab.research.google.com/assets/colab-badge.svg\" alt=\"Open In Colab\"/></a>"
      ]
    },
    {
      "cell_type": "code",
      "execution_count": 2,
      "metadata": {
        "colab": {
          "base_uri": "https://localhost:8080/"
        },
        "id": "S3MIvJa38KPh",
        "outputId": "a0a43ea6-265e-49bf-ec0d-f4a093201264"
      },
      "outputs": [
        {
          "output_type": "stream",
          "name": "stdout",
          "text": [
            "Gender\n",
            "Female    24399\n",
            "Male      14998\n",
            "Name: count, dtype: int64\n"
          ]
        }
      ],
      "source": [
        "import pandas as pd\n",
        "\n",
        "# Carga el archivo CSV usando Polars\n",
        "df = pd.read_csv('/content/dataset.csv')\n",
        "\n",
        "#Transformación de datos\n",
        "df['Date of Admission'] = pd.to_datetime(df['Date of Admission'])\n",
        "df['Discharge Date'] = pd.to_datetime(df['Discharge Date'])\n",
        "\n",
        "# Elimina las columnas no necesarias\n",
        "df_dropped = df.drop(columns=['Doctor', 'Hospital', 'Room Number', 'Name', 'Test Results' ])\n",
        "\n",
        "#En este punto me di cuenta de que el Dataset tenía prácticamente la misma\n",
        "#cantidad de pacientes por cada enfermedad, así que decidí borrar una cantidad\n",
        "#al azar para que fuera un escenario más diverso.\n",
        "\n",
        "porcentajes = {\n",
        "    'Female': 0.12,\n",
        "    'Male': 0.46\n",
        "}\n",
        "\n",
        "indices_a_eliminar = []\n",
        "\n",
        "for valor, porcentaje in porcentajes.items():\n",
        "  filas_objeto = df_dropped[df_dropped['Gender'] == valor]\n",
        "  num_filas_a_eliminar = int(len(filas_objeto) * porcentaje)\n",
        "  filas_a_eliminar_aleatorias = filas_objeto.sample(n=num_filas_a_eliminar, random_state=1)\n",
        "  indices_a_eliminar.extend(filas_a_eliminar_aleatorias.index)\n",
        "\n",
        "df_modificado = df_dropped.drop(index=indices_a_eliminar)\n",
        "\n",
        "#Ahora tenemos un nuevo dataframe con datos más aleatorizados para el desarrollo del modelo\n",
        "#Lamentablemente el resto de las columnas sigue teniendo valores muy similares\n",
        "\n",
        "conteo = df_modificado['Gender'].value_counts()\n",
        "print(conteo)\n"
      ]
    },
    {
      "cell_type": "code",
      "source": [],
      "metadata": {
        "id": "CNFQaBznf_hy"
      },
      "execution_count": null,
      "outputs": []
    }
  ]
}