{
  "nbformat": 4,
  "nbformat_minor": 0,
  "metadata": {
    "colab": {
      "provenance": [],
      "authorship_tag": "ABX9TyOsRE9W2C0nTlqvK5Hh+3lB",
      "include_colab_link": true
    },
    "kernelspec": {
      "name": "python3",
      "display_name": "Python 3"
    },
    "language_info": {
      "name": "python"
    }
  },
  "cells": [
    {
      "cell_type": "markdown",
      "metadata": {
        "id": "view-in-github",
        "colab_type": "text"
      },
      "source": [
        "<a href=\"https://colab.research.google.com/github/Maynex69/Gestion-de-ingresos-hospitalarios/blob/main/Untitled3.ipynb\" target=\"_parent\"><img src=\"https://colab.research.google.com/assets/colab-badge.svg\" alt=\"Open In Colab\"/></a>"
      ]
    },
    {
      "cell_type": "code",
      "execution_count": 32,
      "metadata": {
        "colab": {
          "base_uri": "https://localhost:8080/"
        },
        "id": "S3MIvJa38KPh",
        "outputId": "c4f5e3a9-501d-4b7a-c84b-75b8c4f08801"
      },
      "outputs": [
        {
          "output_type": "stream",
          "name": "stdout",
          "text": [
            "Age\n",
            "Gender\n",
            "Blood Type\n",
            "Medical Condition\n",
            "Date of Admission\n",
            "Insurance Provider\n",
            "Billing Amount\n",
            "Admission Type\n",
            "Discharge Date\n",
            "Medication\n"
          ]
        }
      ],
      "source": [
        "import polars as pl\n",
        "import pandas as pd\n",
        "\n",
        "# Carga el archivo CSV usando Polars\n",
        "df = pl.read_csv('/content/dataset.csv')\n",
        "\n",
        "df_pandas = df.to_pandas()\n",
        "\n",
        "# Elimina las columnas no necesarias\n",
        "df_pandas_dropped = df_pandas.drop(columns=['Doctor', 'Hospital', 'Room Number', 'Name', 'Test Results' ])\n",
        "\n",
        "for column in df_pandas_dropped.columns:\n",
        "    print(column)\n",
        "\n",
        "\n",
        "\n",
        "\n",
        "\n",
        "\n"
      ]
    }
  ]
}