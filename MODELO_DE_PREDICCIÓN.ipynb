{
  "nbformat": 4,
  "nbformat_minor": 0,
  "metadata": {
    "colab": {
      "provenance": [],
      "authorship_tag": "ABX9TyPEWfTe2t4FK0o73Pp0x3tr",
      "include_colab_link": true
    },
    "kernelspec": {
      "name": "python3",
      "display_name": "Python 3"
    },
    "language_info": {
      "name": "python"
    }
  },
  "cells": [
    {
      "cell_type": "markdown",
      "metadata": {
        "id": "view-in-github",
        "colab_type": "text"
      },
      "source": [
        "<a href=\"https://colab.research.google.com/github/Maynex69/Gestion-de-ingresos-hospitalarios/blob/main/MODELO_DE_PREDICCI%C3%93N.ipynb\" target=\"_parent\"><img src=\"https://colab.research.google.com/assets/colab-badge.svg\" alt=\"Open In Colab\"/></a>"
      ]
    },
    {
      "cell_type": "code",
      "execution_count": 11,
      "metadata": {
        "collapsed": true,
        "id": "ekFtXXOuiRhb"
      },
      "outputs": [],
      "source": [
        "import pandas as pd\n",
        "df = pd.read_csv('/content/df.csv')\n"
      ]
    },
    {
      "cell_type": "code",
      "source": [
        "# Selecciona solo las columnas que deseas conservar\n",
        "df = df[['Age', 'Medication', 'Medical Condition']]\n",
        "\n",
        "# Eliminar columnas no deseadas\n",
        "df = df.drop(columns=[col for col in df.columns if col not in ['Age', 'Medication', 'Medical Condition']])\n"
      ],
      "metadata": {
        "collapsed": true,
        "id": "0EROzyG-iwvg"
      },
      "execution_count": 12,
      "outputs": []
    },
    {
      "cell_type": "markdown",
      "source": [
        "# Desarrollo del modelo de ML\n",
        "\n",
        "```\n",
        "# Esto tiene formato de código\n",
        "```\n",
        "\n"
      ],
      "metadata": {
        "id": "keMnmgxlj5Ik"
      }
    },
    {
      "cell_type": "code",
      "source": [
        "import numpy as np\n",
        "from sklearn.model_selection import train_test_split\n",
        "from tensorflow.keras.utils import to_categorical\n",
        "\n",
        "# Aplicar One-Hot Encoding a la columna 'Medical Condition'\n",
        "df_encoded = pd.get_dummies(df, columns=['Medical Condition'])\n",
        "\n",
        "# Convertir 'Medication' a códigos numéricos si no es una columna de etiquetas codificadas\n",
        "df_encoded['Medication'] = df_encoded['Medication'].astype('category').cat.codes\n",
        "\n",
        "# Separar variables independientes (X) y dependientes (y)\n",
        "X = df_encoded[['Age'] + [col for col in df_encoded.columns if 'Medical Condition' in col]]\n",
        "y = df_encoded['Medication']\n",
        "\n",
        "# Convertir a arrays NumPy\n",
        "X = np.array(X).astype('float32')\n",
        "y = np.array(y).astype('int32')  # Convertir y a enteros si es necesario\n",
        "\n",
        "# Dividir en conjunto de entrenamiento y prueba\n",
        "X_train, X_test, y_train, y_test = train_test_split(X, y, test_size=0.2, random_state=42)\n",
        "\n",
        "# Convertir las etiquetas a One-Hot Encoding\n",
        "y_train = to_categorical(y_train)\n",
        "y_test = to_categorical(y_test)\n",
        "\n",
        "# Definir y entrenar el modelo\n",
        "from tensorflow.keras.models import Sequential\n",
        "from tensorflow.keras.layers import Dense, Dropout\n",
        "\n",
        "model = Sequential()\n",
        "model.add(Dense(128, input_dim=X_train.shape[1], activation='relu'))\n",
        "model.add(Dropout(0.2))\n",
        "model.add(Dense(64, activation='relu'))\n",
        "model.add(Dense(len(np.unique(y)), activation='softmax'))  # Cambiar según el número de clases en y\n",
        "\n",
        "model.compile(loss='categorical_crossentropy', optimizer='adam', metrics=['accuracy'])\n",
        "\n",
        "model.fit(X_train, y_train, epochs=50, batch_size=32, validation_data=(X_test, y_test))\n",
        "\n"
      ],
      "metadata": {
        "colab": {
          "base_uri": "https://localhost:8080/"
        },
        "id": "_X986u-rmKEm",
        "outputId": "df121ab4-5217-481c-cf91-dff24d314281"
      },
      "execution_count": 13,
      "outputs": [
        {
          "output_type": "stream",
          "name": "stdout",
          "text": [
            "Epoch 1/50\n"
          ]
        },
        {
          "output_type": "stream",
          "name": "stderr",
          "text": [
            "/usr/local/lib/python3.10/dist-packages/keras/src/layers/core/dense.py:87: UserWarning: Do not pass an `input_shape`/`input_dim` argument to a layer. When using Sequential models, prefer using an `Input(shape)` object as the first layer in the model instead.\n",
            "  super().__init__(activity_regularizer=activity_regularizer, **kwargs)\n"
          ]
        },
        {
          "output_type": "stream",
          "name": "stdout",
          "text": [
            "\u001b[1m1169/1169\u001b[0m \u001b[32m━━━━━━━━━━━━━━━━━━━━\u001b[0m\u001b[37m\u001b[0m \u001b[1m15s\u001b[0m 10ms/step - accuracy: 0.1827 - loss: 3.0379 - val_accuracy: 0.4207 - val_loss: 1.6053\n",
            "Epoch 2/50\n",
            "\u001b[1m1169/1169\u001b[0m \u001b[32m━━━━━━━━━━━━━━━━━━━━\u001b[0m\u001b[37m\u001b[0m \u001b[1m13s\u001b[0m 4ms/step - accuracy: 0.4168 - loss: 1.6007 - val_accuracy: 0.4209 - val_loss: 1.5678\n",
            "Epoch 3/50\n",
            "\u001b[1m1169/1169\u001b[0m \u001b[32m━━━━━━━━━━━━━━━━━━━━\u001b[0m\u001b[37m\u001b[0m \u001b[1m4s\u001b[0m 3ms/step - accuracy: 0.4179 - loss: 1.5687 - val_accuracy: 0.4159 - val_loss: 1.5594\n",
            "Epoch 4/50\n",
            "\u001b[1m1169/1169\u001b[0m \u001b[32m━━━━━━━━━━━━━━━━━━━━\u001b[0m\u001b[37m\u001b[0m \u001b[1m6s\u001b[0m 3ms/step - accuracy: 0.4186 - loss: 1.5566 - val_accuracy: 0.4243 - val_loss: 1.5527\n",
            "Epoch 5/50\n",
            "\u001b[1m1169/1169\u001b[0m \u001b[32m━━━━━━━━━━━━━━━━━━━━\u001b[0m\u001b[37m\u001b[0m \u001b[1m4s\u001b[0m 4ms/step - accuracy: 0.4166 - loss: 1.5462 - val_accuracy: 0.4186 - val_loss: 1.5521\n",
            "Epoch 6/50\n",
            "\u001b[1m1169/1169\u001b[0m \u001b[32m━━━━━━━━━━━━━━━━━━━━\u001b[0m\u001b[37m\u001b[0m \u001b[1m3s\u001b[0m 3ms/step - accuracy: 0.4236 - loss: 1.5531 - val_accuracy: 0.4236 - val_loss: 1.5539\n",
            "Epoch 7/50\n",
            "\u001b[1m1169/1169\u001b[0m \u001b[32m━━━━━━━━━━━━━━━━━━━━\u001b[0m\u001b[37m\u001b[0m \u001b[1m5s\u001b[0m 3ms/step - accuracy: 0.4233 - loss: 1.5401 - val_accuracy: 0.4181 - val_loss: 1.5508\n",
            "Epoch 8/50\n",
            "\u001b[1m1169/1169\u001b[0m \u001b[32m━━━━━━━━━━━━━━━━━━━━\u001b[0m\u001b[37m\u001b[0m \u001b[1m5s\u001b[0m 3ms/step - accuracy: 0.4224 - loss: 1.5366 - val_accuracy: 0.4154 - val_loss: 1.5600\n",
            "Epoch 9/50\n",
            "\u001b[1m1169/1169\u001b[0m \u001b[32m━━━━━━━━━━━━━━━━━━━━\u001b[0m\u001b[37m\u001b[0m \u001b[1m3s\u001b[0m 3ms/step - accuracy: 0.4165 - loss: 1.5528 - val_accuracy: 0.4181 - val_loss: 1.5499\n",
            "Epoch 10/50\n",
            "\u001b[1m1169/1169\u001b[0m \u001b[32m━━━━━━━━━━━━━━━━━━━━\u001b[0m\u001b[37m\u001b[0m \u001b[1m3s\u001b[0m 3ms/step - accuracy: 0.4207 - loss: 1.5438 - val_accuracy: 0.4215 - val_loss: 1.5595\n",
            "Epoch 11/50\n",
            "\u001b[1m1169/1169\u001b[0m \u001b[32m━━━━━━━━━━━━━━━━━━━━\u001b[0m\u001b[37m\u001b[0m \u001b[1m5s\u001b[0m 4ms/step - accuracy: 0.4181 - loss: 1.5394 - val_accuracy: 0.4220 - val_loss: 1.5529\n",
            "Epoch 12/50\n",
            "\u001b[1m1169/1169\u001b[0m \u001b[32m━━━━━━━━━━━━━━━━━━━━\u001b[0m\u001b[37m\u001b[0m \u001b[1m4s\u001b[0m 3ms/step - accuracy: 0.4201 - loss: 1.5473 - val_accuracy: 0.4156 - val_loss: 1.5530\n",
            "Epoch 13/50\n",
            "\u001b[1m1169/1169\u001b[0m \u001b[32m━━━━━━━━━━━━━━━━━━━━\u001b[0m\u001b[37m\u001b[0m \u001b[1m3s\u001b[0m 3ms/step - accuracy: 0.4157 - loss: 1.5504 - val_accuracy: 0.4247 - val_loss: 1.5593\n",
            "Epoch 14/50\n",
            "\u001b[1m1169/1169\u001b[0m \u001b[32m━━━━━━━━━━━━━━━━━━━━\u001b[0m\u001b[37m\u001b[0m \u001b[1m6s\u001b[0m 4ms/step - accuracy: 0.4162 - loss: 1.5443 - val_accuracy: 0.4178 - val_loss: 1.5544\n",
            "Epoch 15/50\n",
            "\u001b[1m1169/1169\u001b[0m \u001b[32m━━━━━━━━━━━━━━━━━━━━\u001b[0m\u001b[37m\u001b[0m \u001b[1m4s\u001b[0m 3ms/step - accuracy: 0.4239 - loss: 1.5392 - val_accuracy: 0.4154 - val_loss: 1.5479\n",
            "Epoch 16/50\n",
            "\u001b[1m1169/1169\u001b[0m \u001b[32m━━━━━━━━━━━━━━━━━━━━\u001b[0m\u001b[37m\u001b[0m \u001b[1m4s\u001b[0m 3ms/step - accuracy: 0.4187 - loss: 1.5356 - val_accuracy: 0.4247 - val_loss: 1.5499\n",
            "Epoch 17/50\n",
            "\u001b[1m1169/1169\u001b[0m \u001b[32m━━━━━━━━━━━━━━━━━━━━\u001b[0m\u001b[37m\u001b[0m \u001b[1m3s\u001b[0m 3ms/step - accuracy: 0.4222 - loss: 1.5356 - val_accuracy: 0.4178 - val_loss: 1.5486\n",
            "Epoch 18/50\n",
            "\u001b[1m1169/1169\u001b[0m \u001b[32m━━━━━━━━━━━━━━━━━━━━\u001b[0m\u001b[37m\u001b[0m \u001b[1m4s\u001b[0m 4ms/step - accuracy: 0.4208 - loss: 1.5361 - val_accuracy: 0.4141 - val_loss: 1.5519\n",
            "Epoch 19/50\n",
            "\u001b[1m1169/1169\u001b[0m \u001b[32m━━━━━━━━━━━━━━━━━━━━\u001b[0m\u001b[37m\u001b[0m \u001b[1m4s\u001b[0m 3ms/step - accuracy: 0.4213 - loss: 1.5372 - val_accuracy: 0.4247 - val_loss: 1.5495\n",
            "Epoch 20/50\n",
            "\u001b[1m1169/1169\u001b[0m \u001b[32m━━━━━━━━━━━━━━━━━━━━\u001b[0m\u001b[37m\u001b[0m \u001b[1m3s\u001b[0m 3ms/step - accuracy: 0.4197 - loss: 1.5441 - val_accuracy: 0.4154 - val_loss: 1.5498\n",
            "Epoch 21/50\n",
            "\u001b[1m1169/1169\u001b[0m \u001b[32m━━━━━━━━━━━━━━━━━━━━\u001b[0m\u001b[37m\u001b[0m \u001b[1m4s\u001b[0m 4ms/step - accuracy: 0.4192 - loss: 1.5432 - val_accuracy: 0.4247 - val_loss: 1.5514\n",
            "Epoch 22/50\n",
            "\u001b[1m1169/1169\u001b[0m \u001b[32m━━━━━━━━━━━━━━━━━━━━\u001b[0m\u001b[37m\u001b[0m \u001b[1m4s\u001b[0m 3ms/step - accuracy: 0.4232 - loss: 1.5337 - val_accuracy: 0.4213 - val_loss: 1.5489\n",
            "Epoch 23/50\n",
            "\u001b[1m1169/1169\u001b[0m \u001b[32m━━━━━━━━━━━━━━━━━━━━\u001b[0m\u001b[37m\u001b[0m \u001b[1m3s\u001b[0m 2ms/step - accuracy: 0.4204 - loss: 1.5400 - val_accuracy: 0.4247 - val_loss: 1.5473\n",
            "Epoch 24/50\n",
            "\u001b[1m1169/1169\u001b[0m \u001b[32m━━━━━━━━━━━━━━━━━━━━\u001b[0m\u001b[37m\u001b[0m \u001b[1m7s\u001b[0m 4ms/step - accuracy: 0.4176 - loss: 1.5389 - val_accuracy: 0.4162 - val_loss: 1.5477\n",
            "Epoch 25/50\n",
            "\u001b[1m1169/1169\u001b[0m \u001b[32m━━━━━━━━━━━━━━━━━━━━\u001b[0m\u001b[37m\u001b[0m \u001b[1m3s\u001b[0m 3ms/step - accuracy: 0.4185 - loss: 1.5411 - val_accuracy: 0.4247 - val_loss: 1.5489\n",
            "Epoch 26/50\n",
            "\u001b[1m1169/1169\u001b[0m \u001b[32m━━━━━━━━━━━━━━━━━━━━\u001b[0m\u001b[37m\u001b[0m \u001b[1m3s\u001b[0m 3ms/step - accuracy: 0.4215 - loss: 1.5401 - val_accuracy: 0.4247 - val_loss: 1.5472\n",
            "Epoch 27/50\n",
            "\u001b[1m1169/1169\u001b[0m \u001b[32m━━━━━━━━━━━━━━━━━━━━\u001b[0m\u001b[37m\u001b[0m \u001b[1m3s\u001b[0m 3ms/step - accuracy: 0.4255 - loss: 1.5273 - val_accuracy: 0.4247 - val_loss: 1.5462\n",
            "Epoch 28/50\n",
            "\u001b[1m1169/1169\u001b[0m \u001b[32m━━━━━━━━━━━━━━━━━━━━\u001b[0m\u001b[37m\u001b[0m \u001b[1m5s\u001b[0m 4ms/step - accuracy: 0.4232 - loss: 1.5321 - val_accuracy: 0.4216 - val_loss: 1.5476\n",
            "Epoch 29/50\n",
            "\u001b[1m1169/1169\u001b[0m \u001b[32m━━━━━━━━━━━━━━━━━━━━\u001b[0m\u001b[37m\u001b[0m \u001b[1m3s\u001b[0m 3ms/step - accuracy: 0.4173 - loss: 1.5368 - val_accuracy: 0.4247 - val_loss: 1.5473\n",
            "Epoch 30/50\n",
            "\u001b[1m1169/1169\u001b[0m \u001b[32m━━━━━━━━━━━━━━━━━━━━\u001b[0m\u001b[37m\u001b[0m \u001b[1m3s\u001b[0m 3ms/step - accuracy: 0.4214 - loss: 1.5346 - val_accuracy: 0.4218 - val_loss: 1.5462\n",
            "Epoch 31/50\n",
            "\u001b[1m1169/1169\u001b[0m \u001b[32m━━━━━━━━━━━━━━━━━━━━\u001b[0m\u001b[37m\u001b[0m \u001b[1m6s\u001b[0m 4ms/step - accuracy: 0.4240 - loss: 1.5347 - val_accuracy: 0.4181 - val_loss: 1.5485\n",
            "Epoch 32/50\n",
            "\u001b[1m1169/1169\u001b[0m \u001b[32m━━━━━━━━━━━━━━━━━━━━\u001b[0m\u001b[37m\u001b[0m \u001b[1m4s\u001b[0m 3ms/step - accuracy: 0.4198 - loss: 1.5296 - val_accuracy: 0.4245 - val_loss: 1.5490\n",
            "Epoch 33/50\n",
            "\u001b[1m1169/1169\u001b[0m \u001b[32m━━━━━━━━━━━━━━━━━━━━\u001b[0m\u001b[37m\u001b[0m \u001b[1m5s\u001b[0m 2ms/step - accuracy: 0.4230 - loss: 1.5330 - val_accuracy: 0.4251 - val_loss: 1.5474\n",
            "Epoch 34/50\n",
            "\u001b[1m1169/1169\u001b[0m \u001b[32m━━━━━━━━━━━━━━━━━━━━\u001b[0m\u001b[37m\u001b[0m \u001b[1m4s\u001b[0m 4ms/step - accuracy: 0.4196 - loss: 1.5389 - val_accuracy: 0.4181 - val_loss: 1.5490\n",
            "Epoch 35/50\n",
            "\u001b[1m1169/1169\u001b[0m \u001b[32m━━━━━━━━━━━━━━━━━━━━\u001b[0m\u001b[37m\u001b[0m \u001b[1m4s\u001b[0m 3ms/step - accuracy: 0.4216 - loss: 1.5290 - val_accuracy: 0.4181 - val_loss: 1.5506\n",
            "Epoch 36/50\n",
            "\u001b[1m1169/1169\u001b[0m \u001b[32m━━━━━━━━━━━━━━━━━━━━\u001b[0m\u001b[37m\u001b[0m \u001b[1m3s\u001b[0m 3ms/step - accuracy: 0.4205 - loss: 1.5522 - val_accuracy: 0.4247 - val_loss: 1.5459\n",
            "Epoch 37/50\n",
            "\u001b[1m1169/1169\u001b[0m \u001b[32m━━━━━━━━━━━━━━━━━━━━\u001b[0m\u001b[37m\u001b[0m \u001b[1m7s\u001b[0m 4ms/step - accuracy: 0.4190 - loss: 1.5315 - val_accuracy: 0.4150 - val_loss: 1.5488\n",
            "Epoch 38/50\n",
            "\u001b[1m1169/1169\u001b[0m \u001b[32m━━━━━━━━━━━━━━━━━━━━\u001b[0m\u001b[37m\u001b[0m \u001b[1m3s\u001b[0m 3ms/step - accuracy: 0.4207 - loss: 1.5411 - val_accuracy: 0.4247 - val_loss: 1.5467\n",
            "Epoch 39/50\n",
            "\u001b[1m1169/1169\u001b[0m \u001b[32m━━━━━━━━━━━━━━━━━━━━\u001b[0m\u001b[37m\u001b[0m \u001b[1m4s\u001b[0m 3ms/step - accuracy: 0.4214 - loss: 1.5369 - val_accuracy: 0.4220 - val_loss: 1.5465\n",
            "Epoch 40/50\n",
            "\u001b[1m1169/1169\u001b[0m \u001b[32m━━━━━━━━━━━━━━━━━━━━\u001b[0m\u001b[37m\u001b[0m \u001b[1m7s\u001b[0m 5ms/step - accuracy: 0.4215 - loss: 1.5310 - val_accuracy: 0.4251 - val_loss: 1.5477\n",
            "Epoch 41/50\n",
            "\u001b[1m1169/1169\u001b[0m \u001b[32m━━━━━━━━━━━━━━━━━━━━\u001b[0m\u001b[37m\u001b[0m \u001b[1m8s\u001b[0m 3ms/step - accuracy: 0.4278 - loss: 1.5254 - val_accuracy: 0.4181 - val_loss: 1.5468\n",
            "Epoch 42/50\n",
            "\u001b[1m1169/1169\u001b[0m \u001b[32m━━━━━━━━━━━━━━━━━━━━\u001b[0m\u001b[37m\u001b[0m \u001b[1m7s\u001b[0m 4ms/step - accuracy: 0.4207 - loss: 1.5364 - val_accuracy: 0.4247 - val_loss: 1.5457\n",
            "Epoch 43/50\n",
            "\u001b[1m1169/1169\u001b[0m \u001b[32m━━━━━━━━━━━━━━━━━━━━\u001b[0m\u001b[37m\u001b[0m \u001b[1m3s\u001b[0m 3ms/step - accuracy: 0.4226 - loss: 1.5342 - val_accuracy: 0.4220 - val_loss: 1.5465\n",
            "Epoch 44/50\n",
            "\u001b[1m1169/1169\u001b[0m \u001b[32m━━━━━━━━━━━━━━━━━━━━\u001b[0m\u001b[37m\u001b[0m \u001b[1m4s\u001b[0m 3ms/step - accuracy: 0.4197 - loss: 1.5384 - val_accuracy: 0.4181 - val_loss: 1.5459\n",
            "Epoch 45/50\n",
            "\u001b[1m1169/1169\u001b[0m \u001b[32m━━━━━━━━━━━━━━━━━━━━\u001b[0m\u001b[37m\u001b[0m \u001b[1m4s\u001b[0m 3ms/step - accuracy: 0.4251 - loss: 1.5301 - val_accuracy: 0.4218 - val_loss: 1.5470\n",
            "Epoch 46/50\n",
            "\u001b[1m1169/1169\u001b[0m \u001b[32m━━━━━━━━━━━━━━━━━━━━\u001b[0m\u001b[37m\u001b[0m \u001b[1m4s\u001b[0m 3ms/step - accuracy: 0.4183 - loss: 1.5393 - val_accuracy: 0.4246 - val_loss: 1.5456\n",
            "Epoch 47/50\n",
            "\u001b[1m1169/1169\u001b[0m \u001b[32m━━━━━━━━━━━━━━━━━━━━\u001b[0m\u001b[37m\u001b[0m \u001b[1m4s\u001b[0m 3ms/step - accuracy: 0.4229 - loss: 1.5288 - val_accuracy: 0.4181 - val_loss: 1.5480\n",
            "Epoch 48/50\n",
            "\u001b[1m1169/1169\u001b[0m \u001b[32m━━━━━━━━━━━━━━━━━━━━\u001b[0m\u001b[37m\u001b[0m \u001b[1m3s\u001b[0m 3ms/step - accuracy: 0.4205 - loss: 1.5357 - val_accuracy: 0.4188 - val_loss: 1.5484\n",
            "Epoch 49/50\n",
            "\u001b[1m1169/1169\u001b[0m \u001b[32m━━━━━━━━━━━━━━━━━━━━\u001b[0m\u001b[37m\u001b[0m \u001b[1m6s\u001b[0m 3ms/step - accuracy: 0.4131 - loss: 1.5378 - val_accuracy: 0.4245 - val_loss: 1.5456\n",
            "Epoch 50/50\n",
            "\u001b[1m1169/1169\u001b[0m \u001b[32m━━━━━━━━━━━━━━━━━━━━\u001b[0m\u001b[37m\u001b[0m \u001b[1m5s\u001b[0m 3ms/step - accuracy: 0.4231 - loss: 1.5322 - val_accuracy: 0.4248 - val_loss: 1.5489\n"
          ]
        },
        {
          "output_type": "execute_result",
          "data": {
            "text/plain": [
              "<keras.src.callbacks.history.History at 0x7ba65590b9d0>"
            ]
          },
          "metadata": {},
          "execution_count": 13
        }
      ]
    }
  ]
}