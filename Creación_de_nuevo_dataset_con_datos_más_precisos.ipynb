{
  "nbformat": 4,
  "nbformat_minor": 0,
  "metadata": {
    "colab": {
      "provenance": [],
      "authorship_tag": "ABX9TyMdIEqjBjrtiybutCs5ZIKV",
      "include_colab_link": true
    },
    "kernelspec": {
      "name": "python3",
      "display_name": "Python 3"
    },
    "language_info": {
      "name": "python"
    }
  },
  "cells": [
    {
      "cell_type": "markdown",
      "metadata": {
        "id": "view-in-github",
        "colab_type": "text"
      },
      "source": [
        "<a href=\"https://colab.research.google.com/github/Maynex69/Gestion-de-ingresos-hospitalarios/blob/main/Creaci%C3%B3n_de_nuevo_dataset_con_datos_m%C3%A1s_precisos.ipynb\" target=\"_parent\"><img src=\"https://colab.research.google.com/assets/colab-badge.svg\" alt=\"Open In Colab\"/></a>"
      ]
    },
    {
      "cell_type": "code",
      "source": [
        "import pandas as pd\n",
        "import numpy as np\n",
        "\n",
        "df = pd.read_csv('/content/dataset.csv', sep=',', header=0, index_col=None)\n",
        "\n",
        "# Contar el número de veces que aparece cada condición médica\n",
        "condition_counts = df['Medical Condition'].value_counts()\n",
        "\n",
        "# Mostrar los resultados\n",
        "print(condition_counts)"
      ],
      "metadata": {
        "colab": {
          "base_uri": "https://localhost:8080/"
        },
        "id": "A5dr7qrNCRmV",
        "outputId": "a864cb2f-36ee-48b0-c867-b962318b95c1"
      },
      "execution_count": 8,
      "outputs": [
        {
          "output_type": "stream",
          "name": "stdout",
          "text": [
            "Medical Condition\n",
            "Arthritis       9308\n",
            "Diabetes        9304\n",
            "Hypertension    9245\n",
            "Obesity         9231\n",
            "Cancer          9227\n",
            "Asthma          9185\n",
            "Name: count, dtype: int64\n"
          ]
        }
      ]
    },
    {
      "cell_type": "markdown",
      "source": [
        "Reemplazando la cantidad de pacientes en nuestro Dataset por datos relativamente más reales, así como edades relativamente más coherentes."
      ],
      "metadata": {
        "id": "GOjzf-3TN1Wb"
      }
    },
    {
      "cell_type": "code",
      "source": [
        "# 1. Definir la distribución deseada para cada condición médica\n",
        "desired_distribution = {\n",
        "    'Diabetes': 0.21,\n",
        "    'Arthritis': 0.16,\n",
        "    'Obesity': 0.2,\n",
        "    'Hypertension': 0.21,\n",
        "    'Cancer': 0.08,\n",
        "    'Asthma': 0.14\n",
        "}\n",
        "\n",
        "# 2. Contar el número total de pacientes\n",
        "total_patients = len(df)\n",
        "\n",
        "# 3. Calcular el número deseado de pacientes por condición\n",
        "desired_counts = {cond: int(total_patients * perc) for cond, perc in desired_distribution.items()}\n",
        "\n",
        "# 4. Crear un nuevo DataFrame con la redistribución deseada\n",
        "new_df = pd.DataFrame()\n",
        "\n",
        "for condition, desired_count in desired_counts.items():\n",
        "    # Filtrar pacientes con la condición actual\n",
        "    condition_df = df[df['Medical Condition'] == condition]\n",
        "\n",
        "    # Si hay suficientes pacientes para la condición, muestrea o selecciona el número deseado\n",
        "    if len(condition_df) > desired_count:\n",
        "        condition_df = condition_df.sample(desired_count, random_state=42)  # Muestreo aleatorio\n",
        "    else:\n",
        "        # Si no hay suficientes pacientes, usa todos los disponibles\n",
        "        condition_df = condition_df\n",
        "\n",
        "    # Añadir al nuevo DataFrame\n",
        "    new_df = pd.concat([new_df, condition_df], ignore_index=True)\n",
        "\n",
        "# 5. Definir las edades y los porcentajes para cada condición\n",
        "conditions = {\n",
        "    'Diabetes': (60, 10, 0.8),\n",
        "    'Arthritis': (75, 15, 0.9),\n",
        "    'Obesity': (30, 20, 0.7),\n",
        "    'Hypertension': (55, 15, 0.85),\n",
        "    'Cancer': (65, 10, 0.95),\n",
        "    'Asthma': (20, 15, 0.9)\n",
        "}\n",
        "\n",
        "for condition, (mean_age, std_dev, replace_percentage) in conditions.items():\n",
        "    # Filtrar pacientes con la condición actual\n",
        "    condition_df = new_df[new_df['Medical Condition'] == condition]\n",
        "\n",
        "    # Calcular el número de pacientes a reemplazar\n",
        "    num_to_replace = int(len(condition_df) * replace_percentage)\n",
        "\n",
        "    # Seleccionar aleatoriamente pacientes para reemplazar\n",
        "    indices_to_replace = np.random.choice(condition_df.index, num_to_replace, replace=False)\n",
        "\n",
        "    # Generar edades basadas en una distribución normal\n",
        "    new_ages = np.random.normal(mean_age, std_dev, num_to_replace).astype(int)\n",
        "\n",
        "    # Aplicar los nuevos valores de edad\n",
        "    new_df.loc[indices_to_replace, 'Age'] = new_ages\n",
        "\n",
        "# Mostrar los resultados para verificar\n",
        "print(new_df['Medical Condition'].value_counts())\n",
        "print(new_df.groupby('Medical Condition')['Age'].describe())"
      ],
      "metadata": {
        "colab": {
          "base_uri": "https://localhost:8080/"
        },
        "collapsed": true,
        "id": "zrFKdagfKSJS",
        "outputId": "8424247b-fcaa-44c5-a925-ba2204727336"
      },
      "execution_count": 20,
      "outputs": [
        {
          "output_type": "stream",
          "name": "stdout",
          "text": [
            "Medical Condition\n",
            "Diabetes        9304\n",
            "Hypertension    9245\n",
            "Obesity         9231\n",
            "Arthritis       8880\n",
            "Asthma          7770\n",
            "Cancer          4440\n",
            "Name: count, dtype: int64\n",
            "                    count       mean        std   min   25%   50%   75%    max\n",
            "Medical Condition                                                             \n",
            "Arthritis          8880.0  74.519032  14.526993  21.0  65.0  75.0  84.0  130.0\n",
            "Asthma             7770.0  19.786358  14.703328 -36.0  10.0  20.0  30.0   78.0\n",
            "Cancer             4440.0  64.405856   9.999061  28.0  58.0  64.5  71.0  100.0\n",
            "Diabetes           9304.0  59.405847  10.125088  18.0  53.0  60.0  66.0   97.0\n",
            "Hypertension       9245.0  54.560411  15.102332   0.0  44.0  55.0  65.0  118.0\n",
            "Obesity            9231.0  29.983750  20.065039 -47.0  16.0  30.0  43.0  107.0\n"
          ]
        }
      ]
    },
    {
      "cell_type": "markdown",
      "source": [
        "Ahora cambiaremos la distribución de medicamentos por unos más coherentes."
      ],
      "metadata": {
        "id": "1YqgSccMOJFS"
      }
    },
    {
      "cell_type": "code",
      "source": [
        "# 1. Definir medicamentos más realistas y su frecuencia para cada condición\n",
        "medications = {\n",
        "    'Diabetes': (['Metformin', 'Insulin', 'Glipizide'], [0.2, 0.7, 0.1]),  # Ejemplo: ponderaciones para Diabetes\n",
        "    'Arthritis': (['Methylprednisolone', 'Acetaminophen', 'Diclofenac'], [0.6, 0.1, 0.3]),  # Ejemplo: ponderaciones para Arthritis\n",
        "    'Obesity': (['Semaglutide', 'Phentermine', 'Lorcaserin'], [0.5, 0.3, 0.2]),  # Ejemplo: ponderaciones para Obesity\n",
        "    'Hypertension': (['Captopril', 'Nifedipine', 'Nitroglycerine'], [0.4, 0.35, 0.25]),  # Ejemplo: ponderaciones para Hypertension\n",
        "    'Cancer': (['Paclitaxel', 'Cisplatin', 'Doxorubicin'], [0.4, 0.4, 0.2]),  # Ejemplo: ponderaciones para Cancer\n",
        "    'Asthma': (['Albuterol', 'Fluticasone', 'Montelukast'], [0.4, 0.5, 0.1])  # Ejemplo: ponderaciones para Asthma\n",
        "}\n",
        "\n",
        "# 2. Reemplazar medicamentos en el DataFrame\n",
        "for condition, (med_list, weights) in medications.items():\n",
        "    # Filtrar pacientes con la condición actual\n",
        "    condition_df = new_df[new_df['Medical Condition'] == condition]\n",
        "\n",
        "    # Calcular el número de pacientes a reemplazar (por ejemplo, reemplazar el 50% de los medicamentos)\n",
        "    num_to_replace = int(len(condition_df) * 0.8)  # Cambia el porcentaje según sea necesario\n",
        "\n",
        "    # Seleccionar aleatoriamente pacientes para reemplazar\n",
        "    indices_to_replace = np.random.choice(condition_df.index, num_to_replace, replace=False)\n",
        "\n",
        "    # Generar medicamentos basados en las ponderaciones\n",
        "    new_medications = np.random.choice(med_list, num_to_replace, p=weights)\n",
        "\n",
        "    # Aplicar los nuevos valores de medicamento\n",
        "    new_df.loc[indices_to_replace, 'Medication'] = new_medications\n"
      ],
      "metadata": {
        "colab": {
          "base_uri": "https://localhost:8080/",
          "height": 17
        },
        "id": "GRkFZ0HOOInu",
        "outputId": "643f10bc-ebda-486f-aead-2b49949ce763"
      },
      "execution_count": 26,
      "outputs": [
        {
          "output_type": "display_data",
          "data": {
            "text/plain": [
              "<IPython.core.display.Javascript object>"
            ],
            "application/javascript": [
              "\n",
              "    async function download(id, filename, size) {\n",
              "      if (!google.colab.kernel.accessAllowed) {\n",
              "        return;\n",
              "      }\n",
              "      const div = document.createElement('div');\n",
              "      const label = document.createElement('label');\n",
              "      label.textContent = `Downloading \"${filename}\": `;\n",
              "      div.appendChild(label);\n",
              "      const progress = document.createElement('progress');\n",
              "      progress.max = size;\n",
              "      div.appendChild(progress);\n",
              "      document.body.appendChild(div);\n",
              "\n",
              "      const buffers = [];\n",
              "      let downloaded = 0;\n",
              "\n",
              "      const channel = await google.colab.kernel.comms.open(id);\n",
              "      // Send a message to notify the kernel that we're ready.\n",
              "      channel.send({})\n",
              "\n",
              "      for await (const message of channel.messages) {\n",
              "        // Send a message to notify the kernel that we're ready.\n",
              "        channel.send({})\n",
              "        if (message.buffers) {\n",
              "          for (const buffer of message.buffers) {\n",
              "            buffers.push(buffer);\n",
              "            downloaded += buffer.byteLength;\n",
              "            progress.value = downloaded;\n",
              "          }\n",
              "        }\n",
              "      }\n",
              "      const blob = new Blob(buffers, {type: 'application/binary'});\n",
              "      const a = document.createElement('a');\n",
              "      a.href = window.URL.createObjectURL(blob);\n",
              "      a.download = filename;\n",
              "      div.appendChild(a);\n",
              "      a.click();\n",
              "      div.remove();\n",
              "    }\n",
              "  "
            ]
          },
          "metadata": {}
        },
        {
          "output_type": "display_data",
          "data": {
            "text/plain": [
              "<IPython.core.display.Javascript object>"
            ],
            "application/javascript": [
              "download(\"download_17cd4f4f-747c-4c53-bc5c-b8fec2e62363\", \"modified_data.csv\", 7447713)"
            ]
          },
          "metadata": {}
        }
      ]
    },
    {
      "cell_type": "code",
      "source": [],
      "metadata": {
        "id": "qK4upEzeOG_b"
      },
      "execution_count": null,
      "outputs": []
    }
  ]
}