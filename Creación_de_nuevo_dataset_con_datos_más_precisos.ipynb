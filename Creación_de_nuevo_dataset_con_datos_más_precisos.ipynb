{
  "nbformat": 4,
  "nbformat_minor": 0,
  "metadata": {
    "colab": {
      "provenance": [],
      "authorship_tag": "ABX9TyOqOEBtzdyDCpSHGkT7zCsg",
      "include_colab_link": true
    },
    "kernelspec": {
      "name": "python3",
      "display_name": "Python 3"
    },
    "language_info": {
      "name": "python"
    }
  },
  "cells": [
    {
      "cell_type": "markdown",
      "metadata": {
        "id": "view-in-github",
        "colab_type": "text"
      },
      "source": [
        "<a href=\"https://colab.research.google.com/github/Maynex69/Gestion-de-ingresos-hospitalarios/blob/main/Creaci%C3%B3n_de_nuevo_dataset_con_datos_m%C3%A1s_precisos.ipynb\" target=\"_parent\"><img src=\"https://colab.research.google.com/assets/colab-badge.svg\" alt=\"Open In Colab\"/></a>"
      ]
    },
    {
      "cell_type": "code",
      "source": [
        "import pandas as pd\n",
        "import numpy as np\n",
        "\n",
        "df = pd.read_csv('/content/dataset.csv', sep=',', header=0, index_col=None)\n",
        "\n",
        "# Contar el número de veces que aparece cada condición médica\n",
        "condition_counts = df['Medical Condition'].value_counts()\n",
        "\n",
        "# Mostrar los resultados\n",
        "print(condition_counts)"
      ],
      "metadata": {
        "colab": {
          "base_uri": "https://localhost:8080/"
        },
        "id": "A5dr7qrNCRmV",
        "outputId": "857a0cda-6ebc-4da8-8fa3-3f2c9d630f57"
      },
      "execution_count": 50,
      "outputs": [
        {
          "output_type": "stream",
          "name": "stdout",
          "text": [
            "Medical Condition\n",
            "Arthritis       9308\n",
            "Diabetes        9304\n",
            "Hypertension    9245\n",
            "Obesity         9231\n",
            "Cancer          9227\n",
            "Asthma          9185\n",
            "Name: count, dtype: int64\n"
          ]
        }
      ]
    },
    {
      "cell_type": "markdown",
      "source": [
        "Reemplazando la cantidad de pacientes en nuestro Dataset por datos relativamente más reales, así como edades relativamente más coherentes."
      ],
      "metadata": {
        "id": "GOjzf-3TN1Wb"
      }
    },
    {
      "cell_type": "code",
      "source": [
        "# 1. Definir la distribución deseada para cada condición médica\n",
        "desired_distribution = {\n",
        "    'Diabetes': 0.21,\n",
        "    'Arthritis': 0.16,\n",
        "    'Obesity': 0.2,\n",
        "    'Hypertension': 0.21,\n",
        "    'Cancer': 0.1,\n",
        "    'Asthma': 0.12\n",
        "}\n",
        "\n",
        "# 2. Contar el número total de pacientes\n",
        "total_patients = len(df)\n",
        "\n",
        "# 3. Calcular el número deseado de pacientes por condición\n",
        "desired_counts = {cond: int(total_patients * perc) for cond, perc in desired_distribution.items()}\n",
        "\n",
        "# 4. Crear un nuevo DataFrame con la redistribución deseada\n",
        "new_df = pd.DataFrame()\n",
        "\n",
        "for condition, desired_count in desired_counts.items():\n",
        "    # Filtrar pacientes con la condición actual\n",
        "    condition_df = df[df['Medical Condition'] == condition]\n",
        "\n",
        "    # Si hay suficientes pacientes para la condición, muestrea o selecciona el número deseado\n",
        "    if len(condition_df) > desired_count:\n",
        "        condition_df = condition_df.sample(desired_count, random_state=42)  # Muestreo aleatorio\n",
        "    else:\n",
        "        # Si no hay suficientes pacientes, usa todos los disponibles\n",
        "        condition_df = condition_df\n",
        "\n",
        "    # Añadir al nuevo DataFrame\n",
        "    new_df = pd.concat([new_df, condition_df], ignore_index=True)\n",
        "\n",
        "# 5. Definir las edades y los porcentajes para cada condición\n",
        "conditions = {\n",
        "    'Diabetes': (60, 10, 0.8),\n",
        "    'Arthritis': (75, 15, 0.9),\n",
        "    'Obesity': (30, 20, 0.7),\n",
        "    'Hypertension': (55, 15, 0.85),\n",
        "    'Cancer': (65, 10, 0.95),\n",
        "    'Asthma': (20, 15, 0.9)\n",
        "}\n",
        "\n",
        "for condition, (mean_age, std_dev, replace_percentage) in conditions.items():\n",
        "    # Filtrar pacientes con la condición actual\n",
        "    condition_df = new_df[new_df['Medical Condition'] == condition]\n",
        "\n",
        "    # Calcular el número de pacientes a reemplazar\n",
        "    num_to_replace = int(len(condition_df) * replace_percentage)\n",
        "\n",
        "    # Seleccionar aleatoriamente pacientes para reemplazar\n",
        "    indices_to_replace = np.random.choice(condition_df.index, num_to_replace, replace=False)\n",
        "\n",
        "    # Generar edades basadas en una distribución normal\n",
        "    new_ages = np.random.normal(mean_age, std_dev, num_to_replace).astype(int)\n",
        "\n",
        "    # Aplicar los nuevos valores de edad\n",
        "    new_df.loc[indices_to_replace, 'Age'] = new_ages\n"
      ],
      "metadata": {
        "collapsed": true,
        "id": "zrFKdagfKSJS"
      },
      "execution_count": 51,
      "outputs": []
    },
    {
      "cell_type": "markdown",
      "source": [
        "Ahora cambiaremos la distribución de medicamentos por unos más coherentes."
      ],
      "metadata": {
        "id": "1YqgSccMOJFS"
      }
    },
    {
      "cell_type": "code",
      "source": [
        "# 1. Definir medicamentos más realistas y su frecuencia para cada condición\n",
        "medications = {\n",
        "    'Diabetes': (['Metformin', 'Insulin', 'Glipizide'], [0.2, 0.7, 0.1]),  # Ejemplo: ponderaciones para Diabetes\n",
        "    'Arthritis': (['Ibuprofen', 'Diclofenac', 'Methylprednisolone'], [0.5, 0.3, 0.2]),  # Methylprednisolone agregado\n",
        "    'Obesity': (['Semaglutide', 'Phentermine', 'Lorcaserin'], [0.5, 0.3, 0.2]),  # Ejemplo: ponderaciones para Obesity\n",
        "    'Hypertension': (['Captopril', 'Nifedipine', 'Nitroglycerine'], [0.45, 0.35, 0.2]),  # Ejemplo: ponderaciones para Hypertension\n",
        "    'Cancer': (['Paclitaxel', 'Cisplatin'], [0.6, 0.4]),  # Methylprednisolone eliminado o reducido\n",
        "    'Asthma': (['Albuterol', 'Fluticasone', 'Methylprednisolone'], [0.4, 0.5, 0.1])  # Ejemplo: ponderaciones para Asthma\n",
        "}\n",
        "\n",
        "# 2. Reemplazar medicamentos en el DataFrame\n",
        "for condition, (med_list, weights) in medications.items():\n",
        "    # Filtrar pacientes con la condición actual\n",
        "    condition_df = new_df[new_df['Medical Condition'] == condition]\n",
        "\n",
        "    # Calcular el número de pacientes a reemplazar\n",
        "    num_to_replace = int(len(condition_df) * 1)  # Cambia el porcentaje según sea necesario\n",
        "\n",
        "    # Seleccionar aleatoriamente pacientes para reemplazar\n",
        "    indices_to_replace = np.random.choice(condition_df.index, num_to_replace, replace=False)\n",
        "\n",
        "    # Generar medicamentos basados en las ponderaciones\n",
        "    new_medications = np.random.choice(med_list, num_to_replace, p=weights)\n",
        "\n",
        "    # Aplicar los nuevos valores de medicamento\n",
        "    new_df.loc[indices_to_replace, 'Medication'] = new_medications\n",
        "\n",
        "# 1. Exportar el DataFrame a un archivo CSV\n",
        "new_df.to_csv('medicamentos_filtrados.csv', index=False)\n",
        "\n",
        "# Agrupar por 'Medical Condition' y 'Medication' y contar el número de pacientes (filas)\n",
        "medication_counts = new_df.groupby(['Medical Condition', 'Medication']).size().reset_index(name='Patient Count')\n",
        "\n",
        "# Mostrar el DataFrame resultante\n",
        "print(new_df.Medication.value_counts())\n",
        "\n",
        "\n"
      ],
      "metadata": {
        "colab": {
          "base_uri": "https://localhost:8080/"
        },
        "id": "GRkFZ0HOOInu",
        "outputId": "878c88eb-e5c4-4e14-b4d1-2452067c6709"
      },
      "execution_count": 55,
      "outputs": [
        {
          "output_type": "stream",
          "name": "stdout",
          "text": [
            "Medication\n",
            "Insulin               6446\n",
            "Semaglutide           4617\n",
            "Ibuprofen             4417\n",
            "Captopril             4238\n",
            "Paclitaxel            3348\n",
            "Fluticasone           3287\n",
            "Nifedipine            3151\n",
            "Phentermine           2783\n",
            "Diclofenac            2695\n",
            "Albuterol             2650\n",
            "Methylprednisolone    2491\n",
            "Cisplatin             2202\n",
            "Metformin             1916\n",
            "Nitroglycerine        1856\n",
            "Lorcaserin            1831\n",
            "Glipizide              942\n",
            "Name: count, dtype: int64\n"
          ]
        }
      ]
    },
    {
      "cell_type": "code",
      "source": [],
      "metadata": {
        "id": "qK4upEzeOG_b"
      },
      "execution_count": 52,
      "outputs": []
    }
  ]
}